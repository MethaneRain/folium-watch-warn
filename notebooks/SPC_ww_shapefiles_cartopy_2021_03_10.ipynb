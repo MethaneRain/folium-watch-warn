{
 "cells": [
  {
   "cell_type": "raw",
   "metadata": {},
   "source": [
    "https://ftp.wpc.ncep.noaa.gov/shapefiles/ww/ABOUT_WINTER_WEATHER_SHAPEFILES.txt\n",
    "https://ftp.wpc.ncep.noaa.gov/shapefiles/ww/"
   ]
  },
  {
   "cell_type": "code",
   "execution_count": 1,
   "metadata": {},
   "outputs": [],
   "source": [
    "%matplotlib inline"
   ]
  },
  {
   "cell_type": "code",
   "execution_count": 2,
   "metadata": {},
   "outputs": [
    {
     "name": "stdout",
     "output_type": "stream",
     "text": [
      "/Users/chowdahead/Python_Scripts\n"
     ]
    }
   ],
   "source": [
    "cd Python_Scripts/"
   ]
  },
  {
   "cell_type": "code",
   "execution_count": 3,
   "metadata": {},
   "outputs": [],
   "source": [
    "import cartopy.crs as ccrs\n",
    "import cartopy.feature as cfeature\n",
    "import matplotlib.pyplot as plt\n",
    "from matplotlib import patheffects\n",
    "from datetime import datetime\n",
    "from matplotlib.offsetbox import TextArea, VPacker, AnnotationBbox\n",
    "import glob\n",
    "\n",
    "from cartopy.io.shapereader import Reader\n",
    "from cartopy.feature import ShapelyFeature\n",
    "\n",
    "import geopandas as gp\n",
    "\n",
    "import numpy as np"
   ]
  },
  {
   "cell_type": "code",
   "execution_count": null,
   "metadata": {},
   "outputs": [],
   "source": [
    "import map_fig"
   ]
  },
  {
   "cell_type": "code",
   "execution_count": null,
   "metadata": {},
   "outputs": [],
   "source": [
    "fig,ax = map_fig.create_map()\n",
    "fig.savefig(\"uhhh.png\")"
   ]
  },
  {
   "cell_type": "code",
   "execution_count": null,
   "metadata": {},
   "outputs": [],
   "source": [
    "cd /Users/chowdahead/wx-data"
   ]
  },
  {
   "cell_type": "code",
   "execution_count": 14,
   "metadata": {},
   "outputs": [
    {
     "data": {
      "text/plain": [
       "'2021_03_18'"
      ]
     },
     "execution_count": 14,
     "metadata": {},
     "output_type": "execute_result"
    }
   ],
   "source": [
    "today = datetime.utcnow()\n",
    "today_date = f\"{today:%Y_%m_%d}\"\n",
    "today_date"
   ]
  },
  {
   "cell_type": "code",
   "execution_count": 6,
   "metadata": {},
   "outputs": [],
   "source": [
    "base_path = \"/Users/chowdahead/wx-data\"\n",
    "file_path = f\"{base_path}/{today_date}\""
   ]
  },
  {
   "cell_type": "markdown",
   "metadata": {},
   "source": [
    "### Probablility of Ice > 0.25\"\n",
    "https://ftp.wpc.ncep.noaa.gov/shapefiles/ww/day1/DAY1_PICEZ_GT_25_latest.tar\n",
    "\n",
    "### Probablility of Snow greater than 4, 8, and 12\"\n",
    "https://ftp.wpc.ncep.noaa.gov/shapefiles/ww/day1/DAY1_PSNOW_GT_04_latest.tar\n",
    "https://ftp.wpc.ncep.noaa.gov/shapefiles/ww/day1/DAY1_PSNOW_GT_08_latest.tar\n",
    "https://ftp.wpc.ncep.noaa.gov/shapefiles/ww/day1/DAY1_PSNOW_GT_12_latest.tar\n",
    "\n",
    "### Also has roughly a month of archived data"
   ]
  },
  {
   "cell_type": "code",
   "execution_count": 8,
   "metadata": {},
   "outputs": [],
   "source": [
    "snow_tot = 4\n",
    "snow_tot = f\"{snow_tot:02d}\"\n",
    "day_num = 2"
   ]
  },
  {
   "cell_type": "code",
   "execution_count": null,
   "metadata": {},
   "outputs": [],
   "source": [
    "! curl -L https://ftp.wpc.ncep.noaa.gov/shapefiles/ww/day\"$day_num\"/DAY\"$day_num\"_PSNOW_GT_\"$snow_tot\"_latest.tar > \"$file_path\"/DAY\"$day_num\"_PSNOW_GT_\"$snow_tot\"_latest.tar\n",
    "! mkdir \"$file_path\"/DAY\"$day_num\"_PSNOW_GT_\"$snow_tot\"_latest/\n",
    "! tar xvzf \"$file_path\"/DAY\"$day_num\"_PSNOW_GT_\"$snow_tot\"_latest.tar -C \"$file_path\"/DAY\"$day_num\"_PSNOW_GT_\"$snow_tot\"_latest/"
   ]
  },
  {
   "cell_type": "code",
   "execution_count": 19,
   "metadata": {},
   "outputs": [
    {
     "name": "stdout",
     "output_type": "stream",
     "text": [
      "  % Total    % Received % Xferd  Average Speed   Time    Time     Time  Current\n",
      "                                 Dload  Upload   Total   Spent    Left  Speed\n",
      "100 10240  100 10240    0     0  12004      0 --:--:-- --:--:-- --:--:-- 11990\n",
      "mkdir: /Users/chowdahead/wx-data/2021_03_17/DAY1_PICEZ_GT_25_latest: File exists\n",
      "x wwd_day1_picez_gt_25.dbf\n",
      "x wwd_day1_picez_gt_25.prj\n",
      "x wwd_day1_picez_gt_25.shp\n",
      "x wwd_day1_picez_gt_25.shx\n"
     ]
    }
   ],
   "source": [
    "! curl -L https://ftp.wpc.ncep.noaa.gov/shapefiles/ww/day\"$day_num\"/DAY\"$day_num\"_PICEZ_GT_25_latest.tar > \"$file_path\"/DAY\"$day_num\"_PICEZ_GT_25_latest.tar\n",
    "! mkdir \"$file_path\"/DAY\"$day_num\"_PICEZ_GT_25_latest\n",
    "! tar xvzf \"$file_path\"/DAY\"$day_num\"_PICEZ_GT_25_latest.tar -C \"$file_path\"/DAY\"$day_num\"_PICEZ_GT_25_latest"
   ]
  },
  {
   "cell_type": "code",
   "execution_count": 10,
   "metadata": {},
   "outputs": [
    {
     "data": {
      "text/plain": [
       "'DAY1_PSNOW_GT_04_latest'"
      ]
     },
     "execution_count": 10,
     "metadata": {},
     "output_type": "execute_result"
    }
   ],
   "source": [
    "PATH = f\"DAY{day_num}_PSNOW_GT_04_latest\"\n",
    "PATH"
   ]
  },
  {
   "cell_type": "code",
   "execution_count": 20,
   "metadata": {},
   "outputs": [
    {
     "data": {
      "text/plain": [
       "'DAY1_PICEZ_GT_25_latest'"
      ]
     },
     "execution_count": 20,
     "metadata": {},
     "output_type": "execute_result"
    }
   ],
   "source": [
    "PATH = f\"DAY{day_num}_PICEZ_GT_25_latest\"\n",
    "PATH"
   ]
  },
  {
   "cell_type": "code",
   "execution_count": 21,
   "metadata": {},
   "outputs": [
    {
     "data": {
      "text/plain": [
       "['/Users/chowdahead/wx-data/2021_03_17/DAY1_PICEZ_GT_25_latest/wwd_day1_picez_gt_25.shp']"
      ]
     },
     "execution_count": 21,
     "metadata": {},
     "output_type": "execute_result"
    }
   ],
   "source": [
    "\n",
    "path = f\"{file_path}/{PATH}\"\n",
    "shp =  glob.glob(f\"{path}/*.shp\")\n",
    "shp"
   ]
  },
  {
   "cell_type": "code",
   "execution_count": 22,
   "metadata": {},
   "outputs": [
    {
     "name": "stdout",
     "output_type": "stream",
     "text": [
      "Shape of the dataframe: (1, 8)\n",
      "Projection of dataframe: GEOGCS[\"GCS_Sphere_EMEP\",DATUM[\"D_Sphere_EMEP\",SPHEROID[\"Sphere_EMEP\",6371200,0]],PRIMEM[\"Greenwich\",0],UNIT[\"Degree\",0.0174532925199433],AXIS[\"Longitude\",EAST],AXIS[\"Latitude\",NORTH]]\n"
     ]
    },
    {
     "data": {
      "text/html": [
       "<div>\n",
       "<style scoped>\n",
       "    .dataframe tbody tr th:only-of-type {\n",
       "        vertical-align: middle;\n",
       "    }\n",
       "\n",
       "    .dataframe tbody tr th {\n",
       "        vertical-align: top;\n",
       "    }\n",
       "\n",
       "    .dataframe thead th {\n",
       "        text-align: right;\n",
       "    }\n",
       "</style>\n",
       "<table border=\"1\" class=\"dataframe\">\n",
       "  <thead>\n",
       "    <tr style=\"text-align: right;\">\n",
       "      <th></th>\n",
       "      <th>ID</th>\n",
       "      <th>PRODUCT</th>\n",
       "      <th>VALID_TIME</th>\n",
       "      <th>OUTLOOK</th>\n",
       "      <th>ISSUE_TIME</th>\n",
       "      <th>START_TIME</th>\n",
       "      <th>END_TIME</th>\n",
       "      <th>geometry</th>\n",
       "    </tr>\n",
       "  </thead>\n",
       "  <tbody>\n",
       "    <tr>\n",
       "      <th>0</th>\n",
       "      <td>1</td>\n",
       "      <td>Day 1 probability of ice greater than .25 inches</td>\n",
       "      <td>00Z 03/19/21 - 00Z 03/20/21</td>\n",
       "      <td>Less than 10 percent</td>\n",
       "      <td>2021-03-18 20:16:51</td>\n",
       "      <td>2021-03-19 00:00:00</td>\n",
       "      <td>2021-03-20 00:00:00</td>\n",
       "      <td>POLYGON ((-88.00000 25.00000, -87.90000 25.000...</td>\n",
       "    </tr>\n",
       "  </tbody>\n",
       "</table>\n",
       "</div>"
      ],
      "text/plain": [
       "   ID                                           PRODUCT  \\\n",
       "0   1  Day 1 probability of ice greater than .25 inches   \n",
       "\n",
       "                    VALID_TIME               OUTLOOK           ISSUE_TIME  \\\n",
       "0  00Z 03/19/21 - 00Z 03/20/21  Less than 10 percent  2021-03-18 20:16:51   \n",
       "\n",
       "            START_TIME             END_TIME  \\\n",
       "0  2021-03-19 00:00:00  2021-03-20 00:00:00   \n",
       "\n",
       "                                            geometry  \n",
       "0  POLYGON ((-88.00000 25.00000, -87.90000 25.000...  "
      ]
     },
     "execution_count": 22,
     "metadata": {},
     "output_type": "execute_result"
    }
   ],
   "source": [
    "\n",
    "shp = shp[0]\n",
    "\"\"\"\n",
    " current_all.shp\n",
    "x current_all.shx\n",
    "x current_all.dbf\n",
    "x current_all.cpg\n",
    "x current_all.prj\n",
    "\"\"\"\n",
    "usa = gp.read_file(shp)\n",
    "print(\"Shape of the dataframe: {}\".format(usa.shape))\n",
    "print(\"Projection of dataframe: {}\".format(usa.crs))\n",
    "#usa #last 5 records in dataframe\n",
    "usa.head()"
   ]
  },
  {
   "cell_type": "code",
   "execution_count": 10,
   "metadata": {},
   "outputs": [
    {
     "data": {
      "text/plain": [
       "<Geographic 2D CRS: GEOGCS[\"GCS_Sphere_EMEP\",DATUM[\"D_Sphere_EMEP\",SPH ...>\n",
       "Name: GCS_Sphere_EMEP\n",
       "Axis Info [ellipsoidal]:\n",
       "- lon[east]: Longitude (Degree)\n",
       "- lat[north]: Latitude (Degree)\n",
       "Area of Use:\n",
       "- undefined\n",
       "Datum: D_Sphere_EMEP\n",
       "- Ellipsoid: Sphere_EMEP\n",
       "- Prime Meridian: Greenwich"
      ]
     },
     "execution_count": 10,
     "metadata": {},
     "output_type": "execute_result"
    }
   ],
   "source": [
    "usa.crs"
   ]
  },
  {
   "cell_type": "raw",
   "metadata": {
    "scrolled": false
   },
   "source": [
    "snow_tot = \"4\"\n",
    "day_num = \"1\"\n",
    "path = f\"/Users/chowdahead/wx-data/DAY{day_num}_PSNOW_GT_{snow_tot:02d}_latest\"\n",
    "shp =  glob.glob(f\"{path}/*.shp\")\n",
    "shp = shp[0]\n",
    "\"\"\"\n",
    " current_all.shp\n",
    "x current_all.shx\n",
    "x current_all.dbf\n",
    "x current_all.cpg\n",
    "x current_all.prj\n",
    "\"\"\"\n",
    "usa = gp.read_file(shp)\n",
    "print(\"Shape of the dataframe: {}\".format(usa.shape))\n",
    "print(\"Projection of dataframe: {}\".format(usa.crs))\n",
    "#usa #last 5 records in dataframe"
   ]
  },
  {
   "cell_type": "code",
   "execution_count": 23,
   "metadata": {},
   "outputs": [
    {
     "data": {
      "text/plain": [
       "array(['Less than 10 percent'], dtype=object)"
      ]
     },
     "execution_count": 23,
     "metadata": {},
     "output_type": "execute_result"
    }
   ],
   "source": [
    "usa.OUTLOOK.unique()"
   ]
  },
  {
   "cell_type": "code",
   "execution_count": 24,
   "metadata": {},
   "outputs": [
    {
     "data": {
      "text/plain": [
       "<Geographic 2D CRS: GEOGCS[\"GCS_Sphere_EMEP\",DATUM[\"D_Sphere_EMEP\",SPH ...>\n",
       "Name: GCS_Sphere_EMEP\n",
       "Axis Info [ellipsoidal]:\n",
       "- lon[east]: Longitude (Degree)\n",
       "- lat[north]: Latitude (Degree)\n",
       "Area of Use:\n",
       "- undefined\n",
       "Datum: D_Sphere_EMEP\n",
       "- Ellipsoid: Sphere_EMEP\n",
       "- Prime Meridian: Greenwich"
      ]
     },
     "execution_count": 24,
     "metadata": {},
     "output_type": "execute_result"
    }
   ],
   "source": [
    "crs = usa.crs\n",
    "crs"
   ]
  },
  {
   "cell_type": "code",
   "execution_count": 31,
   "metadata": {},
   "outputs": [
    {
     "data": {
      "text/plain": [
       "0    POLYGON ((-88.00000 25.00000, -87.90000 25.000...\n",
       "Name: geometry, dtype: geometry"
      ]
     },
     "execution_count": 31,
     "metadata": {},
     "output_type": "execute_result"
    }
   ],
   "source": [
    "slght = usa[usa.OUTLOOK == 'Less than 10 percent']\n",
    "slght.geometry"
   ]
  },
  {
   "cell_type": "code",
   "execution_count": 25,
   "metadata": {},
   "outputs": [
    {
     "data": {
      "text/html": [
       "<div>\n",
       "<style scoped>\n",
       "    .dataframe tbody tr th:only-of-type {\n",
       "        vertical-align: middle;\n",
       "    }\n",
       "\n",
       "    .dataframe tbody tr th {\n",
       "        vertical-align: top;\n",
       "    }\n",
       "\n",
       "    .dataframe thead th {\n",
       "        text-align: right;\n",
       "    }\n",
       "</style>\n",
       "<table border=\"1\" class=\"dataframe\">\n",
       "  <thead>\n",
       "    <tr style=\"text-align: right;\">\n",
       "      <th></th>\n",
       "      <th>ID</th>\n",
       "      <th>PRODUCT</th>\n",
       "      <th>VALID_TIME</th>\n",
       "      <th>OUTLOOK</th>\n",
       "      <th>ISSUE_TIME</th>\n",
       "      <th>START_TIME</th>\n",
       "      <th>END_TIME</th>\n",
       "      <th>geometry</th>\n",
       "    </tr>\n",
       "  </thead>\n",
       "  <tbody>\n",
       "  </tbody>\n",
       "</table>\n",
       "</div>"
      ],
      "text/plain": [
       "Empty GeoDataFrame\n",
       "Columns: [ID, PRODUCT, VALID_TIME, OUTLOOK, ISSUE_TIME, START_TIME, END_TIME, geometry]\n",
       "Index: []"
      ]
     },
     "execution_count": 25,
     "metadata": {},
     "output_type": "execute_result"
    }
   ],
   "source": [
    "moder = usa[usa.OUTLOOK == 'Moderate (40-69%)']\n",
    "moder"
   ]
  },
  {
   "cell_type": "code",
   "execution_count": 26,
   "metadata": {},
   "outputs": [
    {
     "data": {
      "text/html": [
       "<div>\n",
       "<style scoped>\n",
       "    .dataframe tbody tr th:only-of-type {\n",
       "        vertical-align: middle;\n",
       "    }\n",
       "\n",
       "    .dataframe tbody tr th {\n",
       "        vertical-align: top;\n",
       "    }\n",
       "\n",
       "    .dataframe thead th {\n",
       "        text-align: right;\n",
       "    }\n",
       "</style>\n",
       "<table border=\"1\" class=\"dataframe\">\n",
       "  <thead>\n",
       "    <tr style=\"text-align: right;\">\n",
       "      <th></th>\n",
       "      <th>ID</th>\n",
       "      <th>PRODUCT</th>\n",
       "      <th>VALID_TIME</th>\n",
       "      <th>OUTLOOK</th>\n",
       "      <th>ISSUE_TIME</th>\n",
       "      <th>START_TIME</th>\n",
       "      <th>END_TIME</th>\n",
       "      <th>geometry</th>\n",
       "    </tr>\n",
       "  </thead>\n",
       "  <tbody>\n",
       "  </tbody>\n",
       "</table>\n",
       "</div>"
      ],
      "text/plain": [
       "Empty GeoDataFrame\n",
       "Columns: [ID, PRODUCT, VALID_TIME, OUTLOOK, ISSUE_TIME, START_TIME, END_TIME, geometry]\n",
       "Index: []"
      ]
     },
     "execution_count": 26,
     "metadata": {},
     "output_type": "execute_result"
    }
   ],
   "source": [
    "high = usa[usa.OUTLOOK == 'High (70-100%)']\n",
    "high"
   ]
  },
  {
   "cell_type": "code",
   "execution_count": 30,
   "metadata": {
    "scrolled": false
   },
   "outputs": [
    {
     "name": "stdout",
     "output_type": "stream",
     "text": [
      "2021_03_18_day1_ice_prob_GT25.png\n"
     ]
    },
    {
     "data": {
      "image/png": "[encoded data removed]",
      "text/plain": [
       "<Figure size 720x576 with 1 Axes>"
      ]
     },
     "metadata": {
      "needs_background": "light"
     },
     "output_type": "display_data"
    }
   ],
   "source": [
    "\n",
    "   \n",
    "    # Set Projection of Plot\n",
    "plotcrs = ccrs.LambertConformal(central_latitude=[30, 60], central_longitude=-100)\n",
    "    \n",
    "    # Lat/Lon Extents [lon0,lon1,lat0,lat1]\n",
    "extent = [-130., -65, 20., 60.]\n",
    "    \n",
    "    \n",
    "fig = plt.figure(figsize=(10., 8.))\n",
    "    \n",
    "    #add_metpy_logo(fig, 25, 950, size='small')\n",
    "    \n",
    "                                        # Add the Map \n",
    "    #---------------------------------------------------------------------------------------------------\n",
    "ax = plt.subplot(111, projection=plotcrs)\n",
    "    \n",
    "    \n",
    "    # Set extent and plot map lines\n",
    "ax.set_extent(extent)\n",
    "         \n",
    "ax.coastlines(resolution='10m')\n",
    "    \n",
    "                                # Add State/Country Boundaries to Plot\n",
    "    #---------------------------------------------------------------------------------------------------    \n",
    "   \n",
    "    #ax.add_feature(cfeature.BORDERS,edgecolor=\"k\")\n",
    "    #ax.add_feature(cfeature.LAND,facecolor=\"k\",linewidth=0.2)\n",
    "    #ax.add_feature(cfeature.OCEAN,facecolor=\"k\",linewidth=0.2,edgecolor=\"k\")\n",
    "    #ax.add_feature(cfeature.LAKES,facecolor=\"k\",linewidth=0.2,edgecolor=\"k\",)\n",
    "    \n",
    "state_borders = cfeature.NaturalEarthFeature(\n",
    "                    category='cultural', name='admin_1_states_provinces_lines',\n",
    "                    scale='10m',facecolor='none')\n",
    "ax.add_feature(state_borders, edgecolor='k', linewidth=0.35)\n",
    "        \n",
    "country_borders = cfeature.NaturalEarthFeature(category='cultural',\n",
    "                    name='admin_0_countries',scale='10m', facecolor='none')\n",
    "ax.add_feature(country_borders,edgecolor='k',linewidth=0.2)\n",
    "    \n",
    "    \n",
    "lakes = cfeature.NaturalEarthFeature('physical', 'lakes', '50m',\n",
    "                                        facecolor=\"w\")\n",
    "ax.add_feature(lakes,edgecolor='k',linewidth=0.2)\n",
    "      \n",
    "#ax.add_feature(cfeature.BORDERS,edgecolor=\"w\")\n",
    "ax.add_feature(cfeature.LAND,facecolor=\"w\",linewidth=0.2)\n",
    "ax.add_feature(cfeature.OCEAN,facecolor=\"w\",linewidth=0.2,edgecolor=\"k\")\n",
    "\n",
    "#ax.add_feature(COUNTIES)\n",
    "#ax.add_geometries(elev[\"geometry\"],crs=ccrs.PlateCarree(),\n",
    "#                  facecolor=\"orange\",edgecolor=\"k\",alpha=0.5)\n",
    "#ax.add_geometries(crit[\"geometry\"],crs=ccrs.PlateCarree(),\n",
    "#                  facecolor=\"red\",edgecolor=\"k\",alpha=0.5)\n",
    "#ax.add_geometries(extr[\"geometry\"],crs=ccrs.PlateCarree(),\n",
    "#                  facecolor=\"k\",edgecolor=\"k\",alpha=0.5)\n",
    "\n",
    "ax.add_geometries(slght[\"geometry\"],crs=ccrs.PlateCarree(),\n",
    "                  facecolor=\"k\",edgecolor=\"k\",alpha=0.5)\n",
    "\n",
    "#ax.text(-129.5,20.3, \"Slight (10-39%)\", size=18,\n",
    "#        color=\"b\", bbox=dict(fc=\"none\"),transform=ccrs.PlateCarree())\n",
    "\n",
    "outline_effect = [patheffects.withStroke(linewidth=1.5, foreground='k')] \n",
    "texts = ['Elevated','Critical','Extreme']\n",
    "colors = ['orange','red','#FF69B4']\n",
    "Texts = []\n",
    "   # Set the font \n",
    "font = {'family': 'serif',\n",
    "        'color':  'darkred',\n",
    "        'weight': 'normal',\n",
    "        'size': 18,\n",
    "        }\n",
    "'''\n",
    "for t,c in zip(texts,colors):\n",
    "    Texts.append(TextArea(t,textprops=dict(color=c,fontsize=15,path_effects=outline_effect)))\n",
    "    \n",
    "texts_vbox = VPacker(children=Texts,pad=1,sep=5)\n",
    "ann = AnnotationBbox(texts_vbox,(.012,0.1),xycoords=ax.transAxes,\n",
    "                            box_alignment=(0,.5),bboxprops = \n",
    "                            dict(facecolor='w',boxstyle='round',edgecolor='k'))\n",
    "ann.set_figure(fig)\n",
    "fig.artists.append(ann)\n",
    "'''\n",
    "#prod = usa['PRODUCT'][0].replace(\"probability\",\"prob.\").replace(\"greater than\",\">\").replace(\"inches\",\"in.\")\n",
    "\n",
    "outline_effect2 = [patheffects.withStroke(linewidth=1.5, foreground='w')] \n",
    "ax.set_title(f\"Day {day_num} Significant WX\",loc='right',color='k', fontsize=12, weight='bold',\n",
    "            path_effects=outline_effect2)\n",
    "\n",
    "ax.set_title(usa[\"VALID_TIME\"][0],loc='left',color='k', fontsize=12, weight='bold',\n",
    "            path_effects=outline_effect2)\n",
    "\n",
    "#ax.set_title(usa[\"VALID_DATE\"][0],loc='left',color='k', fontsize=12, weight='bold',\n",
    "#            path_effects=outline_effect2)\n",
    "\n",
    "#prod_time = ax.text(0.99, 0.01,prod ,\n",
    "#                            horizontalalignment='right', transform=ax.transAxes,\n",
    "#                            color='white', fontsize=7, weight='bold')\n",
    "\n",
    "#prod_time.set_path_effects(outline_effect)\n",
    "    \n",
    "\n",
    "file_time = usa.ISSUE_TIME[0][:10].replace(\"-\",\"_\")\n",
    "file_time = f\"{file_time}_day{day_num}_ice_prob_GT25.png\"\n",
    "print(file_time)\n",
    "fig.savefig(file_time,bbox_inches=\"tight\",dpi=120)\n",
    "\n",
    "#print(f\"{file_time}_day{day_num}_snow_prob_GT{snow_tot}.png\")\n",
    "#fig.savefig(f\"{file_time}_day{day_num}_snow_prob_GT{snow_tot}.png\",bbox_inches=\"tight\",dpi=120)"
   ]
  },
  {
   "cell_type": "code",
   "execution_count": null,
   "metadata": {},
   "outputs": [],
   "source": [
    "elev.plot()"
   ]
  }
 ],
 "metadata": {
  "kernelspec": {
   "display_name": "Python 3",
   "language": "python",
   "name": "python3"
  },
  "language_info": {
   "codemirror_mode": {
    "name": "ipython",
    "version": 3
   },
   "file_extension": ".py",
   "mimetype": "text/x-python",
   "name": "python",
   "nbconvert_exporter": "python",
   "pygments_lexer": "ipython3",
   "version": "3.6.13"
  }
 },
 "nbformat": 4,
 "nbformat_minor": 4
}
