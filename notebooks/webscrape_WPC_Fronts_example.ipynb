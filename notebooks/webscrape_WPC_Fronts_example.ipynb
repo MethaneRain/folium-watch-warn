{
 "cells": [
  {
   "cell_type": "markdown",
   "metadata": {},
   "source": [
    "<h4><p style = \"font-family:georgia,garamond,serif;font-size:16px;font-style:italic;\">Grabbing Frontal and Surface High/Low Data from WPC current archive on THREDDS Server Using BeautifulSoup and Urllib</p></h4>"
   ]
  },
  {
   "cell_type": "code",
   "execution_count": 1,
   "metadata": {},
   "outputs": [],
   "source": [
    "# Imports\n",
    "\n",
    "import pandas as pd\n",
    "from bs4 import BeautifulSoup\n",
    "import urllib.request\n",
    "import requests\n",
    "from datetime import datetime"
   ]
  },
  {
   "cell_type": "markdown",
   "metadata": {},
   "source": [
    "#### Set a time and date for the desired file download"
   ]
  },
  {
   "cell_type": "code",
   "execution_count": 16,
   "metadata": {},
   "outputs": [],
   "source": [
    "date = datetime(2021,3,17,0)\n",
    "#date = datetime.now()\n",
    "HH = f\"{date:%H}\"\n",
    "MM = f\"{date:%m}\"\n",
    "DD = f\"{date:%d}\"\n",
    "YYYY = date.year\n",
    "\n",
    "URL = \"https://thredds-test.unidata.ucar.edu/thredds/catalog/noaaport/text/fronts/catalog.html\"\n",
    "response = urllib.request.urlopen(URL)\n",
    "html = response.read()\n",
    "\n",
    "soup = BeautifulSoup(html)\n"
   ]
  },
  {
   "cell_type": "markdown",
   "metadata": {},
   "source": [
    "#### Get all available date-time text (.txt) files currently on the THREDDS Server\n",
    "\n",
    "* ~1 month of past data from current date back"
   ]
  },
  {
   "cell_type": "code",
   "execution_count": 17,
   "metadata": {},
   "outputs": [],
   "source": [
    "urls = []\n",
    "names = []\n",
    "for i, link in enumerate(soup.findAll('a')):\n",
    "    FULLURL = URL + link.get('href')\n",
    "    if FULLURL.endswith('.txt'):\n",
    "        urls.append(soup.select('a')[i].attrs['href'])\n"
   ]
  },
  {
   "cell_type": "markdown",
   "metadata": {},
   "source": [
    "#### Raw Fronts are <em>not</em> temporal spaced evenly;\n",
    "\n",
    "#### Hi-Res Fronts <em>are</em> spaced evenly every 3 hours"
   ]
  },
  {
   "cell_type": "raw",
   "metadata": {},
   "source": [
    "sorted(urls[::10])"
   ]
  },
  {
   "cell_type": "raw",
   "metadata": {},
   "source": [
    "ind = urls[-1].index(\"highres\")\n",
    "leng = len(\"highres\")\n",
    "ind+leng"
   ]
  },
  {
   "cell_type": "raw",
   "metadata": {},
   "source": [
    "urls[-1][urls[-1].index(\"highres\"):urls[-1].index(\"highres\")+len(\"highres\")]"
   ]
  },
  {
   "cell_type": "code",
   "execution_count": 26,
   "metadata": {
    "scrolled": false
   },
   "outputs": [
    {
     "data": {
      "text/plain": [
       "['https://thredds-test.unidata.ucar.edu/thredds/fileServer/noaaport/text/fronts/Fronts_highres_KWBC_20210712_0000.txt',\n",
       " 'https://thredds-test.unidata.ucar.edu/thredds/fileServer/noaaport/text/fronts/Fronts_highres_KWBC_20210712_0300.txt',\n",
       " 'https://thredds-test.unidata.ucar.edu/thredds/fileServer/noaaport/text/fronts/Fronts_highres_KWBC_20210712_0600.txt',\n",
       " 'https://thredds-test.unidata.ucar.edu/thredds/fileServer/noaaport/text/fronts/Fronts_highres_KWBC_20210712_0900.txt',\n",
       " 'https://thredds-test.unidata.ucar.edu/thredds/fileServer/noaaport/text/fronts/Fronts_highres_KWBC_20210712_1200.txt',\n",
       " 'https://thredds-test.unidata.ucar.edu/thredds/fileServer/noaaport/text/fronts/Fronts_highres_KWBC_20210712_1500.txt',\n",
       " 'https://thredds-test.unidata.ucar.edu/thredds/fileServer/noaaport/text/fronts/Fronts_highres_KWBC_20210712_1800.txt',\n",
       " 'https://thredds-test.unidata.ucar.edu/thredds/fileServer/noaaport/text/fronts/Fronts_highres_KWBC_20210712_2100.txt',\n",
       " 'https://thredds-test.unidata.ucar.edu/thredds/fileServer/noaaport/text/fronts/Fronts_highres_KWBC_20210713_0000.txt',\n",
       " 'https://thredds-test.unidata.ucar.edu/thredds/fileServer/noaaport/text/fronts/Fronts_highres_KWBC_20210713_0300.txt',\n",
       " 'https://thredds-test.unidata.ucar.edu/thredds/fileServer/noaaport/text/fronts/Fronts_highres_KWBC_20210713_0600.txt',\n",
       " 'https://thredds-test.unidata.ucar.edu/thredds/fileServer/noaaport/text/fronts/Fronts_highres_KWBC_20210713_0900.txt',\n",
       " 'https://thredds-test.unidata.ucar.edu/thredds/fileServer/noaaport/text/fronts/Fronts_highres_KWBC_20210713_1200.txt',\n",
       " 'https://thredds-test.unidata.ucar.edu/thredds/fileServer/noaaport/text/fronts/Fronts_highres_KWBC_20210713_1500.txt',\n",
       " 'https://thredds-test.unidata.ucar.edu/thredds/fileServer/noaaport/text/fronts/Fronts_highres_KWBC_20210713_1800.txt',\n",
       " 'https://thredds-test.unidata.ucar.edu/thredds/fileServer/noaaport/text/fronts/Fronts_highres_KWBC_20210713_2100.txt',\n",
       " 'https://thredds-test.unidata.ucar.edu/thredds/fileServer/noaaport/text/fronts/Fronts_highres_KWBC_20210714_0000.txt',\n",
       " 'https://thredds-test.unidata.ucar.edu/thredds/fileServer/noaaport/text/fronts/Fronts_highres_KWBC_20210714_0300.txt',\n",
       " 'https://thredds-test.unidata.ucar.edu/thredds/fileServer/noaaport/text/fronts/Fronts_highres_KWBC_20210714_0600.txt',\n",
       " 'https://thredds-test.unidata.ucar.edu/thredds/fileServer/noaaport/text/fronts/Fronts_highres_KWBC_20210714_0900.txt',\n",
       " 'https://thredds-test.unidata.ucar.edu/thredds/fileServer/noaaport/text/fronts/Fronts_highres_KWBC_20210714_1200.txt',\n",
       " 'https://thredds-test.unidata.ucar.edu/thredds/fileServer/noaaport/text/fronts/Fronts_highres_KWBC_20210714_1500.txt',\n",
       " 'https://thredds-test.unidata.ucar.edu/thredds/fileServer/noaaport/text/fronts/Fronts_highres_KWBC_20210714_1800.txt',\n",
       " 'https://thredds-test.unidata.ucar.edu/thredds/fileServer/noaaport/text/fronts/Fronts_highres_KWBC_20210714_2100.txt',\n",
       " 'https://thredds-test.unidata.ucar.edu/thredds/fileServer/noaaport/text/fronts/Fronts_highres_KWBC_20210715_0000.txt',\n",
       " 'https://thredds-test.unidata.ucar.edu/thredds/fileServer/noaaport/text/fronts/Fronts_highres_KWBC_20210715_0300.txt',\n",
       " 'https://thredds-test.unidata.ucar.edu/thredds/fileServer/noaaport/text/fronts/Fronts_highres_KWBC_20210715_0600.txt',\n",
       " 'https://thredds-test.unidata.ucar.edu/thredds/fileServer/noaaport/text/fronts/Fronts_highres_KWBC_20210715_0900.txt',\n",
       " 'https://thredds-test.unidata.ucar.edu/thredds/fileServer/noaaport/text/fronts/Fronts_highres_KWBC_20210715_1200.txt',\n",
       " 'https://thredds-test.unidata.ucar.edu/thredds/fileServer/noaaport/text/fronts/Fronts_highres_KWBC_20210715_1500.txt',\n",
       " 'https://thredds-test.unidata.ucar.edu/thredds/fileServer/noaaport/text/fronts/Fronts_highres_KWBC_20210715_1800.txt',\n",
       " 'https://thredds-test.unidata.ucar.edu/thredds/fileServer/noaaport/text/fronts/Fronts_highres_KWBC_20210715_2100.txt',\n",
       " 'https://thredds-test.unidata.ucar.edu/thredds/fileServer/noaaport/text/fronts/Fronts_highres_KWBC_20210716_0000.txt',\n",
       " 'https://thredds-test.unidata.ucar.edu/thredds/fileServer/noaaport/text/fronts/Fronts_highres_KWBC_20210716_0300.txt',\n",
       " 'https://thredds-test.unidata.ucar.edu/thredds/fileServer/noaaport/text/fronts/Fronts_highres_KWBC_20210716_0600.txt',\n",
       " 'https://thredds-test.unidata.ucar.edu/thredds/fileServer/noaaport/text/fronts/Fronts_highres_KWBC_20210716_0900.txt',\n",
       " 'https://thredds-test.unidata.ucar.edu/thredds/fileServer/noaaport/text/fronts/Fronts_highres_KWBC_20210716_1200.txt',\n",
       " 'https://thredds-test.unidata.ucar.edu/thredds/fileServer/noaaport/text/fronts/Fronts_highres_KWBC_20210716_1500.txt',\n",
       " 'https://thredds-test.unidata.ucar.edu/thredds/fileServer/noaaport/text/fronts/Fronts_highres_KWBC_20210716_1800.txt',\n",
       " 'https://thredds-test.unidata.ucar.edu/thredds/fileServer/noaaport/text/fronts/Fronts_highres_KWBC_20210716_2100.txt',\n",
       " 'https://thredds-test.unidata.ucar.edu/thredds/fileServer/noaaport/text/fronts/Fronts_highres_KWBC_20210717_0000.txt',\n",
       " 'https://thredds-test.unidata.ucar.edu/thredds/fileServer/noaaport/text/fronts/Fronts_highres_KWBC_20210717_0300.txt',\n",
       " 'https://thredds-test.unidata.ucar.edu/thredds/fileServer/noaaport/text/fronts/Fronts_highres_KWBC_20210717_0600.txt',\n",
       " 'https://thredds-test.unidata.ucar.edu/thredds/fileServer/noaaport/text/fronts/Fronts_highres_KWBC_20210717_0900.txt',\n",
       " 'https://thredds-test.unidata.ucar.edu/thredds/fileServer/noaaport/text/fronts/Fronts_highres_KWBC_20210717_1200.txt',\n",
       " 'https://thredds-test.unidata.ucar.edu/thredds/fileServer/noaaport/text/fronts/Fronts_highres_KWBC_20210717_1500.txt',\n",
       " 'https://thredds-test.unidata.ucar.edu/thredds/fileServer/noaaport/text/fronts/Fronts_highres_KWBC_20210717_1800.txt',\n",
       " 'https://thredds-test.unidata.ucar.edu/thredds/fileServer/noaaport/text/fronts/Fronts_highres_KWBC_20210717_2100.txt',\n",
       " 'https://thredds-test.unidata.ucar.edu/thredds/fileServer/noaaport/text/fronts/Fronts_highres_KWBC_20210718_0000.txt',\n",
       " 'https://thredds-test.unidata.ucar.edu/thredds/fileServer/noaaport/text/fronts/Fronts_highres_KWBC_20210718_0300.txt',\n",
       " 'https://thredds-test.unidata.ucar.edu/thredds/fileServer/noaaport/text/fronts/Fronts_highres_KWBC_20210718_0600.txt',\n",
       " 'https://thredds-test.unidata.ucar.edu/thredds/fileServer/noaaport/text/fronts/Fronts_highres_KWBC_20210718_0900.txt',\n",
       " 'https://thredds-test.unidata.ucar.edu/thredds/fileServer/noaaport/text/fronts/Fronts_highres_KWBC_20210718_1200.txt',\n",
       " 'https://thredds-test.unidata.ucar.edu/thredds/fileServer/noaaport/text/fronts/Fronts_highres_KWBC_20210718_1500.txt',\n",
       " 'https://thredds-test.unidata.ucar.edu/thredds/fileServer/noaaport/text/fronts/Fronts_highres_KWBC_20210718_1800.txt',\n",
       " 'https://thredds-test.unidata.ucar.edu/thredds/fileServer/noaaport/text/fronts/Fronts_highres_KWBC_20210718_2100.txt',\n",
       " 'https://thredds-test.unidata.ucar.edu/thredds/fileServer/noaaport/text/fronts/Fronts_highres_KWBC_20210719_0000.txt',\n",
       " 'https://thredds-test.unidata.ucar.edu/thredds/fileServer/noaaport/text/fronts/Fronts_highres_KWBC_20210719_0300.txt',\n",
       " 'https://thredds-test.unidata.ucar.edu/thredds/fileServer/noaaport/text/fronts/Fronts_highres_KWBC_20210719_0600.txt',\n",
       " 'https://thredds-test.unidata.ucar.edu/thredds/fileServer/noaaport/text/fronts/Fronts_highres_KWBC_20210719_0900.txt',\n",
       " 'https://thredds-test.unidata.ucar.edu/thredds/fileServer/noaaport/text/fronts/Fronts_highres_KWBC_20210719_1200.txt',\n",
       " 'https://thredds-test.unidata.ucar.edu/thredds/fileServer/noaaport/text/fronts/Fronts_highres_KWBC_20210719_1500.txt',\n",
       " 'https://thredds-test.unidata.ucar.edu/thredds/fileServer/noaaport/text/fronts/Fronts_highres_KWBC_20210719_1800.txt',\n",
       " 'https://thredds-test.unidata.ucar.edu/thredds/fileServer/noaaport/text/fronts/Fronts_highres_KWBC_20210719_2100.txt',\n",
       " 'https://thredds-test.unidata.ucar.edu/thredds/fileServer/noaaport/text/fronts/Fronts_highres_KWBC_20210720_0000.txt',\n",
       " 'https://thredds-test.unidata.ucar.edu/thredds/fileServer/noaaport/text/fronts/Fronts_highres_KWBC_20210720_0300.txt',\n",
       " 'https://thredds-test.unidata.ucar.edu/thredds/fileServer/noaaport/text/fronts/Fronts_highres_KWBC_20210720_0600.txt',\n",
       " 'https://thredds-test.unidata.ucar.edu/thredds/fileServer/noaaport/text/fronts/Fronts_highres_KWBC_20210720_0900.txt',\n",
       " 'https://thredds-test.unidata.ucar.edu/thredds/fileServer/noaaport/text/fronts/Fronts_highres_KWBC_20210720_1200.txt',\n",
       " 'https://thredds-test.unidata.ucar.edu/thredds/fileServer/noaaport/text/fronts/Fronts_highres_KWBC_20210720_1500.txt',\n",
       " 'https://thredds-test.unidata.ucar.edu/thredds/fileServer/noaaport/text/fronts/Fronts_highres_KWBC_20210720_1800.txt',\n",
       " 'https://thredds-test.unidata.ucar.edu/thredds/fileServer/noaaport/text/fronts/Fronts_highres_KWBC_20210720_2100.txt',\n",
       " 'https://thredds-test.unidata.ucar.edu/thredds/fileServer/noaaport/text/fronts/Fronts_highres_KWBC_20210721_0000.txt',\n",
       " 'https://thredds-test.unidata.ucar.edu/thredds/fileServer/noaaport/text/fronts/Fronts_highres_KWBC_20210721_0300.txt',\n",
       " 'https://thredds-test.unidata.ucar.edu/thredds/fileServer/noaaport/text/fronts/Fronts_highres_KWBC_20210721_0600.txt',\n",
       " 'https://thredds-test.unidata.ucar.edu/thredds/fileServer/noaaport/text/fronts/Fronts_highres_KWBC_20210721_0900.txt',\n",
       " 'https://thredds-test.unidata.ucar.edu/thredds/fileServer/noaaport/text/fronts/Fronts_highres_KWBC_20210721_1200.txt',\n",
       " 'https://thredds-test.unidata.ucar.edu/thredds/fileServer/noaaport/text/fronts/Fronts_highres_KWBC_20210721_1500.txt',\n",
       " 'https://thredds-test.unidata.ucar.edu/thredds/fileServer/noaaport/text/fronts/Fronts_highres_KWBC_20210721_1800.txt',\n",
       " 'https://thredds-test.unidata.ucar.edu/thredds/fileServer/noaaport/text/fronts/Fronts_highres_KWBC_20210721_2100.txt',\n",
       " 'https://thredds-test.unidata.ucar.edu/thredds/fileServer/noaaport/text/fronts/Fronts_highres_KWBC_20210722_0000.txt',\n",
       " 'https://thredds-test.unidata.ucar.edu/thredds/fileServer/noaaport/text/fronts/Fronts_highres_KWBC_20210722_0300.txt',\n",
       " 'https://thredds-test.unidata.ucar.edu/thredds/fileServer/noaaport/text/fronts/Fronts_highres_KWBC_20210722_0600.txt',\n",
       " 'https://thredds-test.unidata.ucar.edu/thredds/fileServer/noaaport/text/fronts/Fronts_highres_KWBC_20210722_0900.txt',\n",
       " 'https://thredds-test.unidata.ucar.edu/thredds/fileServer/noaaport/text/fronts/Fronts_highres_KWBC_20210722_1200.txt',\n",
       " 'https://thredds-test.unidata.ucar.edu/thredds/fileServer/noaaport/text/fronts/Fronts_highres_KWBC_20210722_1500.txt',\n",
       " 'https://thredds-test.unidata.ucar.edu/thredds/fileServer/noaaport/text/fronts/Fronts_highres_KWBC_20210722_1800.txt',\n",
       " 'https://thredds-test.unidata.ucar.edu/thredds/fileServer/noaaport/text/fronts/Fronts_highres_KWBC_20210722_2100.txt',\n",
       " 'https://thredds-test.unidata.ucar.edu/thredds/fileServer/noaaport/text/fronts/Fronts_highres_KWBC_20210723_0000.txt',\n",
       " 'https://thredds-test.unidata.ucar.edu/thredds/fileServer/noaaport/text/fronts/Fronts_highres_KWBC_20210723_0300.txt',\n",
       " 'https://thredds-test.unidata.ucar.edu/thredds/fileServer/noaaport/text/fronts/Fronts_highres_KWBC_20210723_0600.txt',\n",
       " 'https://thredds-test.unidata.ucar.edu/thredds/fileServer/noaaport/text/fronts/Fronts_highres_KWBC_20210723_0900.txt',\n",
       " 'https://thredds-test.unidata.ucar.edu/thredds/fileServer/noaaport/text/fronts/Fronts_highres_KWBC_20210723_1200.txt',\n",
       " 'https://thredds-test.unidata.ucar.edu/thredds/fileServer/noaaport/text/fronts/Fronts_highres_KWBC_20210723_1500.txt',\n",
       " 'https://thredds-test.unidata.ucar.edu/thredds/fileServer/noaaport/text/fronts/Fronts_highres_KWBC_20210723_1800.txt',\n",
       " 'https://thredds-test.unidata.ucar.edu/thredds/fileServer/noaaport/text/fronts/Fronts_highres_KWBC_20210723_2100.txt',\n",
       " 'https://thredds-test.unidata.ucar.edu/thredds/fileServer/noaaport/text/fronts/Fronts_highres_KWBC_20210724_0000.txt',\n",
       " 'https://thredds-test.unidata.ucar.edu/thredds/fileServer/noaaport/text/fronts/Fronts_highres_KWBC_20210724_0300.txt',\n",
       " 'https://thredds-test.unidata.ucar.edu/thredds/fileServer/noaaport/text/fronts/Fronts_highres_KWBC_20210724_0600.txt',\n",
       " 'https://thredds-test.unidata.ucar.edu/thredds/fileServer/noaaport/text/fronts/Fronts_highres_KWBC_20210724_0900.txt',\n",
       " 'https://thredds-test.unidata.ucar.edu/thredds/fileServer/noaaport/text/fronts/Fronts_highres_KWBC_20210724_1200.txt',\n",
       " 'https://thredds-test.unidata.ucar.edu/thredds/fileServer/noaaport/text/fronts/Fronts_highres_KWBC_20210724_1500.txt',\n",
       " 'https://thredds-test.unidata.ucar.edu/thredds/fileServer/noaaport/text/fronts/Fronts_highres_KWBC_20210724_1800.txt',\n",
       " 'https://thredds-test.unidata.ucar.edu/thredds/fileServer/noaaport/text/fronts/Fronts_highres_KWBC_20210724_2100.txt',\n",
       " 'https://thredds-test.unidata.ucar.edu/thredds/fileServer/noaaport/text/fronts/Fronts_highres_KWBC_20210725_0000.txt',\n",
       " 'https://thredds-test.unidata.ucar.edu/thredds/fileServer/noaaport/text/fronts/Fronts_highres_KWBC_20210725_0300.txt',\n",
       " 'https://thredds-test.unidata.ucar.edu/thredds/fileServer/noaaport/text/fronts/Fronts_highres_KWBC_20210725_0600.txt',\n",
       " 'https://thredds-test.unidata.ucar.edu/thredds/fileServer/noaaport/text/fronts/Fronts_highres_KWBC_20210725_0900.txt',\n",
       " 'https://thredds-test.unidata.ucar.edu/thredds/fileServer/noaaport/text/fronts/Fronts_highres_KWBC_20210725_1200.txt',\n",
       " 'https://thredds-test.unidata.ucar.edu/thredds/fileServer/noaaport/text/fronts/Fronts_highres_KWBC_20210725_1500.txt',\n",
       " 'https://thredds-test.unidata.ucar.edu/thredds/fileServer/noaaport/text/fronts/Fronts_highres_KWBC_20210725_1800.txt',\n",
       " 'https://thredds-test.unidata.ucar.edu/thredds/fileServer/noaaport/text/fronts/Fronts_highres_KWBC_20210725_2100.txt',\n",
       " 'https://thredds-test.unidata.ucar.edu/thredds/fileServer/noaaport/text/fronts/Fronts_highres_KWBC_20210726_0000.txt',\n",
       " 'https://thredds-test.unidata.ucar.edu/thredds/fileServer/noaaport/text/fronts/Fronts_highres_KWBC_20210726_0300.txt',\n",
       " 'https://thredds-test.unidata.ucar.edu/thredds/fileServer/noaaport/text/fronts/Fronts_highres_KWBC_20210726_0600.txt',\n",
       " 'https://thredds-test.unidata.ucar.edu/thredds/fileServer/noaaport/text/fronts/Fronts_highres_KWBC_20210726_0900.txt',\n",
       " 'https://thredds-test.unidata.ucar.edu/thredds/fileServer/noaaport/text/fronts/Fronts_highres_KWBC_20210726_1200.txt',\n",
       " 'https://thredds-test.unidata.ucar.edu/thredds/fileServer/noaaport/text/fronts/Fronts_highres_KWBC_20210726_1500.txt',\n",
       " 'https://thredds-test.unidata.ucar.edu/thredds/fileServer/noaaport/text/fronts/Fronts_highres_KWBC_20210726_1800.txt',\n",
       " 'https://thredds-test.unidata.ucar.edu/thredds/fileServer/noaaport/text/fronts/Fronts_highres_KWBC_20210726_2100.txt',\n",
       " 'https://thredds-test.unidata.ucar.edu/thredds/fileServer/noaaport/text/fronts/Fronts_highres_KWBC_20210727_0000.txt',\n",
       " 'https://thredds-test.unidata.ucar.edu/thredds/fileServer/noaaport/text/fronts/Fronts_highres_KWBC_20210727_0300.txt',\n",
       " 'https://thredds-test.unidata.ucar.edu/thredds/fileServer/noaaport/text/fronts/Fronts_highres_KWBC_20210727_0600.txt',\n",
       " 'https://thredds-test.unidata.ucar.edu/thredds/fileServer/noaaport/text/fronts/Fronts_highres_KWBC_20210727_0900.txt',\n",
       " 'https://thredds-test.unidata.ucar.edu/thredds/fileServer/noaaport/text/fronts/Fronts_highres_KWBC_20210727_1200.txt',\n",
       " 'https://thredds-test.unidata.ucar.edu/thredds/fileServer/noaaport/text/fronts/Fronts_highres_KWBC_20210727_1500.txt',\n",
       " 'https://thredds-test.unidata.ucar.edu/thredds/fileServer/noaaport/text/fronts/Fronts_highres_KWBC_20210727_1800.txt',\n",
       " 'https://thredds-test.unidata.ucar.edu/thredds/fileServer/noaaport/text/fronts/Fronts_highres_KWBC_20210727_2100.txt',\n",
       " 'https://thredds-test.unidata.ucar.edu/thredds/fileServer/noaaport/text/fronts/Fronts_highres_KWBC_20210728_0000.txt',\n",
       " 'https://thredds-test.unidata.ucar.edu/thredds/fileServer/noaaport/text/fronts/Fronts_highres_KWBC_20210728_0600.txt',\n",
       " 'https://thredds-test.unidata.ucar.edu/thredds/fileServer/noaaport/text/fronts/Fronts_highres_KWBC_20210728_0900.txt',\n",
       " 'https://thredds-test.unidata.ucar.edu/thredds/fileServer/noaaport/text/fronts/Fronts_highres_KWBC_20210728_1200.txt',\n",
       " 'https://thredds-test.unidata.ucar.edu/thredds/fileServer/noaaport/text/fronts/Fronts_highres_KWBC_20210728_1500.txt',\n",
       " 'https://thredds-test.unidata.ucar.edu/thredds/fileServer/noaaport/text/fronts/Fronts_highres_KWBC_20210728_1800.txt',\n",
       " 'https://thredds-test.unidata.ucar.edu/thredds/fileServer/noaaport/text/fronts/Fronts_highres_KWBC_20210728_2100.txt',\n",
       " 'https://thredds-test.unidata.ucar.edu/thredds/fileServer/noaaport/text/fronts/Fronts_highres_KWBC_20210729_0000.txt',\n",
       " 'https://thredds-test.unidata.ucar.edu/thredds/fileServer/noaaport/text/fronts/Fronts_highres_KWBC_20210729_0300.txt',\n",
       " 'https://thredds-test.unidata.ucar.edu/thredds/fileServer/noaaport/text/fronts/Fronts_highres_KWBC_20210729_0600.txt',\n",
       " 'https://thredds-test.unidata.ucar.edu/thredds/fileServer/noaaport/text/fronts/Fronts_highres_KWBC_20210729_0900.txt',\n",
       " 'https://thredds-test.unidata.ucar.edu/thredds/fileServer/noaaport/text/fronts/Fronts_highres_KWBC_20210729_1200.txt',\n",
       " 'https://thredds-test.unidata.ucar.edu/thredds/fileServer/noaaport/text/fronts/Fronts_highres_KWBC_20210729_1500.txt',\n",
       " 'https://thredds-test.unidata.ucar.edu/thredds/fileServer/noaaport/text/fronts/Fronts_highres_KWBC_20210729_1800.txt',\n",
       " 'https://thredds-test.unidata.ucar.edu/thredds/fileServer/noaaport/text/fronts/Fronts_highres_KWBC_20210729_2100.txt',\n",
       " 'https://thredds-test.unidata.ucar.edu/thredds/fileServer/noaaport/text/fronts/Fronts_highres_KWBC_20210730_0000.txt',\n",
       " 'https://thredds-test.unidata.ucar.edu/thredds/fileServer/noaaport/text/fronts/Fronts_highres_KWBC_20210730_0300.txt',\n",
       " 'https://thredds-test.unidata.ucar.edu/thredds/fileServer/noaaport/text/fronts/Fronts_highres_KWBC_20210730_0600.txt',\n",
       " 'https://thredds-test.unidata.ucar.edu/thredds/fileServer/noaaport/text/fronts/Fronts_highres_KWBC_20210730_0900.txt',\n",
       " 'https://thredds-test.unidata.ucar.edu/thredds/fileServer/noaaport/text/fronts/Fronts_highres_KWBC_20210730_1200.txt',\n",
       " 'https://thredds-test.unidata.ucar.edu/thredds/fileServer/noaaport/text/fronts/Fronts_highres_KWBC_20210730_1500.txt',\n",
       " 'https://thredds-test.unidata.ucar.edu/thredds/fileServer/noaaport/text/fronts/Fronts_highres_KWBC_20210730_1800.txt',\n",
       " 'https://thredds-test.unidata.ucar.edu/thredds/fileServer/noaaport/text/fronts/Fronts_highres_KWBC_20210730_2100.txt',\n",
       " 'https://thredds-test.unidata.ucar.edu/thredds/fileServer/noaaport/text/fronts/Fronts_highres_KWBC_20210731_0000.txt',\n",
       " 'https://thredds-test.unidata.ucar.edu/thredds/fileServer/noaaport/text/fronts/Fronts_highres_KWBC_20210731_0300.txt',\n",
       " 'https://thredds-test.unidata.ucar.edu/thredds/fileServer/noaaport/text/fronts/Fronts_highres_KWBC_20210731_0600.txt',\n",
       " 'https://thredds-test.unidata.ucar.edu/thredds/fileServer/noaaport/text/fronts/Fronts_highres_KWBC_20210731_0900.txt',\n",
       " 'https://thredds-test.unidata.ucar.edu/thredds/fileServer/noaaport/text/fronts/Fronts_highres_KWBC_20210731_1200.txt',\n",
       " 'https://thredds-test.unidata.ucar.edu/thredds/fileServer/noaaport/text/fronts/Fronts_highres_KWBC_20210731_1500.txt',\n",
       " 'https://thredds-test.unidata.ucar.edu/thredds/fileServer/noaaport/text/fronts/Fronts_highres_KWBC_20210731_1800.txt',\n",
       " 'https://thredds-test.unidata.ucar.edu/thredds/fileServer/noaaport/text/fronts/Fronts_highres_KWBC_20210731_2100.txt',\n",
       " 'https://thredds-test.unidata.ucar.edu/thredds/fileServer/noaaport/text/fronts/Fronts_highres_KWBC_20210801_0000.txt',\n",
       " 'https://thredds-test.unidata.ucar.edu/thredds/fileServer/noaaport/text/fronts/Fronts_highres_KWBC_20210801_0300.txt',\n",
       " 'https://thredds-test.unidata.ucar.edu/thredds/fileServer/noaaport/text/fronts/Fronts_highres_KWBC_20210801_0600.txt',\n",
       " 'https://thredds-test.unidata.ucar.edu/thredds/fileServer/noaaport/text/fronts/Fronts_highres_KWBC_20210801_0900.txt',\n",
       " 'https://thredds-test.unidata.ucar.edu/thredds/fileServer/noaaport/text/fronts/Fronts_highres_KWBC_20210801_1200.txt',\n",
       " 'https://thredds-test.unidata.ucar.edu/thredds/fileServer/noaaport/text/fronts/Fronts_highres_KWBC_20210801_1500.txt',\n",
       " 'https://thredds-test.unidata.ucar.edu/thredds/fileServer/noaaport/text/fronts/Fronts_highres_KWBC_20210801_1800.txt',\n",
       " 'https://thredds-test.unidata.ucar.edu/thredds/fileServer/noaaport/text/fronts/Fronts_highres_KWBC_20210801_2100.txt',\n",
       " 'https://thredds-test.unidata.ucar.edu/thredds/fileServer/noaaport/text/fronts/Fronts_highres_KWBC_20210802_0000.txt',\n",
       " 'https://thredds-test.unidata.ucar.edu/thredds/fileServer/noaaport/text/fronts/Fronts_highres_KWBC_20210802_0300.txt',\n",
       " 'https://thredds-test.unidata.ucar.edu/thredds/fileServer/noaaport/text/fronts/Fronts_highres_KWBC_20210802_0600.txt',\n",
       " 'https://thredds-test.unidata.ucar.edu/thredds/fileServer/noaaport/text/fronts/Fronts_highres_KWBC_20210802_0900.txt',\n",
       " 'https://thredds-test.unidata.ucar.edu/thredds/fileServer/noaaport/text/fronts/Fronts_highres_KWBC_20210802_1200.txt',\n",
       " 'https://thredds-test.unidata.ucar.edu/thredds/fileServer/noaaport/text/fronts/Fronts_highres_KWBC_20210802_1500.txt',\n",
       " 'https://thredds-test.unidata.ucar.edu/thredds/fileServer/noaaport/text/fronts/Fronts_highres_KWBC_20210802_1800.txt',\n",
       " 'https://thredds-test.unidata.ucar.edu/thredds/fileServer/noaaport/text/fronts/Fronts_highres_KWBC_20210802_2100.txt',\n",
       " 'https://thredds-test.unidata.ucar.edu/thredds/fileServer/noaaport/text/fronts/Fronts_highres_KWBC_20210803_0000.txt',\n",
       " 'https://thredds-test.unidata.ucar.edu/thredds/fileServer/noaaport/text/fronts/Fronts_highres_KWBC_20210803_0300.txt',\n",
       " 'https://thredds-test.unidata.ucar.edu/thredds/fileServer/noaaport/text/fronts/Fronts_highres_KWBC_20210803_0600.txt',\n",
       " 'https://thredds-test.unidata.ucar.edu/thredds/fileServer/noaaport/text/fronts/Fronts_highres_KWBC_20210803_0900.txt',\n",
       " 'https://thredds-test.unidata.ucar.edu/thredds/fileServer/noaaport/text/fronts/Fronts_highres_KWBC_20210803_1200.txt',\n",
       " 'https://thredds-test.unidata.ucar.edu/thredds/fileServer/noaaport/text/fronts/Fronts_highres_KWBC_20210803_1500.txt',\n",
       " 'https://thredds-test.unidata.ucar.edu/thredds/fileServer/noaaport/text/fronts/Fronts_highres_KWBC_20210803_1800.txt',\n",
       " 'https://thredds-test.unidata.ucar.edu/thredds/fileServer/noaaport/text/fronts/Fronts_highres_KWBC_20210803_2100.txt',\n",
       " 'https://thredds-test.unidata.ucar.edu/thredds/fileServer/noaaport/text/fronts/Fronts_highres_KWBC_20210804_0000.txt',\n",
       " 'https://thredds-test.unidata.ucar.edu/thredds/fileServer/noaaport/text/fronts/Fronts_highres_KWBC_20210804_0300.txt',\n",
       " 'https://thredds-test.unidata.ucar.edu/thredds/fileServer/noaaport/text/fronts/Fronts_highres_KWBC_20210804_0600.txt',\n",
       " 'https://thredds-test.unidata.ucar.edu/thredds/fileServer/noaaport/text/fronts/Fronts_highres_KWBC_20210804_0900.txt',\n",
       " 'https://thredds-test.unidata.ucar.edu/thredds/fileServer/noaaport/text/fronts/Fronts_highres_KWBC_20210804_1200.txt',\n",
       " 'https://thredds-test.unidata.ucar.edu/thredds/fileServer/noaaport/text/fronts/Fronts_highres_KWBC_20210804_1500.txt',\n",
       " 'https://thredds-test.unidata.ucar.edu/thredds/fileServer/noaaport/text/fronts/Fronts_highres_KWBC_20210804_1800.txt',\n",
       " 'https://thredds-test.unidata.ucar.edu/thredds/fileServer/noaaport/text/fronts/Fronts_highres_KWBC_20210804_2100.txt',\n",
       " 'https://thredds-test.unidata.ucar.edu/thredds/fileServer/noaaport/text/fronts/Fronts_highres_KWBC_20210805_0000.txt',\n",
       " 'https://thredds-test.unidata.ucar.edu/thredds/fileServer/noaaport/text/fronts/Fronts_highres_KWBC_20210805_0300.txt',\n",
       " 'https://thredds-test.unidata.ucar.edu/thredds/fileServer/noaaport/text/fronts/Fronts_highres_KWBC_20210805_0600.txt',\n",
       " 'https://thredds-test.unidata.ucar.edu/thredds/fileServer/noaaport/text/fronts/Fronts_highres_KWBC_20210805_0900.txt',\n",
       " 'https://thredds-test.unidata.ucar.edu/thredds/fileServer/noaaport/text/fronts/Fronts_highres_KWBC_20210805_1200.txt',\n",
       " 'https://thredds-test.unidata.ucar.edu/thredds/fileServer/noaaport/text/fronts/Fronts_highres_KWBC_20210805_1500.txt',\n",
       " 'https://thredds-test.unidata.ucar.edu/thredds/fileServer/noaaport/text/fronts/Fronts_highres_KWBC_20210805_1800.txt',\n",
       " 'https://thredds-test.unidata.ucar.edu/thredds/fileServer/noaaport/text/fronts/Fronts_highres_KWBC_20210805_2100.txt',\n",
       " 'https://thredds-test.unidata.ucar.edu/thredds/fileServer/noaaport/text/fronts/Fronts_highres_KWBC_20210806_0000.txt',\n",
       " 'https://thredds-test.unidata.ucar.edu/thredds/fileServer/noaaport/text/fronts/Fronts_highres_KWBC_20210806_0300.txt',\n",
       " 'https://thredds-test.unidata.ucar.edu/thredds/fileServer/noaaport/text/fronts/Fronts_highres_KWBC_20210806_0600.txt',\n",
       " 'https://thredds-test.unidata.ucar.edu/thredds/fileServer/noaaport/text/fronts/Fronts_highres_KWBC_20210806_0900.txt',\n",
       " 'https://thredds-test.unidata.ucar.edu/thredds/fileServer/noaaport/text/fronts/Fronts_highres_KWBC_20210806_1200.txt',\n",
       " 'https://thredds-test.unidata.ucar.edu/thredds/fileServer/noaaport/text/fronts/Fronts_highres_KWBC_20210806_1500.txt',\n",
       " 'https://thredds-test.unidata.ucar.edu/thredds/fileServer/noaaport/text/fronts/Fronts_highres_KWBC_20210806_1800.txt',\n",
       " 'https://thredds-test.unidata.ucar.edu/thredds/fileServer/noaaport/text/fronts/Fronts_highres_KWBC_20210806_2100.txt',\n",
       " 'https://thredds-test.unidata.ucar.edu/thredds/fileServer/noaaport/text/fronts/Fronts_highres_KWBC_20210807_0000.txt',\n",
       " 'https://thredds-test.unidata.ucar.edu/thredds/fileServer/noaaport/text/fronts/Fronts_highres_KWBC_20210807_0300.txt',\n",
       " 'https://thredds-test.unidata.ucar.edu/thredds/fileServer/noaaport/text/fronts/Fronts_highres_KWBC_20210807_0600.txt',\n",
       " 'https://thredds-test.unidata.ucar.edu/thredds/fileServer/noaaport/text/fronts/Fronts_highres_KWBC_20210807_0900.txt',\n",
       " 'https://thredds-test.unidata.ucar.edu/thredds/fileServer/noaaport/text/fronts/Fronts_highres_KWBC_20210807_1200.txt',\n",
       " 'https://thredds-test.unidata.ucar.edu/thredds/fileServer/noaaport/text/fronts/Fronts_highres_KWBC_20210807_1500.txt',\n",
       " 'https://thredds-test.unidata.ucar.edu/thredds/fileServer/noaaport/text/fronts/Fronts_highres_KWBC_20210807_1800.txt',\n",
       " 'https://thredds-test.unidata.ucar.edu/thredds/fileServer/noaaport/text/fronts/Fronts_highres_KWBC_20210807_2100.txt',\n",
       " 'https://thredds-test.unidata.ucar.edu/thredds/fileServer/noaaport/text/fronts/Fronts_highres_KWBC_20210808_0000.txt',\n",
       " 'https://thredds-test.unidata.ucar.edu/thredds/fileServer/noaaport/text/fronts/Fronts_highres_KWBC_20210808_0300.txt',\n",
       " 'https://thredds-test.unidata.ucar.edu/thredds/fileServer/noaaport/text/fronts/Fronts_highres_KWBC_20210808_0600.txt',\n",
       " 'https://thredds-test.unidata.ucar.edu/thredds/fileServer/noaaport/text/fronts/Fronts_highres_KWBC_20210808_0900.txt',\n",
       " 'https://thredds-test.unidata.ucar.edu/thredds/fileServer/noaaport/text/fronts/Fronts_highres_KWBC_20210808_1200.txt',\n",
       " 'https://thredds-test.unidata.ucar.edu/thredds/fileServer/noaaport/text/fronts/Fronts_highres_KWBC_20210808_1500.txt',\n",
       " 'https://thredds-test.unidata.ucar.edu/thredds/fileServer/noaaport/text/fronts/Fronts_highres_KWBC_20210808_1800.txt',\n",
       " 'https://thredds-test.unidata.ucar.edu/thredds/fileServer/noaaport/text/fronts/Fronts_highres_KWBC_20210808_2100.txt',\n",
       " 'https://thredds-test.unidata.ucar.edu/thredds/fileServer/noaaport/text/fronts/Fronts_highres_KWBC_20210809_0000.txt',\n",
       " 'https://thredds-test.unidata.ucar.edu/thredds/fileServer/noaaport/text/fronts/Fronts_highres_KWBC_20210809_0300.txt',\n",
       " 'https://thredds-test.unidata.ucar.edu/thredds/fileServer/noaaport/text/fronts/Fronts_highres_KWBC_20210809_0600.txt',\n",
       " 'https://thredds-test.unidata.ucar.edu/thredds/fileServer/noaaport/text/fronts/Fronts_highres_KWBC_20210809_0900.txt',\n",
       " 'https://thredds-test.unidata.ucar.edu/thredds/fileServer/noaaport/text/fronts/Fronts_highres_KWBC_20210809_1200.txt',\n",
       " 'https://thredds-test.unidata.ucar.edu/thredds/fileServer/noaaport/text/fronts/Fronts_highres_KWBC_20210809_1500.txt',\n",
       " 'https://thredds-test.unidata.ucar.edu/thredds/fileServer/noaaport/text/fronts/Fronts_highres_KWBC_20210809_1800.txt',\n",
       " 'https://thredds-test.unidata.ucar.edu/thredds/fileServer/noaaport/text/fronts/Fronts_highres_KWBC_20210809_2100.txt',\n",
       " 'https://thredds-test.unidata.ucar.edu/thredds/fileServer/noaaport/text/fronts/Fronts_highres_KWBC_20210810_0000.txt',\n",
       " 'https://thredds-test.unidata.ucar.edu/thredds/fileServer/noaaport/text/fronts/Fronts_highres_KWBC_20210810_0300.txt',\n",
       " 'https://thredds-test.unidata.ucar.edu/thredds/fileServer/noaaport/text/fronts/Fronts_highres_KWBC_20210810_0600.txt',\n",
       " 'https://thredds-test.unidata.ucar.edu/thredds/fileServer/noaaport/text/fronts/Fronts_highres_KWBC_20210810_0900.txt',\n",
       " 'https://thredds-test.unidata.ucar.edu/thredds/fileServer/noaaport/text/fronts/Fronts_highres_KWBC_20210810_1200.txt',\n",
       " 'https://thredds-test.unidata.ucar.edu/thredds/fileServer/noaaport/text/fronts/Fronts_highres_KWBC_20210810_1500.txt',\n",
       " 'https://thredds-test.unidata.ucar.edu/thredds/fileServer/noaaport/text/fronts/Fronts_highres_KWBC_20210810_1800.txt',\n",
       " 'https://thredds-test.unidata.ucar.edu/thredds/fileServer/noaaport/text/fronts/Fronts_highres_KWBC_20210810_2100.txt',\n",
       " 'https://thredds-test.unidata.ucar.edu/thredds/fileServer/noaaport/text/fronts/Fronts_highres_KWBC_20210811_0000.txt',\n",
       " 'https://thredds-test.unidata.ucar.edu/thredds/fileServer/noaaport/text/fronts/Fronts_highres_KWBC_20210811_0300.txt',\n",
       " 'https://thredds-test.unidata.ucar.edu/thredds/fileServer/noaaport/text/fronts/Fronts_highres_KWBC_20210811_0600.txt',\n",
       " 'https://thredds-test.unidata.ucar.edu/thredds/fileServer/noaaport/text/fronts/Fronts_highres_KWBC_20210811_0900.txt',\n",
       " 'https://thredds-test.unidata.ucar.edu/thredds/fileServer/noaaport/text/fronts/Fronts_highres_KWBC_20210811_1200.txt',\n",
       " 'https://thredds-test.unidata.ucar.edu/thredds/fileServer/noaaport/text/fronts/Fronts_highres_KWBC_20210811_1500.txt']"
      ]
     },
     "execution_count": 26,
     "metadata": {},
     "output_type": "execute_result"
    }
   ],
   "source": [
    "urls_hires = [s for s in urls if \"highres\" in s]\n",
    "urls_hires # Every three hours \n",
    "#urls_hires[::8] # Every day at 00Z"
   ]
  },
  {
   "cell_type": "raw",
   "metadata": {},
   "source": [
    "urls_raw = [s for s in urls if not \"highres\" in s]\n",
    "urls_raw[::10]"
   ]
  },
  {
   "cell_type": "code",
   "execution_count": 19,
   "metadata": {},
   "outputs": [
    {
     "name": "stdout",
     "output_type": "stream",
     "text": [
      "Furthest back date-time:\n",
      "     Fronts_highres_KWBC_20210712_0000.txt\n",
      "\n",
      "Most recent date-time:\n",
      "     Fronts_highres_KWBC_20210811_1500.txt\n"
     ]
    }
   ],
   "source": [
    "# Take a rough look at the date range available for the high-res fronts\n",
    "\n",
    "base_len = len(\"'https://thredds-test.unidata.ucar.edu/thredds/fileServer/noaaport/text/fronts/\")\n",
    "print(f\"Furthest back date-time:\\n     {urls_hires[0][base_len-1:]}\\n\")\n",
    "print(f\"Most recent date-time:\\n     {urls_hires[-1][base_len-1:]}\")"
   ]
  },
  {
   "cell_type": "markdown",
   "metadata": {},
   "source": [
    "#### Pythonic way of downloading file:\n",
    "\n",
    "##### ```urllib.request.urlopen``` to download the text and write to textfile(s)\n",
    "* See below for the often simpler ```wget``` for command line routine also"
   ]
  },
  {
   "cell_type": "code",
   "execution_count": 11,
   "metadata": {},
   "outputs": [],
   "source": [
    "save_path = \"/Users/chowdahead/wx-data/\"\n",
    "save_path = \"/Users/chowdahead/Documents/GitHub/folium-watch-warn/data/\""
   ]
  },
  {
   "cell_type": "code",
   "execution_count": 12,
   "metadata": {},
   "outputs": [],
   "source": [
    "high_res = True"
   ]
  },
  {
   "cell_type": "code",
   "execution_count": 21,
   "metadata": {},
   "outputs": [
    {
     "data": {
      "text/plain": [
       "datetime.datetime(2021, 8, 11, 19, 0, 25, 895735)"
      ]
     },
     "execution_count": 21,
     "metadata": {},
     "output_type": "execute_result"
    }
   ],
   "source": [
    "date"
   ]
  },
  {
   "cell_type": "code",
   "execution_count": 30,
   "metadata": {},
   "outputs": [
    {
     "name": "stdout",
     "output_type": "stream",
     "text": [
      "https://thredds-test.unidata.ucar.edu/thredds/fileServer/noaaport/text/fronts/Fronts_highres_KWBC_20210811_1500.txt\n",
      "Fronts_highres_KWBC_20210811_1500.txt\n"
     ]
    }
   ],
   "source": [
    "#urls_hires\n",
    "\n",
    "one_url = urls_hires[-1]\n",
    "print(one_url)\n",
    "\n",
    "print(urls_hires[-1][-37:])\n",
    "file_name = urls_hires[-1][-37:]\n",
    "\n",
    "res = urllib.request.urlopen(one_url)\n",
    "fronts_txt = open(save_path+file_name, 'wb')\n",
    "fronts_txt.write(res.read())\n",
    "fronts_txt.close()"
   ]
  },
  {
   "cell_type": "raw",
   "metadata": {},
   "source": [
    "# base_url = \"https://thredds.unidata.ucar.edu/thredds/fileServer/noaaport/text/fronts/\"\n",
    "base_url = \"https://thredds-test.unidata.ucar.edu/thredds/fileServer/noaaport/text/fronts/\"\n",
    "try:\n",
    "    if high_res == True:\n",
    "        txt_url = f\"Fronts_highres_KWBC_{date.year}{date:%m}{date:%d}_{date:%H}00.txt\"\n",
    "    else:\n",
    "        txt_url = f\"Fronts_KWBC_{date.year}{date:%m}{date:%d}_{date:%H}00.txt\"\n",
    "except:\n",
    "    print(\"Request Error:\\n---------------------------------------\\n    Requested time not in dataset.\")\n",
    "\n",
    "one_url = base_url + txt_url\n",
    "print(one_url)\n",
    "res = urllib.request.urlopen(one_url)\n",
    "fronts_txt = open(save_path+txt_url, 'wb')\n",
    "fronts_txt.write(res.read())\n",
    "fronts_txt.close()"
   ]
  },
  {
   "cell_type": "code",
   "execution_count": 54,
   "metadata": {},
   "outputs": [
    {
     "data": {
      "text/plain": [
       "'https://thredds-test.unidata.ucar.edu/thredds/fileServer/noaaport/text/fronts/Fronts_highres_KWBC_20210317_1800.txt'"
      ]
     },
     "execution_count": 54,
     "metadata": {},
     "output_type": "execute_result"
    }
   ],
   "source": [
    "one_url"
   ]
  },
  {
   "cell_type": "code",
   "execution_count": 59,
   "metadata": {},
   "outputs": [],
   "source": [
    "fronts_data = pd.read_fwf(one_url,\n",
    "                          header=None)"
   ]
  },
  {
   "cell_type": "code",
   "execution_count": 68,
   "metadata": {},
   "outputs": [
    {
     "ename": "KeyError",
     "evalue": "12",
     "output_type": "error",
     "traceback": [
      "\u001b[0;31m---------------------------------------------------------------------------\u001b[0m",
      "\u001b[0;31mKeyError\u001b[0m                                  Traceback (most recent call last)",
      "\u001b[0;32m~/anaconda3/envs/comet-viewer/lib/python3.6/site-packages/pandas/core/indexes/base.py\u001b[0m in \u001b[0;36mget_loc\u001b[0;34m(self, key, method, tolerance)\u001b[0m\n\u001b[1;32m   2897\u001b[0m             \u001b[0;32mtry\u001b[0m\u001b[0;34m:\u001b[0m\u001b[0;34m\u001b[0m\u001b[0;34m\u001b[0m\u001b[0m\n\u001b[0;32m-> 2898\u001b[0;31m                 \u001b[0;32mreturn\u001b[0m \u001b[0mself\u001b[0m\u001b[0;34m.\u001b[0m\u001b[0m_engine\u001b[0m\u001b[0;34m.\u001b[0m\u001b[0mget_loc\u001b[0m\u001b[0;34m(\u001b[0m\u001b[0mcasted_key\u001b[0m\u001b[0;34m)\u001b[0m\u001b[0;34m\u001b[0m\u001b[0;34m\u001b[0m\u001b[0m\n\u001b[0m\u001b[1;32m   2899\u001b[0m             \u001b[0;32mexcept\u001b[0m \u001b[0mKeyError\u001b[0m \u001b[0;32mas\u001b[0m \u001b[0merr\u001b[0m\u001b[0;34m:\u001b[0m\u001b[0;34m\u001b[0m\u001b[0;34m\u001b[0m\u001b[0m\n",
      "\u001b[0;32mpandas/_libs/index.pyx\u001b[0m in \u001b[0;36mpandas._libs.index.IndexEngine.get_loc\u001b[0;34m()\u001b[0m\n",
      "\u001b[0;32mpandas/_libs/index.pyx\u001b[0m in \u001b[0;36mpandas._libs.index.IndexEngine.get_loc\u001b[0;34m()\u001b[0m\n",
      "\u001b[0;32mpandas/_libs/hashtable_class_helper.pxi\u001b[0m in \u001b[0;36mpandas._libs.hashtable.Int64HashTable.get_item\u001b[0;34m()\u001b[0m\n",
      "\u001b[0;32mpandas/_libs/hashtable_class_helper.pxi\u001b[0m in \u001b[0;36mpandas._libs.hashtable.Int64HashTable.get_item\u001b[0;34m()\u001b[0m\n",
      "\u001b[0;31mKeyError\u001b[0m: 12",
      "\nThe above exception was the direct cause of the following exception:\n",
      "\u001b[0;31mKeyError\u001b[0m                                  Traceback (most recent call last)",
      "\u001b[0;32m<ipython-input-68-f3feaa72af86>\u001b[0m in \u001b[0;36m<module>\u001b[0;34m\u001b[0m\n\u001b[1;32m      1\u001b[0m \u001b[0mfront_str\u001b[0m \u001b[0;34m=\u001b[0m \u001b[0;34m\"LOWS\"\u001b[0m\u001b[0;34m\u001b[0m\u001b[0;34m\u001b[0m\u001b[0m\n\u001b[1;32m      2\u001b[0m \u001b[0mfronts_index\u001b[0m \u001b[0;34m=\u001b[0m \u001b[0;34m[\u001b[0m\u001b[0mi\u001b[0m \u001b[0;32mfor\u001b[0m \u001b[0mi\u001b[0m \u001b[0;32min\u001b[0m \u001b[0mrange\u001b[0m\u001b[0;34m(\u001b[0m\u001b[0mfronts_data\u001b[0m\u001b[0;34m.\u001b[0m\u001b[0mshape\u001b[0m\u001b[0;34m[\u001b[0m\u001b[0;36m0\u001b[0m\u001b[0;34m]\u001b[0m\u001b[0;34m)\u001b[0m \u001b[0;32mif\u001b[0m \u001b[0mfront_str\u001b[0m \u001b[0;32min\u001b[0m \u001b[0mfronts_data\u001b[0m\u001b[0;34m.\u001b[0m\u001b[0miloc\u001b[0m\u001b[0;34m[\u001b[0m\u001b[0mi\u001b[0m\u001b[0;34m]\u001b[0m\u001b[0;34m[\u001b[0m\u001b[0;36m0\u001b[0m\u001b[0;34m]\u001b[0m\u001b[0;34m]\u001b[0m\u001b[0;34m\u001b[0m\u001b[0;34m\u001b[0m\u001b[0m\n\u001b[0;32m----> 3\u001b[0;31m \u001b[0mfronts_data\u001b[0m\u001b[0;34m[\u001b[0m\u001b[0mfronts_index\u001b[0m\u001b[0;34m[\u001b[0m\u001b[0;36m0\u001b[0m\u001b[0;34m]\u001b[0m\u001b[0;34m]\u001b[0m\u001b[0;34m\u001b[0m\u001b[0;34m\u001b[0m\u001b[0m\n\u001b[0m",
      "\u001b[0;32m~/anaconda3/envs/comet-viewer/lib/python3.6/site-packages/pandas/core/frame.py\u001b[0m in \u001b[0;36m__getitem__\u001b[0;34m(self, key)\u001b[0m\n\u001b[1;32m   2904\u001b[0m             \u001b[0;32mif\u001b[0m \u001b[0mself\u001b[0m\u001b[0;34m.\u001b[0m\u001b[0mcolumns\u001b[0m\u001b[0;34m.\u001b[0m\u001b[0mnlevels\u001b[0m \u001b[0;34m>\u001b[0m \u001b[0;36m1\u001b[0m\u001b[0;34m:\u001b[0m\u001b[0;34m\u001b[0m\u001b[0;34m\u001b[0m\u001b[0m\n\u001b[1;32m   2905\u001b[0m                 \u001b[0;32mreturn\u001b[0m \u001b[0mself\u001b[0m\u001b[0;34m.\u001b[0m\u001b[0m_getitem_multilevel\u001b[0m\u001b[0;34m(\u001b[0m\u001b[0mkey\u001b[0m\u001b[0;34m)\u001b[0m\u001b[0;34m\u001b[0m\u001b[0;34m\u001b[0m\u001b[0m\n\u001b[0;32m-> 2906\u001b[0;31m             \u001b[0mindexer\u001b[0m \u001b[0;34m=\u001b[0m \u001b[0mself\u001b[0m\u001b[0;34m.\u001b[0m\u001b[0mcolumns\u001b[0m\u001b[0;34m.\u001b[0m\u001b[0mget_loc\u001b[0m\u001b[0;34m(\u001b[0m\u001b[0mkey\u001b[0m\u001b[0;34m)\u001b[0m\u001b[0;34m\u001b[0m\u001b[0;34m\u001b[0m\u001b[0m\n\u001b[0m\u001b[1;32m   2907\u001b[0m             \u001b[0;32mif\u001b[0m \u001b[0mis_integer\u001b[0m\u001b[0;34m(\u001b[0m\u001b[0mindexer\u001b[0m\u001b[0;34m)\u001b[0m\u001b[0;34m:\u001b[0m\u001b[0;34m\u001b[0m\u001b[0;34m\u001b[0m\u001b[0m\n\u001b[1;32m   2908\u001b[0m                 \u001b[0mindexer\u001b[0m \u001b[0;34m=\u001b[0m \u001b[0;34m[\u001b[0m\u001b[0mindexer\u001b[0m\u001b[0;34m]\u001b[0m\u001b[0;34m\u001b[0m\u001b[0;34m\u001b[0m\u001b[0m\n",
      "\u001b[0;32m~/anaconda3/envs/comet-viewer/lib/python3.6/site-packages/pandas/core/indexes/base.py\u001b[0m in \u001b[0;36mget_loc\u001b[0;34m(self, key, method, tolerance)\u001b[0m\n\u001b[1;32m   2898\u001b[0m                 \u001b[0;32mreturn\u001b[0m \u001b[0mself\u001b[0m\u001b[0;34m.\u001b[0m\u001b[0m_engine\u001b[0m\u001b[0;34m.\u001b[0m\u001b[0mget_loc\u001b[0m\u001b[0;34m(\u001b[0m\u001b[0mcasted_key\u001b[0m\u001b[0;34m)\u001b[0m\u001b[0;34m\u001b[0m\u001b[0;34m\u001b[0m\u001b[0m\n\u001b[1;32m   2899\u001b[0m             \u001b[0;32mexcept\u001b[0m \u001b[0mKeyError\u001b[0m \u001b[0;32mas\u001b[0m \u001b[0merr\u001b[0m\u001b[0;34m:\u001b[0m\u001b[0;34m\u001b[0m\u001b[0;34m\u001b[0m\u001b[0m\n\u001b[0;32m-> 2900\u001b[0;31m                 \u001b[0;32mraise\u001b[0m \u001b[0mKeyError\u001b[0m\u001b[0;34m(\u001b[0m\u001b[0mkey\u001b[0m\u001b[0;34m)\u001b[0m \u001b[0;32mfrom\u001b[0m \u001b[0merr\u001b[0m\u001b[0;34m\u001b[0m\u001b[0;34m\u001b[0m\u001b[0m\n\u001b[0m\u001b[1;32m   2901\u001b[0m \u001b[0;34m\u001b[0m\u001b[0m\n\u001b[1;32m   2902\u001b[0m         \u001b[0;32mif\u001b[0m \u001b[0mtolerance\u001b[0m \u001b[0;32mis\u001b[0m \u001b[0;32mnot\u001b[0m \u001b[0;32mNone\u001b[0m\u001b[0;34m:\u001b[0m\u001b[0;34m\u001b[0m\u001b[0;34m\u001b[0m\u001b[0m\n",
      "\u001b[0;31mKeyError\u001b[0m: 12"
     ]
    }
   ],
   "source": [
    "front_str = \"LOWS\"\n",
    "fronts_index = [i for i in range(fronts_data.shape[0]) if front_str in fronts_data.iloc[i][0]]\n"
   ]
  },
  {
   "cell_type": "code",
   "execution_count": 64,
   "metadata": {},
   "outputs": [],
   "source": [
    "def front_parse_latlon(latlon_code=\"0560149\",print_on=True):\n",
    "    '''Grab lat and lon from coded values from WPC frontal analysis data\n",
    "    \n",
    "    Arguments\n",
    "    ---------\n",
    "    code : string\n",
    "        ***** required - 7 digit string *****\n",
    "        * format in XXXYYYY, with:\n",
    "        XXX : 3-digit latitude; with a period in front of last digit\n",
    "            ex. 384 -> 38.4 -> 38.4 deg north\n",
    "            ex. 045 -> 04.5 -> 4.5 deg north\n",
    "            ex. 009 -> 00.9 -> 0.9 deg north\n",
    "        YYYY : 4-digit longitude; with a period in front of last digit\n",
    "            ex. 1147 -> 114.7 -> 114.7 deg west\n",
    "            ex. 0979 -> 097.9 -> 97.9 deg west\n",
    "            ex. 0035 -> 003.5 -> 3.5 deg west\n",
    "            \n",
    "    Returns\n",
    "    -------\n",
    "    lat : str\n",
    "        converted latitude\n",
    "    lon : str\n",
    "        converted longitude\n",
    "    '''\n",
    "    print(latlon_code)\n",
    "    if len(latlon_code) != 7:\n",
    "        raise Exception(f\"Wrong number of digits in coded lat/lon: {latlon_code}\\n\\n\"+\\\n",
    "                        f\"Coded lat/lon number of digits: {len(latlon_code)}\\n\"+\\\n",
    "                        \n",
    "                       \"\\nPlease check data and ensure you are given coded lat/lon pairs with 7 digits.\\n\"+\\\n",
    "                    \"\\nsee docs\\n\")\n",
    "    lat_raw = latlon_code[0:3]\n",
    "    lon_raw = latlon_code[3:]\n",
    "    if print_on == True:\n",
    "        print(\"-----------------------------------------------------\")\n",
    "        print(f\"raw latitude: {lat_raw}\\nraw longitude: {lon_raw}\\n\")\n",
    "    \n",
    "    lat = f\"{latlon_code[0:2]}.{latlon_code[2:3]}\".strip(\"00\")\n",
    "    lon = f\"{latlon_code[3:-1]}.{latlon_code[-1:]}\".strip(\"00\")\n",
    "    if print_on == True:\n",
    "        print(f\"converted latitude (N): {float(lat)}\\nconverted longitude (W): {float(lon)}\\n\")\n",
    "    \n",
    "    return lat,lon"
   ]
  },
  {
   "cell_type": "code",
   "execution_count": 65,
   "metadata": {},
   "outputs": [],
   "source": [
    "def get_front_lat_lon(fronts_data,index):\n",
    "    \n",
    "    fronts_data = fronts_data.iloc[index][0].split()\n",
    "    \n",
    "    fronts = [front_parse_latlon(i,print_on=False) for i in fronts_data[1:]]\n",
    "    \n",
    "    lats_fronts = [float(i[0]) for i in fronts]\n",
    "    # make the longitudes negative since they are in degrees west\n",
    "    lons_fronts = [-float(i[1]) for i in fronts]\n",
    "    return lats_fronts,lons_fronts"
   ]
  },
  {
   "cell_type": "code",
   "execution_count": 66,
   "metadata": {},
   "outputs": [
    {
     "name": "stdout",
     "output_type": "stream",
     "text": [
      "1007\n"
     ]
    },
    {
     "ename": "Exception",
     "evalue": "Wrong number of digits in coded lat/lon: 1007\n\nCoded lat/lon number of digits: 4\n\nPlease check data and ensure you are given coded lat/lon pairs with 7 digits.\n\nsee docs\n",
     "output_type": "error",
     "traceback": [
      "\u001b[0;31m---------------------------------------------------------------------------\u001b[0m",
      "\u001b[0;31mException\u001b[0m                                 Traceback (most recent call last)",
      "\u001b[0;32m<ipython-input-66-bfe5982392da>\u001b[0m in \u001b[0;36m<module>\u001b[0;34m\u001b[0m\n\u001b[1;32m      1\u001b[0m \u001b[0;32mfor\u001b[0m \u001b[0mi\u001b[0m \u001b[0;32min\u001b[0m \u001b[0mfronts_index\u001b[0m\u001b[0;34m:\u001b[0m\u001b[0;34m\u001b[0m\u001b[0;34m\u001b[0m\u001b[0m\n\u001b[0;32m----> 2\u001b[0;31m     \u001b[0mlats_low\u001b[0m\u001b[0;34m,\u001b[0m\u001b[0mlons_low\u001b[0m \u001b[0;34m=\u001b[0m \u001b[0mget_front_lat_lon\u001b[0m\u001b[0;34m(\u001b[0m\u001b[0mfronts_data\u001b[0m\u001b[0;34m,\u001b[0m\u001b[0mi\u001b[0m\u001b[0;34m)\u001b[0m\u001b[0;34m\u001b[0m\u001b[0;34m\u001b[0m\u001b[0m\n\u001b[0m",
      "\u001b[0;32m<ipython-input-65-c86fcab0c86a>\u001b[0m in \u001b[0;36mget_front_lat_lon\u001b[0;34m(fronts_data, index)\u001b[0m\n\u001b[1;32m      3\u001b[0m     \u001b[0mfronts_data\u001b[0m \u001b[0;34m=\u001b[0m \u001b[0mfronts_data\u001b[0m\u001b[0;34m.\u001b[0m\u001b[0miloc\u001b[0m\u001b[0;34m[\u001b[0m\u001b[0mindex\u001b[0m\u001b[0;34m]\u001b[0m\u001b[0;34m[\u001b[0m\u001b[0;36m0\u001b[0m\u001b[0;34m]\u001b[0m\u001b[0;34m.\u001b[0m\u001b[0msplit\u001b[0m\u001b[0;34m(\u001b[0m\u001b[0;34m)\u001b[0m\u001b[0;34m\u001b[0m\u001b[0;34m\u001b[0m\u001b[0m\n\u001b[1;32m      4\u001b[0m \u001b[0;34m\u001b[0m\u001b[0m\n\u001b[0;32m----> 5\u001b[0;31m     \u001b[0mfronts\u001b[0m \u001b[0;34m=\u001b[0m \u001b[0;34m[\u001b[0m\u001b[0mfront_parse_latlon\u001b[0m\u001b[0;34m(\u001b[0m\u001b[0mi\u001b[0m\u001b[0;34m,\u001b[0m\u001b[0mprint_on\u001b[0m\u001b[0;34m=\u001b[0m\u001b[0;32mFalse\u001b[0m\u001b[0;34m)\u001b[0m \u001b[0;32mfor\u001b[0m \u001b[0mi\u001b[0m \u001b[0;32min\u001b[0m \u001b[0mfronts_data\u001b[0m\u001b[0;34m[\u001b[0m\u001b[0;36m1\u001b[0m\u001b[0;34m:\u001b[0m\u001b[0;34m]\u001b[0m\u001b[0;34m]\u001b[0m\u001b[0;34m\u001b[0m\u001b[0;34m\u001b[0m\u001b[0m\n\u001b[0m\u001b[1;32m      6\u001b[0m \u001b[0;34m\u001b[0m\u001b[0m\n\u001b[1;32m      7\u001b[0m     \u001b[0mlats_fronts\u001b[0m \u001b[0;34m=\u001b[0m \u001b[0;34m[\u001b[0m\u001b[0mfloat\u001b[0m\u001b[0;34m(\u001b[0m\u001b[0mi\u001b[0m\u001b[0;34m[\u001b[0m\u001b[0;36m0\u001b[0m\u001b[0;34m]\u001b[0m\u001b[0;34m)\u001b[0m \u001b[0;32mfor\u001b[0m \u001b[0mi\u001b[0m \u001b[0;32min\u001b[0m \u001b[0mfronts\u001b[0m\u001b[0;34m]\u001b[0m\u001b[0;34m\u001b[0m\u001b[0;34m\u001b[0m\u001b[0m\n",
      "\u001b[0;32m<ipython-input-65-c86fcab0c86a>\u001b[0m in \u001b[0;36m<listcomp>\u001b[0;34m(.0)\u001b[0m\n\u001b[1;32m      3\u001b[0m     \u001b[0mfronts_data\u001b[0m \u001b[0;34m=\u001b[0m \u001b[0mfronts_data\u001b[0m\u001b[0;34m.\u001b[0m\u001b[0miloc\u001b[0m\u001b[0;34m[\u001b[0m\u001b[0mindex\u001b[0m\u001b[0;34m]\u001b[0m\u001b[0;34m[\u001b[0m\u001b[0;36m0\u001b[0m\u001b[0;34m]\u001b[0m\u001b[0;34m.\u001b[0m\u001b[0msplit\u001b[0m\u001b[0;34m(\u001b[0m\u001b[0;34m)\u001b[0m\u001b[0;34m\u001b[0m\u001b[0;34m\u001b[0m\u001b[0m\n\u001b[1;32m      4\u001b[0m \u001b[0;34m\u001b[0m\u001b[0m\n\u001b[0;32m----> 5\u001b[0;31m     \u001b[0mfronts\u001b[0m \u001b[0;34m=\u001b[0m \u001b[0;34m[\u001b[0m\u001b[0mfront_parse_latlon\u001b[0m\u001b[0;34m(\u001b[0m\u001b[0mi\u001b[0m\u001b[0;34m,\u001b[0m\u001b[0mprint_on\u001b[0m\u001b[0;34m=\u001b[0m\u001b[0;32mFalse\u001b[0m\u001b[0;34m)\u001b[0m \u001b[0;32mfor\u001b[0m \u001b[0mi\u001b[0m \u001b[0;32min\u001b[0m \u001b[0mfronts_data\u001b[0m\u001b[0;34m[\u001b[0m\u001b[0;36m1\u001b[0m\u001b[0;34m:\u001b[0m\u001b[0;34m]\u001b[0m\u001b[0;34m]\u001b[0m\u001b[0;34m\u001b[0m\u001b[0;34m\u001b[0m\u001b[0m\n\u001b[0m\u001b[1;32m      6\u001b[0m \u001b[0;34m\u001b[0m\u001b[0m\n\u001b[1;32m      7\u001b[0m     \u001b[0mlats_fronts\u001b[0m \u001b[0;34m=\u001b[0m \u001b[0;34m[\u001b[0m\u001b[0mfloat\u001b[0m\u001b[0;34m(\u001b[0m\u001b[0mi\u001b[0m\u001b[0;34m[\u001b[0m\u001b[0;36m0\u001b[0m\u001b[0;34m]\u001b[0m\u001b[0;34m)\u001b[0m \u001b[0;32mfor\u001b[0m \u001b[0mi\u001b[0m \u001b[0;32min\u001b[0m \u001b[0mfronts\u001b[0m\u001b[0;34m]\u001b[0m\u001b[0;34m\u001b[0m\u001b[0;34m\u001b[0m\u001b[0m\n",
      "\u001b[0;32m<ipython-input-64-b63da0bd7941>\u001b[0m in \u001b[0;36mfront_parse_latlon\u001b[0;34m(latlon_code, print_on)\u001b[0m\n\u001b[1;32m     29\u001b[0m \u001b[0;34m\u001b[0m\u001b[0m\n\u001b[1;32m     30\u001b[0m                        \u001b[0;34m\"\\nPlease check data and ensure you are given coded lat/lon pairs with 7 digits.\\n\"\u001b[0m\u001b[0;34m+\u001b[0m\u001b[0;31m\\\u001b[0m\u001b[0;34m\u001b[0m\u001b[0;34m\u001b[0m\u001b[0m\n\u001b[0;32m---> 31\u001b[0;31m                     \"\\nsee docs\\n\")\n\u001b[0m\u001b[1;32m     32\u001b[0m     \u001b[0mlat_raw\u001b[0m \u001b[0;34m=\u001b[0m \u001b[0mlatlon_code\u001b[0m\u001b[0;34m[\u001b[0m\u001b[0;36m0\u001b[0m\u001b[0;34m:\u001b[0m\u001b[0;36m3\u001b[0m\u001b[0;34m]\u001b[0m\u001b[0;34m\u001b[0m\u001b[0;34m\u001b[0m\u001b[0m\n\u001b[1;32m     33\u001b[0m     \u001b[0mlon_raw\u001b[0m \u001b[0;34m=\u001b[0m \u001b[0mlatlon_code\u001b[0m\u001b[0;34m[\u001b[0m\u001b[0;36m3\u001b[0m\u001b[0;34m:\u001b[0m\u001b[0;34m]\u001b[0m\u001b[0;34m\u001b[0m\u001b[0;34m\u001b[0m\u001b[0m\n",
      "\u001b[0;31mException\u001b[0m: Wrong number of digits in coded lat/lon: 1007\n\nCoded lat/lon number of digits: 4\n\nPlease check data and ensure you are given coded lat/lon pairs with 7 digits.\n\nsee docs\n"
     ]
    }
   ],
   "source": [
    "for i in fronts_index:    \n",
    "    lats_low,lons_low = get_front_lat_lon(fronts_data,i)"
   ]
  },
  {
   "cell_type": "markdown",
   "metadata": {},
   "source": [
    "##### Note - \n",
    "\n",
    "##### A common problem is that the coded lat/lon values aren't always 7-digits. What happens then?\n",
    "\n",
    "* Run an exception; however the data will not be able to be parsed correctly..."
   ]
  },
  {
   "cell_type": "markdown",
   "metadata": {},
   "source": [
    "---"
   ]
  },
  {
   "cell_type": "markdown",
   "metadata": {},
   "source": [
    "#### Quicker way to get files from ```wget``` cmd tool"
   ]
  },
  {
   "cell_type": "code",
   "execution_count": 140,
   "metadata": {},
   "outputs": [
    {
     "name": "stdout",
     "output_type": "stream",
     "text": [
      "Downloading : Fronts_highres_KWBC_20201026_0000.txt \n",
      "From : https://thredds-test.unidata.ucar.edu/thredds/fileServer/noaaport/text/fronts/\n"
     ]
    },
    {
     "data": {
      "text/plain": [
       "256"
      ]
     },
     "execution_count": 140,
     "metadata": {},
     "output_type": "execute_result"
    }
   ],
   "source": [
    "import os\n",
    "print(f'Downloading : {txt_url} \\nFrom : {base_url}')\n",
    "os.system(f'wget : {one_url}')"
   ]
  },
  {
   "cell_type": "code",
   "execution_count": null,
   "metadata": {},
   "outputs": [],
   "source": []
  }
 ],
 "metadata": {
  "kernelspec": {
   "display_name": "Python 3",
   "language": "python",
   "name": "python3"
  },
  "language_info": {
   "codemirror_mode": {
    "name": "ipython",
    "version": 3
   },
   "file_extension": ".py",
   "mimetype": "text/x-python",
   "name": "python",
   "nbconvert_exporter": "python",
   "pygments_lexer": "ipython3",
   "version": "3.7.6"
  }
 },
 "nbformat": 4,
 "nbformat_minor": 4
}
