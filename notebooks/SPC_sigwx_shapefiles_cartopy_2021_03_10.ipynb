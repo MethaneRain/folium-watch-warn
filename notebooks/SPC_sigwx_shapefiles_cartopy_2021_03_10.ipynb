{
 "cells": [
  {
   "cell_type": "raw",
   "metadata": {},
   "source": [
    "https://ftp.wpc.ncep.noaa.gov/shapefiles/noaa_chart/"
   ]
  },
  {
   "cell_type": "code",
   "execution_count": 1,
   "metadata": {},
   "outputs": [],
   "source": [
    "%matplotlib inline"
   ]
  },
  {
   "cell_type": "code",
   "execution_count": 2,
   "metadata": {},
   "outputs": [
    {
     "name": "stdout",
     "output_type": "stream",
     "text": [
      "/Users/chowdahead/Python_Scripts\n"
     ]
    }
   ],
   "source": [
    "cd Python_Scripts/"
   ]
  },
  {
   "cell_type": "code",
   "execution_count": 3,
   "metadata": {},
   "outputs": [],
   "source": [
    "import cartopy.crs as ccrs\n",
    "import cartopy.feature as cfeature\n",
    "import matplotlib.pyplot as plt\n",
    "from matplotlib import patheffects\n",
    "from datetime import datetime\n",
    "from matplotlib.offsetbox import TextArea, VPacker, AnnotationBbox\n",
    "import glob, os\n",
    "\n",
    "from cartopy.io.shapereader import Reader\n",
    "from cartopy.feature import ShapelyFeature\n",
    "\n",
    "import geopandas as gp\n",
    "\n",
    "import numpy as np"
   ]
  },
  {
   "cell_type": "code",
   "execution_count": 5,
   "metadata": {},
   "outputs": [],
   "source": [
    "os.chdir(\"../data/\")"
   ]
  },
  {
   "cell_type": "raw",
   "metadata": {},
   "source": [
    "today = datetime.utcnow()\n",
    "today_date = f\"{today:%Y_%m_%d}\"\n",
    "today_date"
   ]
  },
  {
   "cell_type": "markdown",
   "metadata": {},
   "source": [
    "https://ftp.wpc.ncep.noaa.gov/shapefiles/noaa_chart/WPC_Day1_sigwx_latest.zip"
   ]
  },
  {
   "cell_type": "code",
   "execution_count": 9,
   "metadata": {},
   "outputs": [],
   "source": [
    "day_num = 1\n",
    "os.chdir(\"2021_08_11/\")"
   ]
  },
  {
   "cell_type": "code",
   "execution_count": 11,
   "metadata": {},
   "outputs": [],
   "source": [
    "! mkdir DAY\"$day_num\"_SIGWX_latest/\n"
   ]
  },
  {
   "cell_type": "code",
   "execution_count": 13,
   "metadata": {},
   "outputs": [
    {
     "name": "stdout",
     "output_type": "stream",
     "text": [
      "  % Total    % Received % Xferd  Average Speed   Time    Time     Time  Current\n",
      "                                 Dload  Upload   Total   Spent    Left  Speed\n",
      "100  5589  100  5589    0     0  11993      0 --:--:-- --:--:-- --:--:-- 11993\n"
     ]
    }
   ],
   "source": [
    "! curl -L https://ftp.wpc.ncep.noaa.gov/shapefiles/noaa_chart/WPC_Day\"$day_num\"_sigwx_latest.zip > DAY\"$day_num\"_SIGWX_latest.zip\n"
   ]
  },
  {
   "cell_type": "code",
   "execution_count": 14,
   "metadata": {},
   "outputs": [
    {
     "name": "stdout",
     "output_type": "stream",
     "text": [
      "x WPC_Day1_sigwx_latest.dbf\r\n",
      "x WPC_Day1_sigwx_latest.shx\r\n",
      "x WPC_Day1_sigwx_latest.shp\r\n",
      "x WPC_Day1_sigwx_latest.prj\r\n"
     ]
    }
   ],
   "source": [
    "! tar xvzf DAY\"$day_num\"_SIGWX_latest.zip -C DAY\"$day_num\"_SIGWX_latest/"
   ]
  },
  {
   "cell_type": "code",
   "execution_count": 15,
   "metadata": {},
   "outputs": [
    {
     "data": {
      "text/plain": [
       "'DAY1_SIGWX_latest'"
      ]
     },
     "execution_count": 15,
     "metadata": {},
     "output_type": "execute_result"
    }
   ],
   "source": [
    "PATH = f\"DAY{day_num}_SIGWX_latest\"\n",
    "PATH"
   ]
  },
  {
   "cell_type": "code",
   "execution_count": 17,
   "metadata": {},
   "outputs": [
    {
     "data": {
      "text/plain": [
       "['DAY1_SIGWX_latest/WPC_Day1_sigwx_latest.shp']"
      ]
     },
     "execution_count": 17,
     "metadata": {},
     "output_type": "execute_result"
    }
   ],
   "source": [
    "\n",
    "path = f\"{PATH}\"\n",
    "shp =  glob.glob(f\"{path}/*.shp\")\n",
    "shp"
   ]
  },
  {
   "cell_type": "code",
   "execution_count": 18,
   "metadata": {},
   "outputs": [
    {
     "name": "stdout",
     "output_type": "stream",
     "text": [
      "Shape of the dataframe: (2, 5)\n",
      "Projection of dataframe: {'proj': 'longlat', 'R': 6371200, 'no_defs': True}\n"
     ]
    },
    {
     "data": {
      "text/html": [
       "<div>\n",
       "<style scoped>\n",
       "    .dataframe tbody tr th:only-of-type {\n",
       "        vertical-align: middle;\n",
       "    }\n",
       "\n",
       "    .dataframe tbody tr th {\n",
       "        vertical-align: top;\n",
       "    }\n",
       "\n",
       "    .dataframe thead th {\n",
       "        text-align: right;\n",
       "    }\n",
       "</style>\n",
       "<table border=\"1\" class=\"dataframe\">\n",
       "  <thead>\n",
       "    <tr style=\"text-align: right;\">\n",
       "      <th></th>\n",
       "      <th>ID</th>\n",
       "      <th>PRODUCT</th>\n",
       "      <th>VALID_DATE</th>\n",
       "      <th>SIG_WX_TYPE</th>\n",
       "      <th>geometry</th>\n",
       "    </tr>\n",
       "  </thead>\n",
       "  <tbody>\n",
       "    <tr>\n",
       "      <th>0</th>\n",
       "      <td>1</td>\n",
       "      <td>Day 1 Significant Weather</td>\n",
       "      <td>08/12/21</td>\n",
       "      <td>Severe Thunderstorms</td>\n",
       "      <td>POLYGON ((-87.99000 41.22000, -87.99000 41.250...</td>\n",
       "    </tr>\n",
       "    <tr>\n",
       "      <th>1</th>\n",
       "      <td>2</td>\n",
       "      <td>Day 1 Significant Weather</td>\n",
       "      <td>08/12/21</td>\n",
       "      <td>Severe Thunderstorms</td>\n",
       "      <td>POLYGON ((-78.95000 44.21000, -78.90000 44.230...</td>\n",
       "    </tr>\n",
       "  </tbody>\n",
       "</table>\n",
       "</div>"
      ],
      "text/plain": [
       "   ID                    PRODUCT VALID_DATE           SIG_WX_TYPE  \\\n",
       "0   1  Day 1 Significant Weather   08/12/21  Severe Thunderstorms   \n",
       "1   2  Day 1 Significant Weather   08/12/21  Severe Thunderstorms   \n",
       "\n",
       "                                            geometry  \n",
       "0  POLYGON ((-87.99000 41.22000, -87.99000 41.250...  \n",
       "1  POLYGON ((-78.95000 44.21000, -78.90000 44.230...  "
      ]
     },
     "execution_count": 18,
     "metadata": {},
     "output_type": "execute_result"
    }
   ],
   "source": [
    "\n",
    "shp = shp[0]\n",
    "\"\"\"\n",
    " current_all.shp\n",
    "x current_all.shx\n",
    "x current_all.dbf\n",
    "x current_all.cpg\n",
    "x current_all.prj\n",
    "\"\"\"\n",
    "usa = gp.read_file(shp)\n",
    "print(\"Shape of the dataframe: {}\".format(usa.shape))\n",
    "print(\"Projection of dataframe: {}\".format(usa.crs))\n",
    "#usa #last 5 records in dataframe\n",
    "usa"
   ]
  },
  {
   "cell_type": "code",
   "execution_count": 19,
   "metadata": {},
   "outputs": [
    {
     "data": {
      "text/plain": [
       "0    POLYGON ((-87.99000 41.22000, -87.99000 41.250...\n",
       "1    POLYGON ((-78.95000 44.21000, -78.90000 44.230...\n",
       "Name: geometry, dtype: geometry"
      ]
     },
     "execution_count": 19,
     "metadata": {},
     "output_type": "execute_result"
    }
   ],
   "source": [
    "usa.geometry.squeeze()"
   ]
  },
  {
   "cell_type": "code",
   "execution_count": 72,
   "metadata": {},
   "outputs": [
    {
     "data": {
      "text/plain": [
       "['__array__',\n",
       " '__class__',\n",
       " '__delattr__',\n",
       " '__dict__',\n",
       " '__dir__',\n",
       " '__doc__',\n",
       " '__eq__',\n",
       " '__format__',\n",
       " '__ge__',\n",
       " '__getattribute__',\n",
       " '__getitem__',\n",
       " '__gt__',\n",
       " '__hash__',\n",
       " '__init__',\n",
       " '__init_subclass__',\n",
       " '__iter__',\n",
       " '__le__',\n",
       " '__len__',\n",
       " '__lt__',\n",
       " '__module__',\n",
       " '__ne__',\n",
       " '__new__',\n",
       " '__reduce__',\n",
       " '__reduce_ex__',\n",
       " '__repr__',\n",
       " '__setattr__',\n",
       " '__setitem__',\n",
       " '__setstate__',\n",
       " '__sizeof__',\n",
       " '__str__',\n",
       " '__subclasshook__',\n",
       " '__weakref__',\n",
       " '_binary_method',\n",
       " '_binop',\n",
       " '_can_hold_na',\n",
       " '_concat_same_type',\n",
       " '_crs',\n",
       " '_dtype',\n",
       " '_fill',\n",
       " '_formatter',\n",
       " '_from_factorized',\n",
       " '_from_sequence',\n",
       " '_from_sequence_of_strings',\n",
       " '_reduce',\n",
       " '_typ',\n",
       " '_values_for_argsort',\n",
       " '_values_for_factorize',\n",
       " 'affine_transform',\n",
       " 'almost_equals',\n",
       " 'area',\n",
       " 'argmax',\n",
       " 'argmin',\n",
       " 'argsort',\n",
       " 'astype',\n",
       " 'boundary',\n",
       " 'bounds',\n",
       " 'buffer',\n",
       " 'centroid',\n",
       " 'check_geographic_crs',\n",
       " 'contains',\n",
       " 'convex_hull',\n",
       " 'copy',\n",
       " 'covered_by',\n",
       " 'covers',\n",
       " 'crosses',\n",
       " 'crs',\n",
       " 'data',\n",
       " 'difference',\n",
       " 'disjoint',\n",
       " 'distance',\n",
       " 'dropna',\n",
       " 'dtype',\n",
       " 'envelope',\n",
       " 'equals',\n",
       " 'equals_exact',\n",
       " 'exterior',\n",
       " 'factorize',\n",
       " 'fillna',\n",
       " 'geom_almost_equals',\n",
       " 'geom_equals',\n",
       " 'geom_equals_exact',\n",
       " 'geom_type',\n",
       " 'has_z',\n",
       " 'interiors',\n",
       " 'interpolate',\n",
       " 'intersection',\n",
       " 'intersects',\n",
       " 'is_closed',\n",
       " 'is_empty',\n",
       " 'is_ring',\n",
       " 'is_simple',\n",
       " 'is_valid',\n",
       " 'isna',\n",
       " 'length',\n",
       " 'nbytes',\n",
       " 'ndim',\n",
       " 'overlaps',\n",
       " 'project',\n",
       " 'ravel',\n",
       " 'relate',\n",
       " 'repeat',\n",
       " 'representative_point',\n",
       " 'rotate',\n",
       " 'scale',\n",
       " 'searchsorted',\n",
       " 'shape',\n",
       " 'shift',\n",
       " 'simplify',\n",
       " 'size',\n",
       " 'skew',\n",
       " 'symmetric_difference',\n",
       " 'take',\n",
       " 'to_numpy',\n",
       " 'total_bounds',\n",
       " 'touches',\n",
       " 'translate',\n",
       " 'unary_union',\n",
       " 'union',\n",
       " 'unique',\n",
       " 'view',\n",
       " 'within',\n",
       " 'x',\n",
       " 'y']"
      ]
     },
     "execution_count": 72,
     "metadata": {},
     "output_type": "execute_result"
    }
   ],
   "source": [
    "dir(usa.geometry.squeeze().values)"
   ]
  },
  {
   "cell_type": "code",
   "execution_count": 46,
   "metadata": {},
   "outputs": [
    {
     "name": "stderr",
     "output_type": "stream",
     "text": [
      "/Users/chowdahead/anaconda3/envs/comet-viewer/lib/python3.6/site-packages/ipykernel_launcher.py:1: UserWarning: Geometry is in a geographic CRS. Results from 'area' are likely incorrect. Use 'GeoSeries.to_crs()' to re-project geometries to a projected CRS before this operation.\n",
      "\n",
      "  \"\"\"Entry point for launching an IPython kernel.\n"
     ]
    },
    {
     "data": {
      "text/plain": [
       "0     3.44325\n",
       "1    83.11785\n",
       "2    85.81455\n",
       "dtype: float64"
      ]
     },
     "execution_count": 46,
     "metadata": {},
     "output_type": "execute_result"
    }
   ],
   "source": [
    "usa.geometry.area"
   ]
  },
  {
   "cell_type": "code",
   "execution_count": 20,
   "metadata": {},
   "outputs": [
    {
     "data": {
      "text/plain": [
       "{'proj': 'longlat', 'R': 6371200, 'no_defs': True}"
      ]
     },
     "execution_count": 20,
     "metadata": {},
     "output_type": "execute_result"
    }
   ],
   "source": [
    "usa.crs"
   ]
  },
  {
   "cell_type": "code",
   "execution_count": 21,
   "metadata": {},
   "outputs": [
    {
     "data": {
      "text/plain": [
       "['Severe Thunderstorms']"
      ]
     },
     "execution_count": 21,
     "metadata": {},
     "output_type": "execute_result"
    }
   ],
   "source": [
    "list(usa.SIG_WX_TYPE.unique())"
   ]
  },
  {
   "cell_type": "code",
   "execution_count": 26,
   "metadata": {},
   "outputs": [
    {
     "data": {
      "text/html": [
       "<div>\n",
       "<style scoped>\n",
       "    .dataframe tbody tr th:only-of-type {\n",
       "        vertical-align: middle;\n",
       "    }\n",
       "\n",
       "    .dataframe tbody tr th {\n",
       "        vertical-align: top;\n",
       "    }\n",
       "\n",
       "    .dataframe thead th {\n",
       "        text-align: right;\n",
       "    }\n",
       "</style>\n",
       "<table border=\"1\" class=\"dataframe\">\n",
       "  <thead>\n",
       "    <tr style=\"text-align: right;\">\n",
       "      <th></th>\n",
       "      <th>ID</th>\n",
       "      <th>PRODUCT</th>\n",
       "      <th>VALID_DATE</th>\n",
       "      <th>SIG_WX_TYPE</th>\n",
       "      <th>geometry</th>\n",
       "    </tr>\n",
       "  </thead>\n",
       "  <tbody>\n",
       "    <tr>\n",
       "      <th>0</th>\n",
       "      <td>1</td>\n",
       "      <td>Day 1 Significant Weather</td>\n",
       "      <td>08/12/21</td>\n",
       "      <td>Severe Thunderstorms</td>\n",
       "      <td>POLYGON ((-87.99000 41.22000, -87.99000 41.250...</td>\n",
       "    </tr>\n",
       "    <tr>\n",
       "      <th>1</th>\n",
       "      <td>2</td>\n",
       "      <td>Day 1 Significant Weather</td>\n",
       "      <td>08/12/21</td>\n",
       "      <td>Severe Thunderstorms</td>\n",
       "      <td>POLYGON ((-78.95000 44.21000, -78.90000 44.230...</td>\n",
       "    </tr>\n",
       "  </tbody>\n",
       "</table>\n",
       "</div>"
      ],
      "text/plain": [
       "   ID                    PRODUCT VALID_DATE           SIG_WX_TYPE  \\\n",
       "0   1  Day 1 Significant Weather   08/12/21  Severe Thunderstorms   \n",
       "1   2  Day 1 Significant Weather   08/12/21  Severe Thunderstorms   \n",
       "\n",
       "                                            geometry  \n",
       "0  POLYGON ((-87.99000 41.22000, -87.99000 41.250...  \n",
       "1  POLYGON ((-78.95000 44.21000, -78.90000 44.230...  "
      ]
     },
     "execution_count": 26,
     "metadata": {},
     "output_type": "execute_result"
    }
   ],
   "source": [
    "tstorm = usa[usa.SIG_WX_TYPE == \"Severe Thunderstorms\"]\n",
    "tstorm"
   ]
  },
  {
   "cell_type": "code",
   "execution_count": 23,
   "metadata": {},
   "outputs": [
    {
     "data": {
      "text/plain": [
       "{'proj': 'longlat', 'R': 6371200, 'no_defs': True}"
      ]
     },
     "execution_count": 23,
     "metadata": {},
     "output_type": "execute_result"
    }
   ],
   "source": [
    "crs = usa.crs\n",
    "crs"
   ]
  },
  {
   "cell_type": "code",
   "execution_count": 27,
   "metadata": {
    "scrolled": false
   },
   "outputs": [
    {
     "data": {
      "image/png": "[encoded data removed]",
      "text/plain": [
       "<Figure size 720x576 with 1 Axes>"
      ]
     },
     "metadata": {
      "needs_background": "light"
     },
     "output_type": "display_data"
    }
   ],
   "source": [
    "\n",
    "   \n",
    "    # Set Projection of Plot\n",
    "plotcrs = ccrs.LambertConformal(central_latitude=[30, 60], central_longitude=-100)\n",
    "    \n",
    "    # Lat/Lon Extents [lon0,lon1,lat0,lat1]\n",
    "extent = [-99., -80., 25., 44.]\n",
    "    \n",
    "    \n",
    "fig = plt.figure(figsize=(10., 8.))\n",
    "    \n",
    "    #add_metpy_logo(fig, 25, 950, size='small')\n",
    "    \n",
    "                                        # Add the Map \n",
    "    #---------------------------------------------------------------------------------------------------\n",
    "ax = plt.subplot(111, projection=plotcrs)\n",
    "    \n",
    "    \n",
    "    # Set extent and plot map lines\n",
    "ax.set_extent(extent)\n",
    "         \n",
    "ax.coastlines(resolution='10m')\n",
    "    \n",
    "                                # Add State/Country Boundaries to Plot\n",
    "    #---------------------------------------------------------------------------------------------------    \n",
    "   \n",
    "    #ax.add_feature(cfeature.BORDERS,edgecolor=\"k\")\n",
    "    #ax.add_feature(cfeature.LAND,facecolor=\"k\",linewidth=0.2)\n",
    "    #ax.add_feature(cfeature.OCEAN,facecolor=\"k\",linewidth=0.2,edgecolor=\"k\")\n",
    "    #ax.add_feature(cfeature.LAKES,facecolor=\"k\",linewidth=0.2,edgecolor=\"k\",)\n",
    "    \n",
    "state_borders = cfeature.NaturalEarthFeature(\n",
    "                    category='cultural', name='admin_1_states_provinces_lines',\n",
    "                    scale='10m',facecolor='none')\n",
    "ax.add_feature(state_borders, edgecolor='k', linewidth=0.35)\n",
    "        \n",
    "country_borders = cfeature.NaturalEarthFeature(category='cultural',\n",
    "                    name='admin_0_countries',scale='10m', facecolor='none')\n",
    "ax.add_feature(country_borders,edgecolor='k',linewidth=0.2)\n",
    "    \n",
    "    \n",
    "lakes = cfeature.NaturalEarthFeature('physical', 'lakes', '50m',\n",
    "                                        facecolor=\"w\")\n",
    "ax.add_feature(lakes,edgecolor='k',linewidth=0.2)\n",
    "      \n",
    "#ax.add_feature(cfeature.BORDERS,edgecolor=\"w\")\n",
    "ax.add_feature(cfeature.LAND,facecolor=\"w\",linewidth=0.2)\n",
    "ax.add_feature(cfeature.OCEAN,facecolor=\"w\",linewidth=0.2,edgecolor=\"k\")\n",
    "\n",
    "#ax.add_feature(COUNTIES)\n",
    "ax.add_geometries(tstorm[\"geometry\"],crs=ccrs.PlateCarree(),\n",
    "                  facecolor=\"orange\",edgecolor=\"k\",alpha=0.5)\n",
    "\n",
    "#ax.add_geometries(crit[\"geometry\"],crs=ccrs.PlateCarree(),\n",
    "#                  facecolor=\"red\",edgecolor=\"k\",alpha=0.5,zorder=100)\n",
    "#ax.add_geometries(extr[\"geometry\"],crs=ccrs.PlateCarree(),\n",
    "#                  facecolor=\"k\",edgecolor=\"k\",alpha=0.5)\n",
    "\n",
    "#ax.add_geometries(high[\"geometry\"],crs=ccrs.PlateCarree(),facecolor=\"r\",edgecolor=\"k\",alpha=0.5)\n",
    "\n",
    "#ax.text(-129.5,20.3, \"Slight (10-39%)\", size=18,\n",
    "#        color=\"b\", bbox=dict(fc=\"none\"),transform=ccrs.PlateCarree())\n",
    "\n",
    "outline_effect = [patheffects.withStroke(linewidth=1.5, foreground='k')] \n",
    "texts = ['Elevated','Critical','Extreme']\n",
    "colors = ['orange','red','#FF69B4']\n",
    "Texts = []\n",
    "   # Set the font \n",
    "font = {'family': 'serif',\n",
    "        'color':  'darkred',\n",
    "        'weight': 'normal',\n",
    "        'size': 18,\n",
    "        }\n",
    "'''\n",
    "for t,c in zip(texts,colors):\n",
    "    Texts.append(TextArea(t,textprops=dict(color=c,fontsize=15,path_effects=outline_effect)))\n",
    "    \n",
    "texts_vbox = VPacker(children=Texts,pad=1,sep=5)\n",
    "ann = AnnotationBbox(texts_vbox,(.012,0.1),xycoords=ax.transAxes,\n",
    "                            box_alignment=(0,.5),bboxprops = \n",
    "                            dict(facecolor='w',boxstyle='round',edgecolor='k'))\n",
    "ann.set_figure(fig)\n",
    "fig.artists.append(ann)\n",
    "'''\n",
    "#prod = usa['PRODUCT'][0].replace(\"probability\",\"prob.\").replace(\"greater than\",\">\").replace(\"inches\",\"in.\")\n",
    "\n",
    "outline_effect2 = [patheffects.withStroke(linewidth=1.5, foreground='w')] \n",
    "ax.set_title(f\"Day {day_num} Significant WX\",loc='right',color='k', fontsize=12, weight='bold',\n",
    "            path_effects=outline_effect2)\n",
    "\n",
    "ax.set_title(usa[\"VALID_DATE\"][0],loc='left',color='k', fontsize=12, weight='bold',\n",
    "            path_effects=outline_effect2)\n",
    "\n",
    "#prod_time = ax.text(0.99, 0.01,prod ,\n",
    "#                            horizontalalignment='right', transform=ax.transAxes,\n",
    "#                            color='white', fontsize=7, weight='bold')\n",
    "\n",
    "#prod_time.set_path_effects(outline_effect)\n",
    "    \n",
    "\n",
    "#fig.savefig(f\"{2021_03_17}_day{day_num}_sigwx_3.png\",bbox_inches=\"tight\",dpi=120)\n",
    "fig.savefig(f\"{2021_03_17}_day{day_num}_sigwx_zoomed.png\",bbox_inches=\"tight\",dpi=120)"
   ]
  },
  {
   "cell_type": "code",
   "execution_count": null,
   "metadata": {},
   "outputs": [],
   "source": [
    "elev.plot()"
   ]
  }
 ],
 "metadata": {
  "kernelspec": {
   "display_name": "Python 3",
   "language": "python",
   "name": "python3"
  },
  "language_info": {
   "codemirror_mode": {
    "name": "ipython",
    "version": 3
   },
   "file_extension": ".py",
   "mimetype": "text/x-python",
   "name": "python",
   "nbconvert_exporter": "python",
   "pygments_lexer": "ipython3",
   "version": "3.7.6"
  }
 },
 "nbformat": 4,
 "nbformat_minor": 4
}
