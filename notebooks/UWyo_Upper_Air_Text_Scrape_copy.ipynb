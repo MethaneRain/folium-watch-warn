{
 "cells": [
  {
   "cell_type": "code",
   "execution_count": 97,
   "metadata": {},
   "outputs": [
    {
     "name": "stdout",
     "output_type": "stream",
     "text": [
      "\n",
      "-----------------------------------------------------------------------------\n",
      "   PRES   HGHT   TEMP   DWPT   RELH   MIXR   DRCT   SKNT   THTA   THTE   THTV\n",
      "    hPa     m      C      C      %    g/kg    deg   knot     K      K      K \n",
      "-----------------------------------------------------------------------------\n",
      " 1000.0     72                                                               \n",
      "  925.0    718                                                               \n",
      "  850.0   1404                                                               \n",
      "  828.0   1611   -0.7   -1.4     95   4.19     90      5  287.6  299.7  288.3\n",
      "  814.0   1747   -1.5   -3.0     90   3.78     62     11  288.1  299.2  288.8\n",
      "  812.0   1767   -0.5   -1.6     92   4.21     58     12  289.4  301.7  290.1\n",
      "  808.0   1807    1.2   -0.9     86   4.45     50     14  291.6  304.7  292.4\n",
      "  805.8   1829    1.1   -0.9     86   4.45     45     15  291.8  304.9  292.5\n",
      "  784.0   2050    0.6   -1.5     86   4.39     31     11  293.5  306.5  294.2\n",
      "  778.0   2112    0.4   -5.6     64   3.25     26     10  293.9  303.8  294.5\n",
      "  775.9   2134    0.3   -5.8     63   3.21     25     10  294.1  303.8  294.6\n",
      "  748.0   2428   -0.5   -8.5     55   2.70    356      1  296.2  304.6  296.7\n",
      "  747.0   2438   -0.6   -8.6     55   2.69    355      1  296.3  304.6  296.8\n",
      "  719.0   2743   -2.3  -11.1     51   2.30    100      8  297.7  304.9  298.1\n",
      "  712.0   2821   -2.7  -11.7     50   2.20    105      8  298.0  305.0  298.4\n",
      "  700.0   2956   -3.7  -11.7     54   2.24    115      7  298.4  305.4  298.8\n",
      "  691.8   3048   -4.3  -11.7     56   2.26    155      6  298.7  305.9  299.1\n",
      "  665.5   3353   -6.2  -11.8     64   2.33    210     14  299.9  307.3  300.3\n",
      "  648.0   3562   -7.5  -11.9     71   2.38    217     26  300.7  308.3  301.1\n",
      "  640.1   3658   -7.5  -14.2     59   2.01    220     32  301.8  308.2  302.1\n",
      "  625.0   3844   -7.5  -18.5     41   1.43    223     32  303.8  308.6  304.1\n",
      "  591.8   4267   -9.5  -26.5     24   0.75    230     33  306.2  308.8  306.4\n",
      "  586.0   4343   -9.9  -27.9     21   0.66    231     34  306.7  309.0  306.8\n",
      "  568.8   4572  -11.8  -28.6     23   0.64    235     35  307.1  309.3  307.2\n",
      "  557.0   4732  -13.1  -29.1     25   0.62    238     44  307.4  309.6  307.5\n",
      "  546.5   4877  -13.7  -29.7     25   0.60    240     52  308.4  310.5  308.5\n",
      "  524.9   5182  -14.9  -30.9     24   0.56    240     64  310.5  312.5  310.6\n",
      "  508.0   5430  -15.9  -31.9     24   0.52    240     68  312.2  314.1  312.3\n",
      "  500.0   5550  -16.5  -36.5     16   0.34    240     70  312.9  314.1  312.9\n",
      "  492.0   5671  -16.9  -42.9      9   0.18    239     72  313.8  314.5  313.9\n",
      "  475.0   5933  -18.5  -32.5     28   0.53    237     76  315.0  316.9  315.1\n",
      "  464.6   6096  -19.5  -34.3     26   0.45    235     79  315.7  317.4  315.8\n",
      "  412.0   6977  -25.1  -44.1     15   0.19    235    106  319.6  320.3  319.6\n",
      "  410.1   7010  -25.4  -42.5     19   0.22    235    107  319.6  320.5  319.7\n",
      "  404.0   7118  -26.3  -37.3     35   0.39    232    108  319.8  321.3  319.9\n",
      "  400.0   7190  -25.9  -34.9     43   0.50    230    109  321.2  323.1  321.3\n",
      "  399.0   7208  -26.1  -35.1     43   0.49    230    109  321.2  323.0  321.3\n",
      "  387.0   7429  -27.1  -36.1     42   0.45    227    112  322.7  324.4  322.8\n",
      "  376.8   7620  -28.9  -37.3     44   0.41    225    114  322.9  324.4  323.0\n",
      "  351.0   8126  -33.5  -40.5     49   0.32    225    118  323.2  324.4  323.3\n",
      "  338.0   8391  -35.3  -45.3     35   0.20    225    119  324.3  325.1  324.3\n",
      "  310.0   8987  -41.1  -46.0     59   0.20    225    124  324.3  325.1  324.3\n",
      "  302.9   9144  -42.2  -50.0     42   0.13    225    125  324.8  325.4  324.9\n",
      "  300.0   9210  -42.7  -51.7     37   0.11    225    125  325.1  325.5  325.1\n",
      "  284.0   9576  -45.1  -57.1     25   0.06    225    128  326.8  327.0  326.8\n",
      "  281.0   9646  -45.7  -57.3     26   0.06    225    129  326.9  327.2  326.9\n",
      "  276.4   9754  -46.6  -57.6     27   0.06    225    129  327.1  327.4  327.1\n",
      "  269.0   9934  -48.1  -58.1     30   0.06    224    127  327.5  327.7  327.5\n",
      "  258.0  10206  -50.1  -65.1     15   0.02    222    123  328.5  328.6  328.5\n",
      "  250.0  10410  -51.3  -73.3      6   0.01    220    120  329.7  329.7  329.7\n",
      "  240.1  10668  -52.5  -73.6      6   0.01    225    117  331.7  331.7  331.7\n",
      "  201.0  11808  -57.7  -74.7     10   0.01    220    103  340.8  340.8  340.8\n",
      "  200.0  11840  -57.5  -74.5     10   0.01    220    103  341.6  341.6  341.6\n",
      "  183.0  12406  -54.1  -78.1      4   0.00    229     91  355.9  355.9  355.9\n",
      "  180.4  12497  -54.2  -78.6      3   0.00    230     89  357.2  357.2  357.2\n",
      "  172.0  12802  -54.4  -80.3      3   0.00    240     97  361.7  361.7  361.7\n",
      "  156.4  13411  -54.9  -83.6      2   0.00    245     79  370.8  370.8  370.8\n",
      "  150.0  13680  -55.1  -85.1      1   0.00    240     79  374.9  374.9  374.9\n",
      "  133.0  14443  -57.5  -86.5      1   0.00    240     77  383.8  383.8  383.8\n",
      "  118.0  15201  -55.7  -85.7      1   0.00    240     75  400.4  400.4  400.4\n",
      "  117.3  15240  -55.9  -85.8      1   0.00    240     75  400.8  400.8  400.8\n",
      "  106.4  15850  -59.3  -86.8      2   0.00    245     90  405.6  405.6  405.6\n",
      "  104.0  15995  -60.1  -87.1      2   0.00    245     90  406.8  406.8  406.8\n",
      "  101.0  16178  -59.7  -86.7      2   0.00    249     89  410.9  410.9  410.9\n",
      "  100.0  16240  -60.1  -87.1      2   0.00    250     89  411.3  411.4  411.3\n",
      "\n",
      "<pre>\n",
      "                         Station identifier: DNR\n",
      "                             Station number: 72469\n",
      "                           Observation time: 200327/1200\n",
      "                           Station latitude: 39.77\n",
      "                          Station longitude: -104.87\n",
      "                          Station elevation: 1611.0\n",
      "                               Lifted index: 10.17\n",
      "    LIFT computed using virtual temperature: 10.09\n",
      "      Convective Available Potential Energy: 0.00\n",
      "             CAPE using virtual temperature: 0.00\n",
      "                      Convective Inhibition: 0.00\n",
      "             CINS using virtual temperature: 0.00\n",
      "                     Bulk Richardson Number: 0.00\n",
      "          Bulk Richardson Number using CAPV: 0.00\n",
      "  Temp [K] of the Lifted Condensation Level: 270.93\n",
      "Pres [hPa] of the Lifted Condensation Level: 778.68\n",
      "     Mean mixed layer potential temperature: 291.02\n",
      "              Mean mixed layer mixing ratio: 4.21\n",
      "              1000 hPa to 500 hPa thickness: 5478.00\n",
      "Precipitable water [mm] for entire sounding: 7.51\n",
      "</pre>\n"
     ]
    }
   ],
   "source": [
    "import pandas as pd\n",
    "from bs4 import BeautifulSoup\n",
    "import urllib.request\n",
    "\n",
    "station = 72469\n",
    "year = 2020\n",
    "month = 3\n",
    "day0 = 27\n",
    "hour0 = 12\n",
    "day1 = 27\n",
    "hour1 = 12\n",
    "\n",
    "url_1 = \"http://weather.uwyo.edu/cgi-bin/sounding?region=naconf&TYPE=TEXT%3ALIST&\"\n",
    "url_2 = f\"YEAR={year}&MONTH={month:02}&FROM={day1}{hour0}&TO={day1}{hour1}&STNM={station}\"\n",
    "url = url_1+url_2\n",
    "response = urllib.request.urlopen(url)\n",
    "html = response.read()\n",
    "\n",
    "soup = BeautifulSoup(html)\n",
    "pre_data = soup.find_all('pre')[1]\n",
    "\n",
    "table = soup.find(\"pre\").find(text=True)\n",
    "print(table)\n",
    "print(pre_data)"
   ]
  },
  {
   "cell_type": "code",
   "execution_count": 56,
   "metadata": {},
   "outputs": [
    {
     "name": "stdout",
     "output_type": "stream",
     "text": [
      "['Station', 'identifier:', 'DNR', 'Station', 'number:', '72469', 'Observation', 'time:', '200327/1200', 'Station', 'latitude:', '39.77', 'Station', 'longitude:', '-104.87', 'Station', 'elevation:', '1611.0', 'Lifted', 'index:', '10.17', 'LIFT', 'computed', 'using', 'virtual', 'temperature:', '10.09', 'Convective', 'Available', 'Potential', 'Energy:', '0.00', 'CAPE', 'using', 'virtual', 'temperature:', '0.00', 'Convective', 'Inhibition:', '0.00', 'CINS', 'using', 'virtual', 'temperature:', '0.00', 'Bulk', 'Richardson', 'Number:', '0.00', 'Bulk', 'Richardson', 'Number', 'using', 'CAPV:', '0.00', 'Temp', '[K]', 'of', 'the', 'Lifted', 'Condensation', 'Level:', '270.93', 'Pres', '[hPa]', 'of', 'the', 'Lifted', 'Condensation', 'Level:', '778.68', 'Mean', 'mixed', 'layer', 'potential', 'temperature:', '291.02', 'Mean', 'mixed', 'layer', 'mixing', 'ratio:', '4.21', '1000', 'hPa', 'to', '500', 'hPa', 'thickness:', '5478.00', 'Precipitable', 'water', '[mm]', 'for', 'entire', 'sounding:']\n"
     ]
    }
   ],
   "source": [
    "ass = str(pre_data)\n",
    "print(ass.split()[1:-2])"
   ]
  },
  {
   "cell_type": "code",
   "execution_count": 98,
   "metadata": {},
   "outputs": [],
   "source": [
    "table_data = [x.extract() for x in soup.find_all('pre')[1]]"
   ]
  },
  {
   "cell_type": "code",
   "execution_count": 74,
   "metadata": {},
   "outputs": [
    {
     "data": {
      "text/plain": [
       "bs4.element.NavigableString"
      ]
     },
     "execution_count": 74,
     "metadata": {},
     "output_type": "execute_result"
    }
   ],
   "source": [
    "type(table)"
   ]
  },
  {
   "cell_type": "code",
   "execution_count": 99,
   "metadata": {},
   "outputs": [
    {
     "name": "stdout",
     "output_type": "stream",
     "text": [
      "['\\n                         Station identifier: DNR\\n                             Station number: 72469\\n                           Observation time: 200327/1200\\n                           Station latitude: 39.77\\n                          Station longitude: -104.87\\n                          Station elevation: 1611.0\\n                               Lifted index: 10.17\\n    LIFT computed using virtual temperature: 10.09\\n      Convective Available Potential Energy: 0.00\\n             CAPE using virtual temperature: 0.00\\n                      Convective Inhibition: 0.00\\n             CINS using virtual temperature: 0.00\\n                     Bulk Richardson Number: 0.00\\n          Bulk Richardson Number using CAPV: 0.00\\n  Temp [K] of the Lifted Condensation Level: 270.93\\nPres [hPa] of the Lifted Condensation Level: 778.68\\n     Mean mixed layer potential temperature: 291.02\\n              Mean mixed layer mixing ratio: 4.21\\n              1000 hPa to 500 hPa thickness: 5478.00\\nPrecipitable water [mm] for entire sounding: 7.51\\n']\n"
     ]
    }
   ],
   "source": [
    "print(table_data)"
   ]
  },
  {
   "cell_type": "code",
   "execution_count": 37,
   "metadata": {},
   "outputs": [],
   "source": [
    "file1 = open(f\"{year}_{month :02}_{day0}_{hour0}_{station}_upperair.txt\",\"a\") "
   ]
  },
  {
   "cell_type": "code",
   "execution_count": 38,
   "metadata": {},
   "outputs": [
    {
     "data": {
      "text/plain": [
       "5383"
      ]
     },
     "execution_count": 38,
     "metadata": {},
     "output_type": "execute_result"
    }
   ],
   "source": [
    "file1.write(table)"
   ]
  },
  {
   "cell_type": "code",
   "execution_count": 80,
   "metadata": {},
   "outputs": [
    {
     "data": {
      "text/plain": [
       "1025"
      ]
     },
     "execution_count": 80,
     "metadata": {},
     "output_type": "execute_result"
    }
   ],
   "source": [
    "file1.write(table_data[0])"
   ]
  },
  {
   "cell_type": "code",
   "execution_count": 81,
   "metadata": {},
   "outputs": [],
   "source": [
    "file1.close()"
   ]
  },
  {
   "cell_type": "code",
   "execution_count": 32,
   "metadata": {},
   "outputs": [
    {
     "data": {
      "text/plain": [
       "'/Users/chowdahead/Jupyter_Notebooks'"
      ]
     },
     "execution_count": 32,
     "metadata": {},
     "output_type": "execute_result"
    }
   ],
   "source": [
    "pwd"
   ]
  },
  {
   "cell_type": "code",
   "execution_count": 95,
   "metadata": {},
   "outputs": [
    {
     "data": {
      "text/plain": [
       "[<title>University of Wyoming - Radiosonde Data</title>]"
      ]
     },
     "execution_count": 95,
     "metadata": {},
     "output_type": "execute_result"
    }
   ],
   "source": [
    "soup.find_all(\"title\")"
   ]
  },
  {
   "cell_type": "code",
   "execution_count": 102,
   "metadata": {},
   "outputs": [
    {
     "data": {
      "text/plain": [
       "['University of Wyoming - Radiosonde Data']"
      ]
     },
     "execution_count": 102,
     "metadata": {},
     "output_type": "execute_result"
    }
   ],
   "source": [
    "table_title = [x.extract() for x in soup.find('title')]\n",
    "table_title"
   ]
  },
  {
   "cell_type": "code",
   "execution_count": 96,
   "metadata": {},
   "outputs": [
    {
     "data": {
      "text/plain": [
       "<h2>72469 DNR Denver Observations at 12Z 27 Mar 2020</h2>"
      ]
     },
     "execution_count": 96,
     "metadata": {},
     "output_type": "execute_result"
    }
   ],
   "source": [
    "soup.find(\"h2\")"
   ]
  },
  {
   "cell_type": "code",
   "execution_count": 103,
   "metadata": {},
   "outputs": [
    {
     "data": {
      "text/plain": [
       "['72469 DNR Denver Observations at 12Z 27 Mar 2020']"
      ]
     },
     "execution_count": 103,
     "metadata": {},
     "output_type": "execute_result"
    }
   ],
   "source": [
    "table_station = [x.extract() for x in soup.find('h2')]\n",
    "table_station"
   ]
  },
  {
   "cell_type": "code",
   "execution_count": 84,
   "metadata": {},
   "outputs": [
    {
     "data": {
      "text/plain": [
       "<html>\n",
       "<head><title>University of Wyoming - Radiosonde Data</title>\n",
       "</head><body bgcolor=\"white\">\n",
       "<h2>72469 DNR Denver Observations at 12Z 27 Mar 2020</h2>\n",
       "<pre>\n",
       "-----------------------------------------------------------------------------\n",
       "   PRES   HGHT   TEMP   DWPT   RELH   MIXR   DRCT   SKNT   THTA   THTE   THTV\n",
       "    hPa     m      C      C      %    g/kg    deg   knot     K      K      K \n",
       "-----------------------------------------------------------------------------\n",
       " 1000.0     72                                                               \n",
       "  925.0    718                                                               \n",
       "  850.0   1404                                                               \n",
       "  828.0   1611   -0.7   -1.4     95   4.19     90      5  287.6  299.7  288.3\n",
       "  814.0   1747   -1.5   -3.0     90   3.78     62     11  288.1  299.2  288.8\n",
       "  812.0   1767   -0.5   -1.6     92   4.21     58     12  289.4  301.7  290.1\n",
       "  808.0   1807    1.2   -0.9     86   4.45     50     14  291.6  304.7  292.4\n",
       "  805.8   1829    1.1   -0.9     86   4.45     45     15  291.8  304.9  292.5\n",
       "  784.0   2050    0.6   -1.5     86   4.39     31     11  293.5  306.5  294.2\n",
       "  778.0   2112    0.4   -5.6     64   3.25     26     10  293.9  303.8  294.5\n",
       "  775.9   2134    0.3   -5.8     63   3.21     25     10  294.1  303.8  294.6\n",
       "  748.0   2428   -0.5   -8.5     55   2.70    356      1  296.2  304.6  296.7\n",
       "  747.0   2438   -0.6   -8.6     55   2.69    355      1  296.3  304.6  296.8\n",
       "  719.0   2743   -2.3  -11.1     51   2.30    100      8  297.7  304.9  298.1\n",
       "  712.0   2821   -2.7  -11.7     50   2.20    105      8  298.0  305.0  298.4\n",
       "  700.0   2956   -3.7  -11.7     54   2.24    115      7  298.4  305.4  298.8\n",
       "  691.8   3048   -4.3  -11.7     56   2.26    155      6  298.7  305.9  299.1\n",
       "  665.5   3353   -6.2  -11.8     64   2.33    210     14  299.9  307.3  300.3\n",
       "  648.0   3562   -7.5  -11.9     71   2.38    217     26  300.7  308.3  301.1\n",
       "  640.1   3658   -7.5  -14.2     59   2.01    220     32  301.8  308.2  302.1\n",
       "  625.0   3844   -7.5  -18.5     41   1.43    223     32  303.8  308.6  304.1\n",
       "  591.8   4267   -9.5  -26.5     24   0.75    230     33  306.2  308.8  306.4\n",
       "  586.0   4343   -9.9  -27.9     21   0.66    231     34  306.7  309.0  306.8\n",
       "  568.8   4572  -11.8  -28.6     23   0.64    235     35  307.1  309.3  307.2\n",
       "  557.0   4732  -13.1  -29.1     25   0.62    238     44  307.4  309.6  307.5\n",
       "  546.5   4877  -13.7  -29.7     25   0.60    240     52  308.4  310.5  308.5\n",
       "  524.9   5182  -14.9  -30.9     24   0.56    240     64  310.5  312.5  310.6\n",
       "  508.0   5430  -15.9  -31.9     24   0.52    240     68  312.2  314.1  312.3\n",
       "  500.0   5550  -16.5  -36.5     16   0.34    240     70  312.9  314.1  312.9\n",
       "  492.0   5671  -16.9  -42.9      9   0.18    239     72  313.8  314.5  313.9\n",
       "  475.0   5933  -18.5  -32.5     28   0.53    237     76  315.0  316.9  315.1\n",
       "  464.6   6096  -19.5  -34.3     26   0.45    235     79  315.7  317.4  315.8\n",
       "  412.0   6977  -25.1  -44.1     15   0.19    235    106  319.6  320.3  319.6\n",
       "  410.1   7010  -25.4  -42.5     19   0.22    235    107  319.6  320.5  319.7\n",
       "  404.0   7118  -26.3  -37.3     35   0.39    232    108  319.8  321.3  319.9\n",
       "  400.0   7190  -25.9  -34.9     43   0.50    230    109  321.2  323.1  321.3\n",
       "  399.0   7208  -26.1  -35.1     43   0.49    230    109  321.2  323.0  321.3\n",
       "  387.0   7429  -27.1  -36.1     42   0.45    227    112  322.7  324.4  322.8\n",
       "  376.8   7620  -28.9  -37.3     44   0.41    225    114  322.9  324.4  323.0\n",
       "  351.0   8126  -33.5  -40.5     49   0.32    225    118  323.2  324.4  323.3\n",
       "  338.0   8391  -35.3  -45.3     35   0.20    225    119  324.3  325.1  324.3\n",
       "  310.0   8987  -41.1  -46.0     59   0.20    225    124  324.3  325.1  324.3\n",
       "  302.9   9144  -42.2  -50.0     42   0.13    225    125  324.8  325.4  324.9\n",
       "  300.0   9210  -42.7  -51.7     37   0.11    225    125  325.1  325.5  325.1\n",
       "  284.0   9576  -45.1  -57.1     25   0.06    225    128  326.8  327.0  326.8\n",
       "  281.0   9646  -45.7  -57.3     26   0.06    225    129  326.9  327.2  326.9\n",
       "  276.4   9754  -46.6  -57.6     27   0.06    225    129  327.1  327.4  327.1\n",
       "  269.0   9934  -48.1  -58.1     30   0.06    224    127  327.5  327.7  327.5\n",
       "  258.0  10206  -50.1  -65.1     15   0.02    222    123  328.5  328.6  328.5\n",
       "  250.0  10410  -51.3  -73.3      6   0.01    220    120  329.7  329.7  329.7\n",
       "  240.1  10668  -52.5  -73.6      6   0.01    225    117  331.7  331.7  331.7\n",
       "  201.0  11808  -57.7  -74.7     10   0.01    220    103  340.8  340.8  340.8\n",
       "  200.0  11840  -57.5  -74.5     10   0.01    220    103  341.6  341.6  341.6\n",
       "  183.0  12406  -54.1  -78.1      4   0.00    229     91  355.9  355.9  355.9\n",
       "  180.4  12497  -54.2  -78.6      3   0.00    230     89  357.2  357.2  357.2\n",
       "  172.0  12802  -54.4  -80.3      3   0.00    240     97  361.7  361.7  361.7\n",
       "  156.4  13411  -54.9  -83.6      2   0.00    245     79  370.8  370.8  370.8\n",
       "  150.0  13680  -55.1  -85.1      1   0.00    240     79  374.9  374.9  374.9\n",
       "  133.0  14443  -57.5  -86.5      1   0.00    240     77  383.8  383.8  383.8\n",
       "  118.0  15201  -55.7  -85.7      1   0.00    240     75  400.4  400.4  400.4\n",
       "  117.3  15240  -55.9  -85.8      1   0.00    240     75  400.8  400.8  400.8\n",
       "  106.4  15850  -59.3  -86.8      2   0.00    245     90  405.6  405.6  405.6\n",
       "  104.0  15995  -60.1  -87.1      2   0.00    245     90  406.8  406.8  406.8\n",
       "  101.0  16178  -59.7  -86.7      2   0.00    249     89  410.9  410.9  410.9\n",
       "  100.0  16240  -60.1  -87.1      2   0.00    250     89  411.3  411.4  411.3\n",
       "</pre><h3>Station information and sounding indices</h3><pre></pre>\n",
       "<p>Description of the \n",
       "<a href=\"/upperair/columns.html\">data columns</a>\n",
       "or <a href=\"/upperair/indices.html\">sounding indices</a>.\n",
       "\n",
       "</p><p>\n",
       "</p><form>\n",
       "<input class=\"button\" onclick=\"window.close();\" type=\"button\" value=\" Close this window \"/>\n",
       "<input class=\"button\" onclick=\"window.blur();\" type=\"button\" value=\" Select another map \"/>\n",
       "</form>\n",
       "<hr size=\"1\"/>\n",
       "<i>Interested in graduate studies in atmospheric science?\n",
       "Check out our program at the\n",
       "<a href=\"http://www.uwyo.edu/atsc/howtoapply/\" target=\"_top\">University of Wyoming\n",
       "</a></i>\n",
       "<hr size=\"1\"/><font size=\"-1\">\n",
       "Questions about the weather data provided by this site can be\n",
       "addressed to <a href=\"mailto:ldoolman@uwyo.edu\">\n",
       "Larry Oolman (ldoolman@uwyo.edu)</a></font>\n",
       "<hr size=\"1\"/>\n",
       "<script type=\"text/javascript\">\n",
       "<!--\n",
       "window.focus();\n",
       "// -->\n",
       "</script>\n",
       "</body>\n",
       "</html>"
      ]
     },
     "execution_count": 84,
     "metadata": {},
     "output_type": "execute_result"
    }
   ],
   "source": [
    "soup"
   ]
  },
  {
   "cell_type": "code",
   "execution_count": null,
   "metadata": {},
   "outputs": [],
   "source": []
  }
 ],
 "metadata": {
  "kernelspec": {
   "display_name": "Python 3",
   "language": "python",
   "name": "python3"
  },
  "language_info": {
   "codemirror_mode": {
    "name": "ipython",
    "version": 3
   },
   "file_extension": ".py",
   "mimetype": "text/x-python",
   "name": "python",
   "nbconvert_exporter": "python",
   "pygments_lexer": "ipython3",
   "version": "3.7.3"
  }
 },
 "nbformat": 4,
 "nbformat_minor": 2
}
