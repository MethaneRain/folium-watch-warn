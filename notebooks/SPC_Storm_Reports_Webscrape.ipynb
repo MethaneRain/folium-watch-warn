{
 "cells": [
  {
   "cell_type": "code",
   "execution_count": 2,
   "metadata": {},
   "outputs": [],
   "source": [
    "import requests\n",
    "import urllib.request\n",
    "import time\n",
    "from bs4 import BeautifulSoup\n",
    "import webbrowser\n"
   ]
  },
  {
   "cell_type": "code",
   "execution_count": 3,
   "metadata": {},
   "outputs": [],
   "source": [
    "url = \"https://www.spc.noaa.gov/climo/reports/today.html\"\n",
    "response = requests.get(url)\n",
    "\n"
   ]
  },
  {
   "cell_type": "code",
   "execution_count": 4,
   "metadata": {},
   "outputs": [
    {
     "data": {
      "text/plain": [
       "<Response [200]>"
      ]
     },
     "execution_count": 4,
     "metadata": {},
     "output_type": "execute_result"
    }
   ],
   "source": [
    "response\n",
    "\n",
    "\n"
   ]
  },
  {
   "cell_type": "code",
   "execution_count": 5,
   "metadata": {},
   "outputs": [
    {
     "data": {
      "text/plain": [
       "True"
      ]
     },
     "execution_count": 5,
     "metadata": {},
     "output_type": "execute_result"
    }
   ],
   "source": [
    "webbrowser.open(\"https://www.spc.noaa.gov/climo/reports/today.html\")"
   ]
  },
  {
   "cell_type": "markdown",
   "metadata": {},
   "source": [
    "### We can examine the entire webpage html elements!"
   ]
  },
  {
   "cell_type": "code",
   "execution_count": 6,
   "metadata": {
    "scrolled": false
   },
   "outputs": [
    {
     "data": {
      "text/plain": [
       "[<a name=\"top\"></a>,\n",
       " <a href=\"#contents\"><img alt=\"Skip Navigation Links\" border=\"0\" height=\"1\" src=\"/nwscwi/skipgraphic.gif\" width=\"1\"/></a>,\n",
       " <a href=\"//www.weather.gov/\" target=\"_blank\"><span class=\"nwslink\">weather.gov</span></a>,\n",
       " <a href=\"//www.noaa.gov/\" target=\"_blank\"><img alt=\"NOAA logo-Select to go to the NOAA homepage\" border=\"0\" height=\"78\" src=\"/nwscwi/noaaleft.jpg\" width=\"85\"/></a>,\n",
       " <a href=\"//www.weather.gov/\" target=\"_blank\"><img alt=\"Select to go to the NWS homepage\" border=\"0\" height=\"78\" src=\"/nwscwi/nwsright.jpg\" width=\"85\"/></a>,\n",
       " <a href=\"/\"><img alt=\"Storm Prediction Center\" border=\"0\" height=\"58\" src=\"/nwscwi/spc.jpg\" width=\"500\"/></a>,\n",
       " <a href=\"/sitemap.html\">Site Map</a>,\n",
       " <a href=\"//www.weather.gov/pa/\">News</a>,\n",
       " <a href=\"//www.weather.gov/organization.php\">Organization</a>,\n",
       " <a href=\"https://www.facebook.com/NWSSPC\" target=\"SPC_Facebook\" title=\"NOAA NWS Storm Prediction Center Facebook\"><img src=\"/misc/facebook_logo.gif\" style=\"border: 0px;\"><br/>SPC on Facebook</img></a>,\n",
       " <a href=\"https://twitter.com/NWSSPC\" target=\"_blank\" title=\"NOAA NWS Storm Prediction Center Twitter\"><img src=\"/misc/twitter-bird-light-bgs.png\" style=\"border: 0px;height: 40px;width: 40px;vertical-align: middle;\"/>@NWSSPC</a>,\n",
       " <a href=\"//www.ncep.noaa.gov/newsletter/\" target=\"NCEP_Newsletter\">NCEP Quarterly Newsletter</a>,\n",
       " <a href=\"/\"><span class=\"yellow\">Home</span></a>,\n",
       " <a href=\"/classic.html\" target=\"_blank\"><span class=\"yellow\">Classic</span></a>,\n",
       " <a href=\"/products/\">All SPC Forecasts</a>,\n",
       " <a href=\"/products/watch/\">Current Watches</a>,\n",
       " <a href=\"/products/md/\">Meso. Discussions</a>,\n",
       " <a href=\"/products/outlook/\">Conv. Outlooks</a>,\n",
       " <a href=\"/products/exper/enhtstm/\">Tstm. Outlooks</a>,\n",
       " <a href=\"/products/fire_wx/overview.html\">Fire Wx Outlooks</a>,\n",
       " <a href=\"/products/spcrss.xml\"><img alt=\"XML logo\" border=\"0\" height=\"13\" src=\"/nwscwi/xml2.gif\" width=\"13\"/></a>,\n",
       " <a href=\"/aboutrss.html\">RSS Feeds</a>,\n",
       " <a href=\"//www.weather.gov/subscribe/\">E-Mail Alerts</a>,\n",
       " <a href=\"/climo/online/\">Storm Reports</a>,\n",
       " <a href=\"/exper/reports/\">Storm Reports Dev.</a>,\n",
       " <a href=\"//www.weather.gov/largemap.php\" target=\"NWS_Hazards\">NWS Hazards Map</a>,\n",
       " <a href=\"//www.weather.gov/Radar/\" target=\"radar_window\">National RADAR</a>,\n",
       " <a href=\"/archive/\">Product Archive</a>,\n",
       " <a href=\"//www.weather.gov/nwr/\" target=\"NWR_window\">NOAA Weather Radio</a>,\n",
       " <a href=\"/products/exper/\">Non-op. Products</a>,\n",
       " <a href=\"/exper/\">Forecast Tools</a>,\n",
       " <a href=\"/exper/archive/events/\">Svr. Tstm. Events</a>,\n",
       " <a href=\"/publications/\">SPC Publications</a>,\n",
       " <a href=\"//hwt.nssl.noaa.gov/\" target=\"NOAA_HWT\">SPC-NSSL HWT</a>,\n",
       " <a href=\"/misc/aboutus.html\">About the SPC</a>,\n",
       " <a href=\"/faq/\">SPC FAQ</a>,\n",
       " <a href=\"/faq/tornado/\">About Tornadoes</a>,\n",
       " <a href=\"/misc/AbtDerechos/derechofacts.htm\">About Derechos</a>,\n",
       " <a href=\"/exper/spcousom\">Video Lecture Series</a>,\n",
       " <a href=\"/wcm/\">WCM Page</a>,\n",
       " <a href=\"/efscale/\">Enh. Fujita Page</a>,\n",
       " <a href=\"/history/early.html\">Our History</a>,\n",
       " <a href=\"http://nwc.ou.edu/tours/\" target=\"_blank\">Public Tours</a>,\n",
       " <a href=\"/staff/\">Staff</a>,\n",
       " <a href=\"/misc/feedback.html\">SPC Feedback</a>,\n",
       " <a href=\"//www.USA.gov/\"><img alt=\"USA.gov is the U.S. Government's official Web portal to all Federal, state and local government Web resources and services.\" border=\"0\" height=\"30\" src=\"/misc/usagov_logo_color_110w_30h.gif\" width=\"110\"/></a>,\n",
       " <a name=\"contents\"></a>,\n",
       " <a href=\"today_prt_rpts.html\">Print Version</a>,\n",
       " <a href=\"210716_rpts.html\">&lt; 210716 Reports</a>,\n",
       " <a href=\"210717_rpts.html\">210717 Reports &gt;</a>,\n",
       " <a alt=\"Unfiltered Reports\" href=\"210717_rpts.gif\" onmouseover=\"show_tab('TAB_Rpts_Unfiltered')\">Unfiltered Reports</a>,\n",
       " <a href=\"/climo/gm.php?rpt=210717_rpts\" target=\"Un-Filtered KML\">ESRI Maps</a>,\n",
       " <a alt=\"Filtered Reports\" href=\"210717_rpts_filtered.gif\" onmouseover=\"show_tab('TAB_Rpts_Filtered')\">Filtered Reports</a>,\n",
       " <a href=\"/climo/gmf.php?rpt=210717_rpts_filtered\" target=\"Filtered KML\">ESRI Maps</a>,\n",
       " <a href=\"/faq/#6.11\"><font color=\"#ffa500\">More Info</font></a>,\n",
       " <a href=\"today.gif\"><img alt=\"today Reports Graphic\" height=\"408\" src=\"today.gif\" width=\"582\"/></a>,\n",
       " <a href=\"today_torn.csv\">CSV</a>,\n",
       " <a href=\"today_raw_torn.csv\">Raw Tornado CSV</a>,\n",
       " <a href=\"/faq/#6.10\">?</a>,\n",
       " <a href=\"today_hail.csv\">CSV</a>,\n",
       " <a href=\"today_raw_hail.csv\">Raw Hail CSV</a>,\n",
       " <a href=\"/faq/#6.10\">?</a>,\n",
       " <a href=\"/misc/WFOlist.html\">(OKX)</a>,\n",
       " <a href=\"today_wind.csv\">CSV</a>,\n",
       " <a href=\"today_raw_wind.csv\">Raw Wind CSV</a>,\n",
       " <a href=\"/faq/#6.10\">?</a>,\n",
       " <a href=\"/misc/WFOlist.html\">(RNK)</a>,\n",
       " <a href=\"/misc/WFOlist.html\">(RNK)</a>,\n",
       " <a href=\"/misc/WFOlist.html\">(PHI)</a>,\n",
       " <a href=\"/misc/WFOlist.html\">(LWX)</a>,\n",
       " <a href=\"/misc/WFOlist.html\">(PHI)</a>,\n",
       " <a href=\"/misc/WFOlist.html\">(PHI)</a>,\n",
       " <a href=\"/misc/WFOlist.html\">(LWX)</a>,\n",
       " <a href=\"/misc/WFOlist.html\">(PHI)</a>,\n",
       " <a href=\"/misc/WFOlist.html\">(LWX)</a>,\n",
       " <a href=\"/misc/WFOlist.html\">(LWX)</a>,\n",
       " <a href=\"/misc/WFOlist.html\">(LWX)</a>,\n",
       " <a href=\"/misc/WFOlist.html\">(PHI)</a>,\n",
       " <a href=\"/misc/WFOlist.html\">(CTP)</a>,\n",
       " <a href=\"/misc/WFOlist.html\">(CTP)</a>,\n",
       " <a href=\"/misc/WFOlist.html\">(PHI)</a>,\n",
       " <a href=\"/misc/WFOlist.html\">(LWX)</a>,\n",
       " <a href=\"/misc/WFOlist.html\">(LWX)</a>,\n",
       " <a href=\"/misc/WFOlist.html\">(PBZ)</a>,\n",
       " <a href=\"/misc/WFOlist.html\">(LWX)</a>,\n",
       " <a href=\"/misc/WFOlist.html\">(LWX)</a>,\n",
       " <a href=\"/misc/WFOlist.html\">(PBZ)</a>,\n",
       " <a href=\"/misc/WFOlist.html\">(OKX)</a>,\n",
       " <a href=\"/misc/WFOlist.html\">(RNK)</a>,\n",
       " <a href=\"/misc/WFOlist.html\">(LWX)</a>,\n",
       " <a href=\"/misc/WFOlist.html\">(PBZ)</a>,\n",
       " <a href=\"/misc/WFOlist.html\">(PHI)</a>,\n",
       " <a href=\"/misc/WFOlist.html\">(PHI)</a>,\n",
       " <a href=\"/misc/WFOlist.html\">(PBZ)</a>,\n",
       " <a href=\"today_filtered.gif\"><img alt=\"today Filtered Reports Graphic\" height=\"408\" src=\"today_filtered.gif\" width=\"582\"/></a>,\n",
       " <a href=\"today_filtered_torn.csv\">CSV</a>,\n",
       " <a href=\"today_raw_torn.csv\">Raw Tornado CSV</a>,\n",
       " <a href=\"/faq/#6.10\">?</a>,\n",
       " <a href=\"today_filtered_hail.csv\">CSV</a>,\n",
       " <a href=\"today_raw_hail.csv\">Raw Hail CSV</a>,\n",
       " <a href=\"/faq/#6.10\">?</a>,\n",
       " <a href=\"/misc/WFOlist.html\">(OKX)</a>,\n",
       " <a href=\"today_filtered_wind.csv\">CSV</a>,\n",
       " <a href=\"today_raw_wind.csv\">Raw Wind CSV</a>,\n",
       " <a href=\"/faq/#6.10\">?</a>,\n",
       " <a href=\"/misc/WFOlist.html\">(RNK)</a>,\n",
       " <a href=\"/misc/WFOlist.html\">(RNK)</a>,\n",
       " <a href=\"/misc/WFOlist.html\">(PHI)</a>,\n",
       " <a href=\"/misc/WFOlist.html\">(LWX)</a>,\n",
       " <a href=\"/misc/WFOlist.html\">(PHI)</a>,\n",
       " <a href=\"/misc/WFOlist.html\">(PHI)</a>,\n",
       " <a href=\"/misc/WFOlist.html\">(LWX)</a>,\n",
       " <a href=\"/misc/WFOlist.html\">(LWX)</a>,\n",
       " <a href=\"/misc/WFOlist.html\">(PHI)</a>,\n",
       " <a href=\"/misc/WFOlist.html\">(CTP)</a>,\n",
       " <a href=\"/misc/WFOlist.html\">(PHI)</a>,\n",
       " <a href=\"/misc/WFOlist.html\">(LWX)</a>,\n",
       " <a href=\"/misc/WFOlist.html\">(PBZ)</a>,\n",
       " <a href=\"/misc/WFOlist.html\">(LWX)</a>,\n",
       " <a href=\"/misc/WFOlist.html\">(LWX)</a>,\n",
       " <a href=\"/misc/WFOlist.html\">(PBZ)</a>,\n",
       " <a href=\"/misc/WFOlist.html\">(OKX)</a>,\n",
       " <a href=\"/misc/WFOlist.html\">(RNK)</a>,\n",
       " <a href=\"/misc/WFOlist.html\">(LWX)</a>,\n",
       " <a href=\"/misc/WFOlist.html\">(PBZ)</a>,\n",
       " <a href=\"/misc/WFOlist.html\">(PHI)</a>,\n",
       " <a href=\"/misc/WFOlist.html\">(PHI)</a>,\n",
       " <a href=\"/misc/WFOlist.html\">(PBZ)</a>,\n",
       " <a href=\"today.csv\">Full report</a>,\n",
       " <a href=\"today.kmz\">KML</a>,\n",
       " <a href=\"today_filtered.csv\">Full filtered report</a>,\n",
       " <a href=\"today_filtered.kmz\">KML</a>,\n",
       " <a href=\"http://www.nws.noaa.gov/cgi-bin/nwsexit.pl?url=http://earth.google.com/outreach/tutorial_time.html\">Google Earth Time Slider</a>,\n",
       " <a href=\"today_raw.csv\">Raw full report</a>,\n",
       " <a href=\"/faq/index.html#3.1\">UTC</a>,\n",
       " <a href=\"/faq/index.html#6.8\">FAQ</a>,\n",
       " <a href=\"/misc/NWS_WFO_ID.txt\">Weather Forecast Office 3-letter IDs</a>,\n",
       " <a href=\"#top\">Top</a>,\n",
       " <a href=\"/climo/online/\">Storm Reports</a>,\n",
       " <a href=\"/\">Home</a>,\n",
       " <a href=\"/products/watch/\">Watches</a>,\n",
       " <a href=\"/products/md/\">Mesoscale Discussions</a>,\n",
       " <a href=\"/products/outlook/\">Outlooks</a>,\n",
       " <a href=\"/products/fire_wx/\">Fire Weather</a>,\n",
       " <a href=\"/products/\">All Products</a>,\n",
       " <a href=\"/misc/feedback.html\">Contact Us</a>,\n",
       " <a href=\"//www.noaa.gov/\"><span class=\"gray\">NOAA</span></a>,\n",
       " <a href=\"//www.nws.noaa.gov/\"><span class=\"gray\">National Weather Service</span></a>,\n",
       " <a href=\"//www.ncep.noaa.gov/\"><span class=\"gray\">National Centers for Environmental Prediction</span></a>,\n",
       " <a href=\"/\"><span class=\"gray\">Storm Prediction Center</span></a>,\n",
       " <a href=\"mailto:spc.feedback@noaa.gov?subject=[SPC web feedback]\"><span class=\"gray\">spc.feedback@noaa.gov</span></a>,\n",
       " <a href=\"//www.weather.gov/disclaimer\">\n",
       " <span class=\"gray\">Disclaimer</span></a>,\n",
       " <a href=\"//www.cio.noaa.gov/services_programs/info_quality.html\">\n",
       " <span class=\"gray\">Information Quality</span></a>,\n",
       " <a href=\"//www.weather.gov/help\">\n",
       " <span class=\"gray\">Help</span></a>,\n",
       " <a href=\"//www.weather.gov/glossary\">\n",
       " <span class=\"gray\">Glossary</span></a>,\n",
       " <a href=\"//www.weather.gov/privacy\">\n",
       " <span class=\"gray\">Privacy Policy</span></a>,\n",
       " <a href=\"//www.rdc.noaa.gov/%7Efoia/\">\n",
       " <span class=\"gray\">Freedom of Information Act (FOIA)</span></a>,\n",
       " <a href=\"//www.weather.gov/about\">\n",
       " <span class=\"gray\">About Us</span></a>,\n",
       " <a href=\"//www.weather.gov/careers\">\n",
       " <span class=\"gray\">Career Opportunities</span></a>]"
      ]
     },
     "execution_count": 6,
     "metadata": {},
     "output_type": "execute_result"
    }
   ],
   "source": [
    "soup = BeautifulSoup(response.text, \"html.parser\")\n",
    "soup.findAll('a')\n"
   ]
  },
  {
   "cell_type": "markdown",
   "metadata": {},
   "source": [
    "#### grabbing the 11th instance in a-tags "
   ]
  },
  {
   "cell_type": "code",
   "execution_count": 7,
   "metadata": {
    "scrolled": false
   },
   "outputs": [
    {
     "data": {
      "text/plain": [
       "<a href=\"https://twitter.com/NWSSPC\" target=\"_blank\" title=\"NOAA NWS Storm Prediction Center Twitter\"><img src=\"/misc/twitter-bird-light-bgs.png\" style=\"border: 0px;height: 40px;width: 40px;vertical-align: middle;\"/>@NWSSPC</a>"
      ]
     },
     "execution_count": 7,
     "metadata": {},
     "output_type": "execute_result"
    }
   ],
   "source": [
    "one_a_tag = soup.findAll('a')[10]\n",
    "one_a_tag"
   ]
  },
  {
   "cell_type": "markdown",
   "metadata": {},
   "source": [
    "#### grab the actual url for the specified a-tag instance"
   ]
  },
  {
   "cell_type": "code",
   "execution_count": 8,
   "metadata": {},
   "outputs": [
    {
     "data": {
      "text/plain": [
       "'https://twitter.com/NWSSPC'"
      ]
     },
     "execution_count": 8,
     "metadata": {},
     "output_type": "execute_result"
    }
   ],
   "source": [
    "link = one_a_tag['href']\n",
    "link"
   ]
  },
  {
   "cell_type": "code",
   "execution_count": 9,
   "metadata": {},
   "outputs": [
    {
     "data": {
      "text/plain": [
       "<a name=\"top\"></a>"
      ]
     },
     "execution_count": 9,
     "metadata": {},
     "output_type": "execute_result"
    }
   ],
   "source": [
    "ass = soup.find(name = 'a')\n",
    "ass"
   ]
  },
  {
   "cell_type": "markdown",
   "metadata": {},
   "source": [
    "### All the elements can also be searched by if they have `href` tag"
   ]
  },
  {
   "cell_type": "code",
   "execution_count": 10,
   "metadata": {
    "scrolled": false
   },
   "outputs": [
    {
     "data": {
      "text/plain": [
       "[<link href=\"//purl.org/dc/elements/1.1/\" rel=\"schema.DC\"/>,\n",
       " <link href=\"//purl.org/dc/terms/\" rel=\"schema.DCTERMS\"/>,\n",
       " <link href=\"//www.weather.gov/disclaimer.php\" rel=\"DC.rights\"/>,\n",
       " <link href=\"/misc/spccwi.css\" rel=\"STYLESHEET\" type=\"text/css\"/>,\n",
       " <link href=\"/nwscwi/main.css\" rel=\"STYLESHEET\" type=\"text/css\"/>,\n",
       " <link href=\"/products/spcrss.xml\" rel=\"alternate\" title=\"SPC Forecast Products RSS\" type=\"application/rss+xml\">\n",
       " <link href=\"/products/spcwwrss.xml\" rel=\"alternate\" title=\"SPC Tornado/Severe Thunderstorm Watches RSS\" type=\"application/rss+xml\">\n",
       " <link href=\"/products/spcmdrss.xml\" rel=\"alternate\" title=\"SPC Mesoscale Discussions RSS\" type=\"application/rss+xml\"/>\n",
       " <link href=\"/products/spcacrss.xml\" rel=\"alternate\" title=\"SPC Convective Outlooks RSS\" type=\"application/rss+xml\"/>\n",
       " <link href=\"/products/spctstmrss.xml\" rel=\"alternate\" title=\"SPC Thunderstorm Outlooks RSS\" type=\"application/rss+xml\"/>\n",
       " <link href=\"/products/spcfwrss.xml\" rel=\"alternate\" title=\"SPC Fire Weather Outlooks RSS\" type=\"application/rss+xml\"/>\n",
       " <link href=\"/products/spcpdswwrss.xml\" rel=\"alternate\" title=\"SPC PDS Watches RSS\" type=\"application/rss+xml\"/>\n",
       " <link href=\"/products/spcmbrss.xml\" rel=\"alternate\" title=\"SPC Multimedia Briefings RSS\" type=\"application/rss+xml\"/>\n",
       " <meta content=\"ALL\" name=\"ROBOTS\"/>\n",
       " <meta content=\"Severe weather, tornado, thunderstorm, fire weather,\n",
       "    storm report, tornado watch, severe thunderstorm watch,\n",
       "    mesoscale discussion, convective outlook products from the Storm\n",
       "    Prediction Center.\" name=\"description\"/>\n",
       " <meta content=\"severe weather, wx, tornado, thunderstorm, fire weather,\n",
       "    mesoscale discussion, tornado watch, severe thunderstorm watch,\n",
       "    convective outlook, storm report, tornado research, severe weather\n",
       "    research, tornadogenesis, severe thunderstorm, lightning, hail damage,\n",
       "    winter weather, wind damage, flash flood, flooding, radar, satellite,\n",
       "    GOES, damaging downbursts, damaging winds, microbursts, natural hazard,\n",
       "    climatology, NWS, NCEP, SPC, Storm Prediction Center\" name=\"keywords\"/>\n",
       " <script language=\"Javascript\" type=\"text/javascript\">\n",
       "   function show_tab(nam) {\n",
       "     document.getElementById(\"TAB_Rpts_Filtered\").style.display= \"none\";\n",
       "     document.getElementById(\"TAB_Rpts_Unfiltered\").style.display= \"none\";\n",
       "     document.getElementById(nam).style.display = \"block\";\n",
       "   }\n",
       " </script>\n",
       " <noscript>\n",
       " <font color=\"red\"><b> For best viewing experience, please enable browser JavaScript/Active Scripting.</b></font>\n",
       " </noscript>\n",
       " <script src=\"/climo/getdata.js\" type=\"text/javascript\">\n",
       " </script>\n",
       " </link></link>,\n",
       " <link href=\"/products/spcwwrss.xml\" rel=\"alternate\" title=\"SPC Tornado/Severe Thunderstorm Watches RSS\" type=\"application/rss+xml\">\n",
       " <link href=\"/products/spcmdrss.xml\" rel=\"alternate\" title=\"SPC Mesoscale Discussions RSS\" type=\"application/rss+xml\"/>\n",
       " <link href=\"/products/spcacrss.xml\" rel=\"alternate\" title=\"SPC Convective Outlooks RSS\" type=\"application/rss+xml\"/>\n",
       " <link href=\"/products/spctstmrss.xml\" rel=\"alternate\" title=\"SPC Thunderstorm Outlooks RSS\" type=\"application/rss+xml\"/>\n",
       " <link href=\"/products/spcfwrss.xml\" rel=\"alternate\" title=\"SPC Fire Weather Outlooks RSS\" type=\"application/rss+xml\"/>\n",
       " <link href=\"/products/spcpdswwrss.xml\" rel=\"alternate\" title=\"SPC PDS Watches RSS\" type=\"application/rss+xml\"/>\n",
       " <link href=\"/products/spcmbrss.xml\" rel=\"alternate\" title=\"SPC Multimedia Briefings RSS\" type=\"application/rss+xml\"/>\n",
       " <meta content=\"ALL\" name=\"ROBOTS\"/>\n",
       " <meta content=\"Severe weather, tornado, thunderstorm, fire weather,\n",
       "    storm report, tornado watch, severe thunderstorm watch,\n",
       "    mesoscale discussion, convective outlook products from the Storm\n",
       "    Prediction Center.\" name=\"description\"/>\n",
       " <meta content=\"severe weather, wx, tornado, thunderstorm, fire weather,\n",
       "    mesoscale discussion, tornado watch, severe thunderstorm watch,\n",
       "    convective outlook, storm report, tornado research, severe weather\n",
       "    research, tornadogenesis, severe thunderstorm, lightning, hail damage,\n",
       "    winter weather, wind damage, flash flood, flooding, radar, satellite,\n",
       "    GOES, damaging downbursts, damaging winds, microbursts, natural hazard,\n",
       "    climatology, NWS, NCEP, SPC, Storm Prediction Center\" name=\"keywords\"/>\n",
       " <script language=\"Javascript\" type=\"text/javascript\">\n",
       "   function show_tab(nam) {\n",
       "     document.getElementById(\"TAB_Rpts_Filtered\").style.display= \"none\";\n",
       "     document.getElementById(\"TAB_Rpts_Unfiltered\").style.display= \"none\";\n",
       "     document.getElementById(nam).style.display = \"block\";\n",
       "   }\n",
       " </script>\n",
       " <noscript>\n",
       " <font color=\"red\"><b> For best viewing experience, please enable browser JavaScript/Active Scripting.</b></font>\n",
       " </noscript>\n",
       " <script src=\"/climo/getdata.js\" type=\"text/javascript\">\n",
       " </script>\n",
       " </link>,\n",
       " <link href=\"/products/spcmdrss.xml\" rel=\"alternate\" title=\"SPC Mesoscale Discussions RSS\" type=\"application/rss+xml\"/>,\n",
       " <link href=\"/products/spcacrss.xml\" rel=\"alternate\" title=\"SPC Convective Outlooks RSS\" type=\"application/rss+xml\"/>,\n",
       " <link href=\"/products/spctstmrss.xml\" rel=\"alternate\" title=\"SPC Thunderstorm Outlooks RSS\" type=\"application/rss+xml\"/>,\n",
       " <link href=\"/products/spcfwrss.xml\" rel=\"alternate\" title=\"SPC Fire Weather Outlooks RSS\" type=\"application/rss+xml\"/>,\n",
       " <link href=\"/products/spcpdswwrss.xml\" rel=\"alternate\" title=\"SPC PDS Watches RSS\" type=\"application/rss+xml\"/>,\n",
       " <link href=\"/products/spcmbrss.xml\" rel=\"alternate\" title=\"SPC Multimedia Briefings RSS\" type=\"application/rss+xml\"/>,\n",
       " <a href=\"#contents\"><img alt=\"Skip Navigation Links\" border=\"0\" height=\"1\" src=\"/nwscwi/skipgraphic.gif\" width=\"1\"/></a>,\n",
       " <a href=\"//www.weather.gov/\" target=\"_blank\"><span class=\"nwslink\">weather.gov</span></a>,\n",
       " <a href=\"//www.noaa.gov/\" target=\"_blank\"><img alt=\"NOAA logo-Select to go to the NOAA homepage\" border=\"0\" height=\"78\" src=\"/nwscwi/noaaleft.jpg\" width=\"85\"/></a>,\n",
       " <a href=\"//www.weather.gov/\" target=\"_blank\"><img alt=\"Select to go to the NWS homepage\" border=\"0\" height=\"78\" src=\"/nwscwi/nwsright.jpg\" width=\"85\"/></a>,\n",
       " <a href=\"/\"><img alt=\"Storm Prediction Center\" border=\"0\" height=\"58\" src=\"/nwscwi/spc.jpg\" width=\"500\"/></a>,\n",
       " <a href=\"/sitemap.html\">Site Map</a>,\n",
       " <a href=\"//www.weather.gov/pa/\">News</a>,\n",
       " <a href=\"//www.weather.gov/organization.php\">Organization</a>,\n",
       " <a href=\"https://www.facebook.com/NWSSPC\" target=\"SPC_Facebook\" title=\"NOAA NWS Storm Prediction Center Facebook\"><img src=\"/misc/facebook_logo.gif\" style=\"border: 0px;\"><br/>SPC on Facebook</img></a>,\n",
       " <a href=\"https://twitter.com/NWSSPC\" target=\"_blank\" title=\"NOAA NWS Storm Prediction Center Twitter\"><img src=\"/misc/twitter-bird-light-bgs.png\" style=\"border: 0px;height: 40px;width: 40px;vertical-align: middle;\"/>@NWSSPC</a>,\n",
       " <a href=\"//www.ncep.noaa.gov/newsletter/\" target=\"NCEP_Newsletter\">NCEP Quarterly Newsletter</a>,\n",
       " <a href=\"/\"><span class=\"yellow\">Home</span></a>,\n",
       " <a href=\"/classic.html\" target=\"_blank\"><span class=\"yellow\">Classic</span></a>,\n",
       " <a href=\"/products/\">All SPC Forecasts</a>,\n",
       " <a href=\"/products/watch/\">Current Watches</a>,\n",
       " <a href=\"/products/md/\">Meso. Discussions</a>,\n",
       " <a href=\"/products/outlook/\">Conv. Outlooks</a>,\n",
       " <a href=\"/products/exper/enhtstm/\">Tstm. Outlooks</a>,\n",
       " <a href=\"/products/fire_wx/overview.html\">Fire Wx Outlooks</a>,\n",
       " <a href=\"/products/spcrss.xml\"><img alt=\"XML logo\" border=\"0\" height=\"13\" src=\"/nwscwi/xml2.gif\" width=\"13\"/></a>,\n",
       " <a href=\"/aboutrss.html\">RSS Feeds</a>,\n",
       " <a href=\"//www.weather.gov/subscribe/\">E-Mail Alerts</a>,\n",
       " <a href=\"/climo/online/\">Storm Reports</a>,\n",
       " <a href=\"/exper/reports/\">Storm Reports Dev.</a>,\n",
       " <a href=\"//www.weather.gov/largemap.php\" target=\"NWS_Hazards\">NWS Hazards Map</a>,\n",
       " <a href=\"//www.weather.gov/Radar/\" target=\"radar_window\">National RADAR</a>,\n",
       " <a href=\"/archive/\">Product Archive</a>,\n",
       " <a href=\"//www.weather.gov/nwr/\" target=\"NWR_window\">NOAA Weather Radio</a>,\n",
       " <a href=\"/products/exper/\">Non-op. Products</a>,\n",
       " <a href=\"/exper/\">Forecast Tools</a>,\n",
       " <a href=\"/exper/archive/events/\">Svr. Tstm. Events</a>,\n",
       " <a href=\"/publications/\">SPC Publications</a>,\n",
       " <a href=\"//hwt.nssl.noaa.gov/\" target=\"NOAA_HWT\">SPC-NSSL HWT</a>,\n",
       " <a href=\"/misc/aboutus.html\">About the SPC</a>,\n",
       " <a href=\"/faq/\">SPC FAQ</a>,\n",
       " <a href=\"/faq/tornado/\">About Tornadoes</a>,\n",
       " <a href=\"/misc/AbtDerechos/derechofacts.htm\">About Derechos</a>,\n",
       " <a href=\"/exper/spcousom\">Video Lecture Series</a>,\n",
       " <a href=\"/wcm/\">WCM Page</a>,\n",
       " <a href=\"/efscale/\">Enh. Fujita Page</a>,\n",
       " <a href=\"/history/early.html\">Our History</a>,\n",
       " <a href=\"http://nwc.ou.edu/tours/\" target=\"_blank\">Public Tours</a>,\n",
       " <a href=\"/staff/\">Staff</a>,\n",
       " <a href=\"/misc/feedback.html\">SPC Feedback</a>,\n",
       " <a href=\"//www.USA.gov/\"><img alt=\"USA.gov is the U.S. Government's official Web portal to all Federal, state and local government Web resources and services.\" border=\"0\" height=\"30\" src=\"/misc/usagov_logo_color_110w_30h.gif\" width=\"110\"/></a>,\n",
       " <a href=\"today_prt_rpts.html\">Print Version</a>,\n",
       " <a href=\"210716_rpts.html\">&lt; 210716 Reports</a>,\n",
       " <a href=\"210717_rpts.html\">210717 Reports &gt;</a>,\n",
       " <a alt=\"Unfiltered Reports\" href=\"210717_rpts.gif\" onmouseover=\"show_tab('TAB_Rpts_Unfiltered')\">Unfiltered Reports</a>,\n",
       " <a href=\"/climo/gm.php?rpt=210717_rpts\" target=\"Un-Filtered KML\">ESRI Maps</a>,\n",
       " <a alt=\"Filtered Reports\" href=\"210717_rpts_filtered.gif\" onmouseover=\"show_tab('TAB_Rpts_Filtered')\">Filtered Reports</a>,\n",
       " <a href=\"/climo/gmf.php?rpt=210717_rpts_filtered\" target=\"Filtered KML\">ESRI Maps</a>,\n",
       " <a href=\"/faq/#6.11\"><font color=\"#ffa500\">More Info</font></a>,\n",
       " <a href=\"today.gif\"><img alt=\"today Reports Graphic\" height=\"408\" src=\"today.gif\" width=\"582\"/></a>,\n",
       " <a href=\"today_torn.csv\">CSV</a>,\n",
       " <a href=\"today_raw_torn.csv\">Raw Tornado CSV</a>,\n",
       " <a href=\"/faq/#6.10\">?</a>,\n",
       " <a href=\"today_hail.csv\">CSV</a>,\n",
       " <a href=\"today_raw_hail.csv\">Raw Hail CSV</a>,\n",
       " <a href=\"/faq/#6.10\">?</a>,\n",
       " <a href=\"/misc/WFOlist.html\">(OKX)</a>,\n",
       " <a href=\"today_wind.csv\">CSV</a>,\n",
       " <a href=\"today_raw_wind.csv\">Raw Wind CSV</a>,\n",
       " <a href=\"/faq/#6.10\">?</a>,\n",
       " <a href=\"/misc/WFOlist.html\">(RNK)</a>,\n",
       " <a href=\"/misc/WFOlist.html\">(RNK)</a>,\n",
       " <a href=\"/misc/WFOlist.html\">(PHI)</a>,\n",
       " <a href=\"/misc/WFOlist.html\">(LWX)</a>,\n",
       " <a href=\"/misc/WFOlist.html\">(PHI)</a>,\n",
       " <a href=\"/misc/WFOlist.html\">(PHI)</a>,\n",
       " <a href=\"/misc/WFOlist.html\">(LWX)</a>,\n",
       " <a href=\"/misc/WFOlist.html\">(PHI)</a>,\n",
       " <a href=\"/misc/WFOlist.html\">(LWX)</a>,\n",
       " <a href=\"/misc/WFOlist.html\">(LWX)</a>,\n",
       " <a href=\"/misc/WFOlist.html\">(LWX)</a>,\n",
       " <a href=\"/misc/WFOlist.html\">(PHI)</a>,\n",
       " <a href=\"/misc/WFOlist.html\">(CTP)</a>,\n",
       " <a href=\"/misc/WFOlist.html\">(CTP)</a>,\n",
       " <a href=\"/misc/WFOlist.html\">(PHI)</a>,\n",
       " <a href=\"/misc/WFOlist.html\">(LWX)</a>,\n",
       " <a href=\"/misc/WFOlist.html\">(LWX)</a>,\n",
       " <a href=\"/misc/WFOlist.html\">(PBZ)</a>,\n",
       " <a href=\"/misc/WFOlist.html\">(LWX)</a>,\n",
       " <a href=\"/misc/WFOlist.html\">(LWX)</a>,\n",
       " <a href=\"/misc/WFOlist.html\">(PBZ)</a>,\n",
       " <a href=\"/misc/WFOlist.html\">(OKX)</a>,\n",
       " <a href=\"/misc/WFOlist.html\">(RNK)</a>,\n",
       " <a href=\"/misc/WFOlist.html\">(LWX)</a>,\n",
       " <a href=\"/misc/WFOlist.html\">(PBZ)</a>,\n",
       " <a href=\"/misc/WFOlist.html\">(PHI)</a>,\n",
       " <a href=\"/misc/WFOlist.html\">(PHI)</a>,\n",
       " <a href=\"/misc/WFOlist.html\">(PBZ)</a>,\n",
       " <a href=\"today_filtered.gif\"><img alt=\"today Filtered Reports Graphic\" height=\"408\" src=\"today_filtered.gif\" width=\"582\"/></a>,\n",
       " <a href=\"today_filtered_torn.csv\">CSV</a>,\n",
       " <a href=\"today_raw_torn.csv\">Raw Tornado CSV</a>,\n",
       " <a href=\"/faq/#6.10\">?</a>,\n",
       " <a href=\"today_filtered_hail.csv\">CSV</a>,\n",
       " <a href=\"today_raw_hail.csv\">Raw Hail CSV</a>,\n",
       " <a href=\"/faq/#6.10\">?</a>,\n",
       " <a href=\"/misc/WFOlist.html\">(OKX)</a>,\n",
       " <a href=\"today_filtered_wind.csv\">CSV</a>,\n",
       " <a href=\"today_raw_wind.csv\">Raw Wind CSV</a>,\n",
       " <a href=\"/faq/#6.10\">?</a>,\n",
       " <a href=\"/misc/WFOlist.html\">(RNK)</a>,\n",
       " <a href=\"/misc/WFOlist.html\">(RNK)</a>,\n",
       " <a href=\"/misc/WFOlist.html\">(PHI)</a>,\n",
       " <a href=\"/misc/WFOlist.html\">(LWX)</a>,\n",
       " <a href=\"/misc/WFOlist.html\">(PHI)</a>,\n",
       " <a href=\"/misc/WFOlist.html\">(PHI)</a>,\n",
       " <a href=\"/misc/WFOlist.html\">(LWX)</a>,\n",
       " <a href=\"/misc/WFOlist.html\">(LWX)</a>,\n",
       " <a href=\"/misc/WFOlist.html\">(PHI)</a>,\n",
       " <a href=\"/misc/WFOlist.html\">(CTP)</a>,\n",
       " <a href=\"/misc/WFOlist.html\">(PHI)</a>,\n",
       " <a href=\"/misc/WFOlist.html\">(LWX)</a>,\n",
       " <a href=\"/misc/WFOlist.html\">(PBZ)</a>,\n",
       " <a href=\"/misc/WFOlist.html\">(LWX)</a>,\n",
       " <a href=\"/misc/WFOlist.html\">(LWX)</a>,\n",
       " <a href=\"/misc/WFOlist.html\">(PBZ)</a>,\n",
       " <a href=\"/misc/WFOlist.html\">(OKX)</a>,\n",
       " <a href=\"/misc/WFOlist.html\">(RNK)</a>,\n",
       " <a href=\"/misc/WFOlist.html\">(LWX)</a>,\n",
       " <a href=\"/misc/WFOlist.html\">(PBZ)</a>,\n",
       " <a href=\"/misc/WFOlist.html\">(PHI)</a>,\n",
       " <a href=\"/misc/WFOlist.html\">(PHI)</a>,\n",
       " <a href=\"/misc/WFOlist.html\">(PBZ)</a>,\n",
       " <a href=\"today.csv\">Full report</a>,\n",
       " <a href=\"today.kmz\">KML</a>,\n",
       " <a href=\"today_filtered.csv\">Full filtered report</a>,\n",
       " <a href=\"today_filtered.kmz\">KML</a>,\n",
       " <a href=\"http://www.nws.noaa.gov/cgi-bin/nwsexit.pl?url=http://earth.google.com/outreach/tutorial_time.html\">Google Earth Time Slider</a>,\n",
       " <a href=\"today_raw.csv\">Raw full report</a>,\n",
       " <a href=\"/faq/index.html#3.1\">UTC</a>,\n",
       " <a href=\"/faq/index.html#6.8\">FAQ</a>,\n",
       " <a href=\"/misc/NWS_WFO_ID.txt\">Weather Forecast Office 3-letter IDs</a>,\n",
       " <a href=\"#top\">Top</a>,\n",
       " <a href=\"/climo/online/\">Storm Reports</a>,\n",
       " <a href=\"/\">Home</a>,\n",
       " <a href=\"/products/watch/\">Watches</a>,\n",
       " <a href=\"/products/md/\">Mesoscale Discussions</a>,\n",
       " <a href=\"/products/outlook/\">Outlooks</a>,\n",
       " <a href=\"/products/fire_wx/\">Fire Weather</a>,\n",
       " <a href=\"/products/\">All Products</a>,\n",
       " <a href=\"/misc/feedback.html\">Contact Us</a>,\n",
       " <a href=\"//www.noaa.gov/\"><span class=\"gray\">NOAA</span></a>,\n",
       " <a href=\"//www.nws.noaa.gov/\"><span class=\"gray\">National Weather Service</span></a>,\n",
       " <a href=\"//www.ncep.noaa.gov/\"><span class=\"gray\">National Centers for Environmental Prediction</span></a>,\n",
       " <a href=\"/\"><span class=\"gray\">Storm Prediction Center</span></a>,\n",
       " <a href=\"mailto:spc.feedback@noaa.gov?subject=[SPC web feedback]\"><span class=\"gray\">spc.feedback@noaa.gov</span></a>,\n",
       " <a href=\"//www.weather.gov/disclaimer\">\n",
       " <span class=\"gray\">Disclaimer</span></a>,\n",
       " <a href=\"//www.cio.noaa.gov/services_programs/info_quality.html\">\n",
       " <span class=\"gray\">Information Quality</span></a>,\n",
       " <a href=\"//www.weather.gov/help\">\n",
       " <span class=\"gray\">Help</span></a>,\n",
       " <a href=\"//www.weather.gov/glossary\">\n",
       " <span class=\"gray\">Glossary</span></a>,\n",
       " <a href=\"//www.weather.gov/privacy\">\n",
       " <span class=\"gray\">Privacy Policy</span></a>,\n",
       " <a href=\"//www.rdc.noaa.gov/%7Efoia/\">\n",
       " <span class=\"gray\">Freedom of Information Act (FOIA)</span></a>,\n",
       " <a href=\"//www.weather.gov/about\">\n",
       " <span class=\"gray\">About Us</span></a>,\n",
       " <a href=\"//www.weather.gov/careers\">\n",
       " <span class=\"gray\">Career Opportunities</span></a>]"
      ]
     },
     "execution_count": 10,
     "metadata": {},
     "output_type": "execute_result"
    }
   ],
   "source": [
    "href_tags = soup.find_all(href=True)\n",
    "href_tags"
   ]
  },
  {
   "cell_type": "code",
   "execution_count": 11,
   "metadata": {},
   "outputs": [],
   "source": [
    "#soup = BeautifulSoup(html)\n",
    "anchors = soup.find_all('a', {'class': 'Unique_Class_Name', 'href': True})\n",
    "\n",
    "for anchor in anchors:\n",
    "    print (anchor['href'])"
   ]
  },
  {
   "cell_type": "code",
   "execution_count": 12,
   "metadata": {
    "scrolled": false
   },
   "outputs": [
    {
     "data": {
      "text/plain": [
       "['//www.weather.gov/',\n",
       " '/sitemap.html',\n",
       " '//www.weather.gov/pa/',\n",
       " '//www.weather.gov/organization.php',\n",
       " 'https://www.facebook.com/NWSSPC',\n",
       " 'https://twitter.com/NWSSPC',\n",
       " '//www.ncep.noaa.gov/newsletter/',\n",
       " '/',\n",
       " '/classic.html',\n",
       " '/products/',\n",
       " '/products/watch/',\n",
       " '/products/md/',\n",
       " '/products/outlook/',\n",
       " '/products/exper/enhtstm/',\n",
       " '/products/fire_wx/overview.html',\n",
       " '/aboutrss.html',\n",
       " '//www.weather.gov/subscribe/',\n",
       " '/climo/online/',\n",
       " '/exper/reports/',\n",
       " '//www.weather.gov/largemap.php',\n",
       " '//www.weather.gov/Radar/',\n",
       " '/archive/',\n",
       " '//www.weather.gov/nwr/',\n",
       " '/products/exper/',\n",
       " '/exper/',\n",
       " '/exper/archive/events/',\n",
       " '/publications/',\n",
       " '//hwt.nssl.noaa.gov/',\n",
       " '/misc/aboutus.html',\n",
       " '/faq/',\n",
       " '/faq/tornado/',\n",
       " '/misc/AbtDerechos/derechofacts.htm',\n",
       " '/exper/spcousom',\n",
       " '/wcm/',\n",
       " '/efscale/',\n",
       " '/history/early.html',\n",
       " 'http://nwc.ou.edu/tours/',\n",
       " '/staff/',\n",
       " '/misc/feedback.html',\n",
       " 'today_prt_rpts.html',\n",
       " '210716_rpts.html',\n",
       " '210717_rpts.html',\n",
       " '210717_rpts.gif',\n",
       " '/climo/gm.php?rpt=210717_rpts',\n",
       " '210717_rpts_filtered.gif',\n",
       " '/climo/gmf.php?rpt=210717_rpts_filtered',\n",
       " '/faq/#6.11',\n",
       " 'today_torn.csv',\n",
       " 'today_raw_torn.csv',\n",
       " '/faq/#6.10',\n",
       " 'today_hail.csv',\n",
       " 'today_raw_hail.csv',\n",
       " '/faq/#6.10',\n",
       " '/misc/WFOlist.html',\n",
       " 'today_wind.csv',\n",
       " 'today_raw_wind.csv',\n",
       " '/faq/#6.10',\n",
       " '/misc/WFOlist.html',\n",
       " '/misc/WFOlist.html',\n",
       " '/misc/WFOlist.html',\n",
       " '/misc/WFOlist.html',\n",
       " '/misc/WFOlist.html',\n",
       " '/misc/WFOlist.html',\n",
       " '/misc/WFOlist.html',\n",
       " '/misc/WFOlist.html',\n",
       " '/misc/WFOlist.html',\n",
       " '/misc/WFOlist.html',\n",
       " '/misc/WFOlist.html',\n",
       " '/misc/WFOlist.html',\n",
       " '/misc/WFOlist.html',\n",
       " '/misc/WFOlist.html',\n",
       " '/misc/WFOlist.html',\n",
       " '/misc/WFOlist.html',\n",
       " '/misc/WFOlist.html',\n",
       " '/misc/WFOlist.html',\n",
       " '/misc/WFOlist.html',\n",
       " '/misc/WFOlist.html',\n",
       " '/misc/WFOlist.html',\n",
       " '/misc/WFOlist.html',\n",
       " '/misc/WFOlist.html',\n",
       " '/misc/WFOlist.html',\n",
       " '/misc/WFOlist.html',\n",
       " '/misc/WFOlist.html',\n",
       " '/misc/WFOlist.html',\n",
       " '/misc/WFOlist.html',\n",
       " 'today_filtered_torn.csv',\n",
       " 'today_raw_torn.csv',\n",
       " '/faq/#6.10',\n",
       " 'today_filtered_hail.csv',\n",
       " 'today_raw_hail.csv',\n",
       " '/faq/#6.10',\n",
       " '/misc/WFOlist.html',\n",
       " 'today_filtered_wind.csv',\n",
       " 'today_raw_wind.csv',\n",
       " '/faq/#6.10',\n",
       " '/misc/WFOlist.html',\n",
       " '/misc/WFOlist.html',\n",
       " '/misc/WFOlist.html',\n",
       " '/misc/WFOlist.html',\n",
       " '/misc/WFOlist.html',\n",
       " '/misc/WFOlist.html',\n",
       " '/misc/WFOlist.html',\n",
       " '/misc/WFOlist.html',\n",
       " '/misc/WFOlist.html',\n",
       " '/misc/WFOlist.html',\n",
       " '/misc/WFOlist.html',\n",
       " '/misc/WFOlist.html',\n",
       " '/misc/WFOlist.html',\n",
       " '/misc/WFOlist.html',\n",
       " '/misc/WFOlist.html',\n",
       " '/misc/WFOlist.html',\n",
       " '/misc/WFOlist.html',\n",
       " '/misc/WFOlist.html',\n",
       " '/misc/WFOlist.html',\n",
       " '/misc/WFOlist.html',\n",
       " '/misc/WFOlist.html',\n",
       " '/misc/WFOlist.html',\n",
       " '/misc/WFOlist.html',\n",
       " 'today.csv',\n",
       " 'today.kmz',\n",
       " 'today_filtered.csv',\n",
       " 'today_filtered.kmz',\n",
       " 'http://www.nws.noaa.gov/cgi-bin/nwsexit.pl?url=http://earth.google.com/outreach/tutorial_time.html',\n",
       " 'today_raw.csv',\n",
       " '/faq/index.html#3.1',\n",
       " '/faq/index.html#6.8',\n",
       " '/misc/NWS_WFO_ID.txt',\n",
       " '#top',\n",
       " '/climo/online/',\n",
       " '/',\n",
       " '/products/watch/',\n",
       " '/products/md/',\n",
       " '/products/outlook/',\n",
       " '/products/fire_wx/',\n",
       " '/products/',\n",
       " '/misc/feedback.html',\n",
       " '//www.noaa.gov/',\n",
       " '//www.nws.noaa.gov/',\n",
       " '//www.ncep.noaa.gov/',\n",
       " '/',\n",
       " 'mailto:spc.feedback@noaa.gov?subject=[SPC web feedback]',\n",
       " '//www.weather.gov/disclaimer',\n",
       " '//www.cio.noaa.gov/services_programs/info_quality.html',\n",
       " '//www.weather.gov/help',\n",
       " '//www.weather.gov/glossary',\n",
       " '//www.weather.gov/privacy',\n",
       " '//www.rdc.noaa.gov/%7Efoia/',\n",
       " '//www.weather.gov/about',\n",
       " '//www.weather.gov/careers']"
      ]
     },
     "execution_count": 12,
     "metadata": {},
     "output_type": "execute_result"
    }
   ],
   "source": [
    "links_with_text = []\n",
    "for a in soup.find_all('a', href=True): \n",
    "    if a.text: \n",
    "        links_with_text.append(a['href'])\n",
    "list(links_with_text)\n"
   ]
  },
  {
   "cell_type": "code",
   "execution_count": 13,
   "metadata": {},
   "outputs": [
    {
     "data": {
      "text/plain": [
       "51"
      ]
     },
     "execution_count": 13,
     "metadata": {},
     "output_type": "execute_result"
    }
   ],
   "source": [
    "raw_hail_index = links_with_text.index('today_raw_hail.csv')\n",
    "raw_hail_index"
   ]
  },
  {
   "cell_type": "code",
   "execution_count": 32,
   "metadata": {},
   "outputs": [
    {
     "data": {
      "text/plain": [
       "51"
      ]
     },
     "execution_count": 32,
     "metadata": {},
     "output_type": "execute_result"
    }
   ],
   "source": []
  },
  {
   "cell_type": "code",
   "execution_count": 14,
   "metadata": {},
   "outputs": [],
   "source": [
    "import glob"
   ]
  },
  {
   "cell_type": "code",
   "execution_count": 15,
   "metadata": {},
   "outputs": [
    {
     "name": "stdout",
     "output_type": "stream",
     "text": [
      "<a href=\"today_hail.csv\">CSV</a>\n"
     ]
    },
    {
     "data": {
      "text/plain": [
       "'today_hail.csv'"
      ]
     },
     "execution_count": 15,
     "metadata": {},
     "output_type": "execute_result"
    }
   ],
   "source": [
    "one_a_tag = soup.findAll('a',href=True)[raw_hail_index+6]\n",
    "print(one_a_tag)\n",
    "link = one_a_tag['href']\n",
    "link"
   ]
  },
  {
   "cell_type": "code",
   "execution_count": 13,
   "metadata": {},
   "outputs": [
    {
     "data": {
      "text/plain": [
       "'https://www.spc.noaa.gov/climo/reports/today_raw_torn.csv'"
      ]
     },
     "execution_count": 13,
     "metadata": {},
     "output_type": "execute_result"
    }
   ],
   "source": [
    "\"https://www.spc.noaa.gov/climo/reports/today_raw_torn.csv\""
   ]
  },
  {
   "cell_type": "code",
   "execution_count": 20,
   "metadata": {},
   "outputs": [
    {
     "data": {
      "text/plain": [
       "'https://www.spc.noaa.gov/climo/reports/today_torn.csv'"
      ]
     },
     "execution_count": 20,
     "metadata": {},
     "output_type": "execute_result"
    }
   ],
   "source": [
    "r.url"
   ]
  },
  {
   "cell_type": "code",
   "execution_count": 120,
   "metadata": {},
   "outputs": [
    {
     "name": "stdout",
     "output_type": "stream",
     "text": [
      "/Users/chowdahead/Desktop\n"
     ]
    }
   ],
   "source": [
    "cd ~/Desktop/"
   ]
  },
  {
   "cell_type": "code",
   "execution_count": 17,
   "metadata": {},
   "outputs": [
    {
     "name": "stdout",
     "output_type": "stream",
     "text": [
      "torn_rpts.csv\r\n"
     ]
    }
   ],
   "source": [
    "ls *.csv"
   ]
  },
  {
   "cell_type": "code",
   "execution_count": 18,
   "metadata": {},
   "outputs": [
    {
     "data": {
      "text/plain": [
       "'/Users/chowdahead/Jupyter/Jupyter_Notebooks/Weather'"
      ]
     },
     "execution_count": 18,
     "metadata": {},
     "output_type": "execute_result"
    }
   ],
   "source": [
    "pwd"
   ]
  },
  {
   "cell_type": "code",
   "execution_count": null,
   "metadata": {},
   "outputs": [],
   "source": [
    "'today_filtered_torn.csv'\n",
    "'today_raw_torn.csv'\n",
    "'today_filtered_hail.csv'\n",
    "'today_raw_hail.csv'\n",
    "'today_filtered_wind.csv'\n",
    "'today_raw_wind.csv'\n",
    "'today.csv'\n",
    "'today_filtered.csv'"
   ]
  },
  {
   "cell_type": "code",
   "execution_count": 22,
   "metadata": {},
   "outputs": [
    {
     "name": "stdout",
     "output_type": "stream",
     "text": [
      "Beginning file download with requests\n"
     ]
    }
   ],
   "source": [
    "import requests\n",
    "print('Beginning file download with requests')\n",
    "\n",
    "#url = \"https://www.spc.noaa.gov/climo/reports/today_torn.csv\"\n",
    "YY = 20\n",
    "MM = 7\n",
    "DD = 14\n",
    "url = f\"https://www.spc.noaa.gov/climo/reports/{YY}{MM:02}{DD:02}_rpts_torn.csv\"\n",
    "#url = f\"https://www.spc.noaa.gov/climo/reports/{YY}{MM:02}{DD:02}_rpts_hail.csv\"\n",
    "#url = f\"https://www.spc.noaa.gov/climo/reports/{YY}{MM:02}{DD:02}_rpts_today.csv\"\n",
    "#url = f\"https://www.spc.noaa.gov/climo/reports/{YY}{MM:02}{DD:02}_rpts_wind.csv\"\n",
    "r = requests.get(url)\n",
    "save_path = f\"/Users/chowdahead/Desktop/Weather_Blog/20{YY}/{MM}_{DD}/\"\n",
    "with open(f'{YY}{MM:02}{DD:02}_rpts_torn.csv', 'wb') as f:\n",
    "    f.write(r.content)"
   ]
  },
  {
   "cell_type": "code",
   "execution_count": null,
   "metadata": {},
   "outputs": [],
   "source": []
  },
  {
   "cell_type": "code",
   "execution_count": null,
   "metadata": {},
   "outputs": [],
   "source": []
  },
  {
   "cell_type": "code",
   "execution_count": null,
   "metadata": {},
   "outputs": [],
   "source": []
  },
  {
   "cell_type": "code",
   "execution_count": null,
   "metadata": {},
   "outputs": [],
   "source": []
  }
 ],
 "metadata": {
  "kernelspec": {
   "display_name": "Python 3",
   "language": "python",
   "name": "python3"
  },
  "language_info": {
   "codemirror_mode": {
    "name": "ipython",
    "version": 3
   },
   "file_extension": ".py",
   "mimetype": "text/x-python",
   "name": "python",
   "nbconvert_exporter": "python",
   "pygments_lexer": "ipython3",
   "version": "3.6.13"
  }
 },
 "nbformat": 4,
 "nbformat_minor": 2
}
