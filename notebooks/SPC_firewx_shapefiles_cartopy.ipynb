{
 "cells": [
  {
   "cell_type": "raw",
   "metadata": {},
   "source": [
    "https://www.spc.noaa.gov/gis/"
   ]
  },
  {
   "cell_type": "code",
   "execution_count": 1,
   "metadata": {},
   "outputs": [],
   "source": [
    "%matplotlib inline"
   ]
  },
  {
   "cell_type": "code",
   "execution_count": 2,
   "metadata": {},
   "outputs": [
    {
     "name": "stdout",
     "output_type": "stream",
     "text": [
      "/Users/chowdahead/Python_Scripts\n"
     ]
    }
   ],
   "source": [
    "cd Python_Scripts/"
   ]
  },
  {
   "cell_type": "code",
   "execution_count": 7,
   "metadata": {},
   "outputs": [],
   "source": [
    "import cartopy.crs as ccrs\n",
    "import cartopy.feature as cfeature\n",
    "import matplotlib.pyplot as plt\n",
    "from matplotlib import patheffects\n",
    "from datetime import datetime\n",
    "from matplotlib.offsetbox import TextArea, VPacker, AnnotationBbox\n",
    "import glob\n",
    "\n",
    "from cartopy.io.shapereader import Reader\n",
    "from cartopy.feature import ShapelyFeature\n",
    "\n",
    "import geopandas as gp\n",
    "\n",
    "import numpy as np"
   ]
  },
  {
   "cell_type": "code",
   "execution_count": null,
   "metadata": {},
   "outputs": [],
   "source": [
    "import map_fig"
   ]
  },
  {
   "cell_type": "code",
   "execution_count": null,
   "metadata": {},
   "outputs": [],
   "source": [
    "fig,ax = map_fig.create_map()\n",
    "fig.savefig(\"uhhh.png\")"
   ]
  },
  {
   "cell_type": "code",
   "execution_count": 1,
   "metadata": {},
   "outputs": [
    {
     "name": "stdout",
     "output_type": "stream",
     "text": [
      "/Users/chowdahead/wx-data\n"
     ]
    }
   ],
   "source": [
    "cd /Users/chowdahead/wx-data"
   ]
  },
  {
   "cell_type": "markdown",
   "metadata": {},
   "source": [
    "https://www.spc.noaa.gov/products/fire_wx/day1firewx-shp.zip"
   ]
  },
  {
   "cell_type": "code",
   "execution_count": 13,
   "metadata": {},
   "outputs": [],
   "source": [
    "today = datetime.utcnow()\n",
    "today_date = f\"{today:%Y_%m_%d}\"\n",
    "#! mkdir {today_date}/"
   ]
  },
  {
   "cell_type": "code",
   "execution_count": null,
   "metadata": {},
   "outputs": [],
   "source": [
    "#cd {today_date}"
   ]
  },
  {
   "cell_type": "code",
   "execution_count": 32,
   "metadata": {},
   "outputs": [],
   "source": [
    "day_num = 1"
   ]
  },
  {
   "cell_type": "code",
   "execution_count": 26,
   "metadata": {},
   "outputs": [
    {
     "name": "stdout",
     "output_type": "stream",
     "text": [
      "  % Total    % Received % Xferd  Average Speed   Time    Time     Time  Current\n",
      "                                 Dload  Upload   Total   Spent    Left  Speed\n",
      "100  7981  100  7981    0     0   3904      0  0:00:02  0:00:02 --:--:--  3904\n",
      "mkdir: day1firewx-shp/: File exists\n",
      "x firewx_day1_dryltg.shp\n",
      "x firewx_day1.shp\n",
      "x firewx_day1_dryltg.shx\n",
      "x firewx_day1.shx\n",
      "x firewx_day1.dbf\n",
      "x firewx_day1_dryltg.dbf\n",
      "x firewx_day1_dryltg.prj\n",
      "x firewx_day1.prj\n",
      "x firewx_day1.info\n"
     ]
    }
   ],
   "source": [
    "! curl -L https://www.spc.noaa.gov/products/fire_wx/day\"$day_num\"firewx-shp.zip > day\"$day_num\"firewx-shp.zip\n",
    "! mkdir \"$today_date\"/day\"$day_num\"firewx-shp/\n",
    "! tar xvzf day\"$day_num\"firewx-shp.zip -C day\"$day_num\"firewx-shp/"
   ]
  },
  {
   "cell_type": "code",
   "execution_count": 30,
   "metadata": {},
   "outputs": [
    {
     "data": {
      "text/plain": [
       "['/Users/chowdahead/wx-data/2021_03_16/day1firewx-shp/firewx_day1.shp',\n",
       " '/Users/chowdahead/wx-data/2021_03_16/day1firewx-shp/firewx_day1_dryltg.shp']"
      ]
     },
     "execution_count": 30,
     "metadata": {},
     "output_type": "execute_result"
    }
   ],
   "source": [
    "\n",
    "path = f\"/Users/chowdahead/wx-data/{today_date}/day1firewx-shp\"\n",
    "shp =  glob.glob(f\"{path}/*.shp\")\n",
    "shp"
   ]
  },
  {
   "cell_type": "code",
   "execution_count": 31,
   "metadata": {},
   "outputs": [
    {
     "name": "stdout",
     "output_type": "stream",
     "text": [
      "Shape of the dataframe: (2, 4)\n",
      "Projection of dataframe: PROJCS[\"Lambert_Conformal_Conic\",GEOGCS[\"WGS 84\",DATUM[\"WGS_1984\",SPHEROID[\"WGS 84\",6378137,298.257223563,AUTHORITY[\"EPSG\",\"7030\"]],AUTHORITY[\"EPSG\",\"6326\"]],PRIMEM[\"Greenwich\",0],UNIT[\"Degree\",0.0174532925199433],AUTHORITY[\"EPSG\",\"4326\"]],PROJECTION[\"Lambert_Conformal_Conic_2SP\"],PARAMETER[\"latitude_of_origin\",0],PARAMETER[\"central_meridian\",0],PARAMETER[\"standard_parallel_1\",33],PARAMETER[\"standard_parallel_2\",45],PARAMETER[\"false_easting\",0],PARAMETER[\"false_northing\",0],UNIT[\"metre\",1,AUTHORITY[\"EPSG\",\"9001\"]],AXIS[\"Easting\",EAST],AXIS[\"Northing\",NORTH]]\n"
     ]
    },
    {
     "data": {
      "text/html": [
       "<div>\n",
       "<style scoped>\n",
       "    .dataframe tbody tr th:only-of-type {\n",
       "        vertical-align: middle;\n",
       "    }\n",
       "\n",
       "    .dataframe tbody tr th {\n",
       "        vertical-align: top;\n",
       "    }\n",
       "\n",
       "    .dataframe thead th {\n",
       "        text-align: right;\n",
       "    }\n",
       "</style>\n",
       "<table border=\"1\" class=\"dataframe\">\n",
       "  <thead>\n",
       "    <tr style=\"text-align: right;\">\n",
       "      <th></th>\n",
       "      <th>DN</th>\n",
       "      <th>VALID</th>\n",
       "      <th>EXPIRE</th>\n",
       "      <th>geometry</th>\n",
       "    </tr>\n",
       "  </thead>\n",
       "  <tbody>\n",
       "    <tr>\n",
       "      <th>0</th>\n",
       "      <td>8</td>\n",
       "      <td>202103161700</td>\n",
       "      <td>202103171200</td>\n",
       "      <td>POLYGON ((-8058617.304 9313356.281, -8048770.4...</td>\n",
       "    </tr>\n",
       "    <tr>\n",
       "      <th>1</th>\n",
       "      <td>5</td>\n",
       "      <td>202103161700</td>\n",
       "      <td>202103171200</td>\n",
       "      <td>POLYGON ((-8014306.486 9352743.675, -8009383.0...</td>\n",
       "    </tr>\n",
       "  </tbody>\n",
       "</table>\n",
       "</div>"
      ],
      "text/plain": [
       "   DN         VALID        EXPIRE  \\\n",
       "0   8  202103161700  202103171200   \n",
       "1   5  202103161700  202103171200   \n",
       "\n",
       "                                            geometry  \n",
       "0  POLYGON ((-8058617.304 9313356.281, -8048770.4...  \n",
       "1  POLYGON ((-8014306.486 9352743.675, -8009383.0...  "
      ]
     },
     "execution_count": 31,
     "metadata": {},
     "output_type": "execute_result"
    }
   ],
   "source": [
    "\n",
    "shp = shp[0]\n",
    "\"\"\"\n",
    " current_all.shp\n",
    "x current_all.shx\n",
    "x current_all.dbf\n",
    "x current_all.cpg\n",
    "x current_all.prj\n",
    "\"\"\"\n",
    "usa = gp.read_file(shp)\n",
    "print(\"Shape of the dataframe: {}\".format(usa.shape))\n",
    "print(\"Projection of dataframe: {}\".format(usa.crs))\n",
    "#usa #last 5 records in dataframe\n",
    "usa.head()"
   ]
  },
  {
   "cell_type": "code",
   "execution_count": null,
   "metadata": {},
   "outputs": [],
   "source": [
    "usa.crs"
   ]
  },
  {
   "cell_type": "markdown",
   "metadata": {},
   "source": [
    "Please note that the FireWX outlook shapefiles contain DN attributes which are based on the NDFD grid values which are defined as:\n",
    "5 - Elevated Risk\n",
    "8 - Critical Risk\n",
    "10 - Extreme Risk\n",
    "\n",
    "Please note that the FireWX DryT outlook shapefiles contain DN attributes which are based on the NDFD grid values which are defined as:\n",
    "5 - Isolated DryT Risk\n",
    "8 - Scattered DryT Risk"
   ]
  },
  {
   "cell_type": "code",
   "execution_count": 5,
   "metadata": {},
   "outputs": [
    {
     "data": {
      "text/html": [
       "<div>\n",
       "<style scoped>\n",
       "    .dataframe tbody tr th:only-of-type {\n",
       "        vertical-align: middle;\n",
       "    }\n",
       "\n",
       "    .dataframe tbody tr th {\n",
       "        vertical-align: top;\n",
       "    }\n",
       "\n",
       "    .dataframe thead th {\n",
       "        text-align: right;\n",
       "    }\n",
       "</style>\n",
       "<table border=\"1\" class=\"dataframe\">\n",
       "  <thead>\n",
       "    <tr style=\"text-align: right;\">\n",
       "      <th></th>\n",
       "      <th>DN</th>\n",
       "      <th>VALID</th>\n",
       "      <th>EXPIRE</th>\n",
       "      <th>geometry</th>\n",
       "    </tr>\n",
       "  </thead>\n",
       "  <tbody>\n",
       "    <tr>\n",
       "      <th>1</th>\n",
       "      <td>5</td>\n",
       "      <td>202103101700</td>\n",
       "      <td>202103111200</td>\n",
       "      <td>POLYGON ((-8127545.244 9544757.221, -8122621.8...</td>\n",
       "    </tr>\n",
       "  </tbody>\n",
       "</table>\n",
       "</div>"
      ],
      "text/plain": [
       "   DN         VALID        EXPIRE  \\\n",
       "1   5  202103101700  202103111200   \n",
       "\n",
       "                                            geometry  \n",
       "1  POLYGON ((-8127545.244 9544757.221, -8122621.8...  "
      ]
     },
     "execution_count": 5,
     "metadata": {},
     "output_type": "execute_result"
    }
   ],
   "source": [
    "elev = usa[usa.DN == 5]\n",
    "elev"
   ]
  },
  {
   "cell_type": "code",
   "execution_count": 6,
   "metadata": {},
   "outputs": [
    {
     "data": {
      "text/html": [
       "<div>\n",
       "<style scoped>\n",
       "    .dataframe tbody tr th:only-of-type {\n",
       "        vertical-align: middle;\n",
       "    }\n",
       "\n",
       "    .dataframe tbody tr th {\n",
       "        vertical-align: top;\n",
       "    }\n",
       "\n",
       "    .dataframe thead th {\n",
       "        text-align: right;\n",
       "    }\n",
       "</style>\n",
       "<table border=\"1\" class=\"dataframe\">\n",
       "  <thead>\n",
       "    <tr style=\"text-align: right;\">\n",
       "      <th></th>\n",
       "      <th>DN</th>\n",
       "      <th>VALID</th>\n",
       "      <th>EXPIRE</th>\n",
       "      <th>geometry</th>\n",
       "    </tr>\n",
       "  </thead>\n",
       "  <tbody>\n",
       "    <tr>\n",
       "      <th>0</th>\n",
       "      <td>8</td>\n",
       "      <td>202103101700</td>\n",
       "      <td>202103111200</td>\n",
       "      <td>POLYGON ((-8063540.728 9337973.402, -8058617.3...</td>\n",
       "    </tr>\n",
       "  </tbody>\n",
       "</table>\n",
       "</div>"
      ],
      "text/plain": [
       "   DN         VALID        EXPIRE  \\\n",
       "0   8  202103101700  202103111200   \n",
       "\n",
       "                                            geometry  \n",
       "0  POLYGON ((-8063540.728 9337973.402, -8058617.3...  "
      ]
     },
     "execution_count": 6,
     "metadata": {},
     "output_type": "execute_result"
    }
   ],
   "source": [
    "crit = usa[usa.DN == 8]\n",
    "crit"
   ]
  },
  {
   "cell_type": "code",
   "execution_count": 8,
   "metadata": {},
   "outputs": [
    {
     "data": {
      "text/html": [
       "<div>\n",
       "<style scoped>\n",
       "    .dataframe tbody tr th:only-of-type {\n",
       "        vertical-align: middle;\n",
       "    }\n",
       "\n",
       "    .dataframe tbody tr th {\n",
       "        vertical-align: top;\n",
       "    }\n",
       "\n",
       "    .dataframe thead th {\n",
       "        text-align: right;\n",
       "    }\n",
       "</style>\n",
       "<table border=\"1\" class=\"dataframe\">\n",
       "  <thead>\n",
       "    <tr style=\"text-align: right;\">\n",
       "      <th></th>\n",
       "      <th>DN</th>\n",
       "      <th>VALID</th>\n",
       "      <th>EXPIRE</th>\n",
       "      <th>geometry</th>\n",
       "    </tr>\n",
       "  </thead>\n",
       "  <tbody>\n",
       "  </tbody>\n",
       "</table>\n",
       "</div>"
      ],
      "text/plain": [
       "Empty GeoDataFrame\n",
       "Columns: [DN, VALID, EXPIRE, geometry]\n",
       "Index: []"
      ]
     },
     "execution_count": 8,
     "metadata": {},
     "output_type": "execute_result"
    }
   ],
   "source": [
    "extr = usa[usa.DN == 10]\n",
    "extr"
   ]
  },
  {
   "cell_type": "code",
   "execution_count": null,
   "metadata": {},
   "outputs": [],
   "source": [
    "crs = usa.crs\n",
    "crs"
   ]
  },
  {
   "cell_type": "code",
   "execution_count": null,
   "metadata": {},
   "outputs": [],
   "source": [
    "globe = ccrs.Globe(ellipse='WGS84')\n",
    "crs = ccrs.LambertConformal(globe=globe)"
   ]
  },
  {
   "cell_type": "code",
   "execution_count": 12,
   "metadata": {
    "scrolled": false
   },
   "outputs": [
    {
     "data": {
      "image/png": "[encoded data removed]",
      "text/plain": [
       "<Figure size 720x576 with 1 Axes>"
      ]
     },
     "metadata": {
      "needs_background": "light"
     },
     "output_type": "display_data"
    }
   ],
   "source": [
    "\n",
    "   \n",
    "    # Set Projection of Plot\n",
    "plotcrs = ccrs.LambertConformal(central_latitude=[30, 60], central_longitude=-100)\n",
    "    \n",
    "    # Lat/Lon Extents [lon0,lon1,lat0,lat1]\n",
    "extent = [-130., -65, 20., 60.]\n",
    "    \n",
    "    \n",
    "fig = plt.figure(figsize=(10., 8.))\n",
    "    \n",
    "    #add_metpy_logo(fig, 25, 950, size='small')\n",
    "    \n",
    "                                        # Add the Map \n",
    "    #---------------------------------------------------------------------------------------------------\n",
    "ax = plt.subplot(111, projection=plotcrs)\n",
    "    \n",
    "    \n",
    "    # Set extent and plot map lines\n",
    "ax.set_extent(extent)\n",
    "         \n",
    "ax.coastlines(resolution='10m')\n",
    "    \n",
    "                                # Add State/Country Boundaries to Plot\n",
    "    #---------------------------------------------------------------------------------------------------    \n",
    "   \n",
    "    #ax.add_feature(cfeature.BORDERS,edgecolor=\"k\")\n",
    "    #ax.add_feature(cfeature.LAND,facecolor=\"k\",linewidth=0.2)\n",
    "    #ax.add_feature(cfeature.OCEAN,facecolor=\"k\",linewidth=0.2,edgecolor=\"k\")\n",
    "    #ax.add_feature(cfeature.LAKES,facecolor=\"k\",linewidth=0.2,edgecolor=\"k\",)\n",
    "    \n",
    "state_borders = cfeature.NaturalEarthFeature(\n",
    "                    category='cultural', name='admin_1_states_provinces_lines',\n",
    "                    scale='10m',facecolor='none')\n",
    "ax.add_feature(state_borders, edgecolor='k', linewidth=0.35)\n",
    "        \n",
    "country_borders = cfeature.NaturalEarthFeature(category='cultural',\n",
    "                    name='admin_0_countries',scale='10m', facecolor='none')\n",
    "ax.add_feature(country_borders,edgecolor='k',linewidth=0.2)\n",
    "    \n",
    "    \n",
    "lakes = cfeature.NaturalEarthFeature('physical', 'lakes', '50m',\n",
    "                                        facecolor=\"w\")\n",
    "ax.add_feature(lakes,edgecolor='k',linewidth=0.2)\n",
    "      \n",
    "#ax.add_feature(cfeature.BORDERS,edgecolor=\"w\")\n",
    "ax.add_feature(cfeature.LAND,facecolor=\"w\",linewidth=0.2)\n",
    "ax.add_feature(cfeature.OCEAN,facecolor=\"w\",linewidth=0.2,edgecolor=\"k\")\n",
    "\n",
    "#ax.add_feature(COUNTIES)\n",
    "ax.add_geometries(elev[\"geometry\"],crs=ccrs.LambertConformal(central_latitude=[30, 60], central_longitude=0),\n",
    "                  facecolor=\"orange\",edgecolor=\"k\",alpha=0.5)\n",
    "ax.add_geometries(crit[\"geometry\"],crs=ccrs.LambertConformal(central_latitude=[30, 60], central_longitude=0),\n",
    "                  facecolor=\"red\",edgecolor=\"k\",alpha=0.5)\n",
    "#ax.add_geometries(high[\"geometry\"],crs=ccrs.PlateCarree(),facecolor=\"r\",edgecolor=\"k\",alpha=0.5)\n",
    "\n",
    "#ax.text(-129.5,20.3, \"Slight (10-39%)\", size=18,\n",
    "#        color=\"b\", bbox=dict(fc=\"none\"),transform=ccrs.PlateCarree())\n",
    "\n",
    "outline_effect = [patheffects.withStroke(linewidth=1.5, foreground='k')] \n",
    "texts = ['Elevated','Critical','Extreme']\n",
    "colors = ['orange','red','#FF69B4']\n",
    "Texts = []\n",
    "   # Set the font \n",
    "font = {'family': 'serif',\n",
    "        'color':  'darkred',\n",
    "        'weight': 'normal',\n",
    "        'size': 18,\n",
    "        }\n",
    "'''\n",
    "for t,c in zip(texts,colors):\n",
    "    Texts.append(TextArea(t,textprops=dict(color=c,fontsize=15,path_effects=outline_effect)))\n",
    "    \n",
    "texts_vbox = VPacker(children=Texts,pad=1,sep=5)\n",
    "ann = AnnotationBbox(texts_vbox,(.012,0.1),xycoords=ax.transAxes,\n",
    "                            box_alignment=(0,.5),bboxprops = \n",
    "                            dict(facecolor='w',boxstyle='round',edgecolor='k'))\n",
    "ann.set_figure(fig)\n",
    "fig.artists.append(ann)\n",
    "'''\n",
    "#prod = usa['PRODUCT'][0].replace(\"probability\",\"prob.\").replace(\"greater than\",\">\").replace(\"inches\",\"in.\")\n",
    "\n",
    "outline_effect2 = [patheffects.withStroke(linewidth=1.5, foreground='w')] \n",
    "ax.set_title(\"Day 1 Fire WX\",loc='right',color='k', fontsize=12, weight='bold',\n",
    "            path_effects=outline_effect2)\n",
    "\n",
    "ax.set_title(usa[\"VALID\"][0],loc='left',color='k', fontsize=12, weight='bold',\n",
    "            path_effects=outline_effect2)\n",
    "\n",
    "#prod_time = ax.text(0.99, 0.01,prod ,\n",
    "#                            horizontalalignment='right', transform=ax.transAxes,\n",
    "#                            color='white', fontsize=7, weight='bold')\n",
    "\n",
    "#prod_time.set_path_effects(outline_effect)\n",
    "    \n",
    "\n",
    "fig.savefig(f\"{2021_03_10}_day1_firewx.png\",bbox_inches=\"tight\",dpi=120)"
   ]
  },
  {
   "cell_type": "code",
   "execution_count": null,
   "metadata": {},
   "outputs": [],
   "source": [
    "elev.plot()"
   ]
  },
  {
   "cell_type": "code",
   "execution_count": 27,
   "metadata": {},
   "outputs": [
    {
     "name": "stdout",
     "output_type": "stream",
     "text": [
      "/Users/chowdahead/Downloads\n"
     ]
    }
   ],
   "source": [
    "cd .."
   ]
  },
  {
   "cell_type": "code",
   "execution_count": 28,
   "metadata": {},
   "outputs": [
    {
     "data": {
      "text/html": [
       "<div>\n",
       "<style scoped>\n",
       "    .dataframe tbody tr th:only-of-type {\n",
       "        vertical-align: middle;\n",
       "    }\n",
       "\n",
       "    .dataframe tbody tr th {\n",
       "        vertical-align: top;\n",
       "    }\n",
       "\n",
       "    .dataframe thead th {\n",
       "        text-align: right;\n",
       "    }\n",
       "</style>\n",
       "<table border=\"1\" class=\"dataframe\">\n",
       "  <thead>\n",
       "    <tr style=\"text-align: right;\">\n",
       "      <th></th>\n",
       "      <th>Name</th>\n",
       "      <th>description</th>\n",
       "      <th>timestamp</th>\n",
       "      <th>begin</th>\n",
       "      <th>end</th>\n",
       "      <th>altitudeMode</th>\n",
       "      <th>tessellate</th>\n",
       "      <th>extrude</th>\n",
       "      <th>visibility</th>\n",
       "      <th>drawOrder</th>\n",
       "      <th>icon</th>\n",
       "      <th>geometry</th>\n",
       "    </tr>\n",
       "  </thead>\n",
       "  <tbody>\n",
       "  </tbody>\n",
       "</table>\n",
       "</div>"
      ],
      "text/plain": [
       "Empty GeoDataFrame\n",
       "Columns: [Name, description, timestamp, begin, end, altitudeMode, tessellate, extrude, visibility, drawOrder, icon, geometry]\n",
       "Index: []"
      ]
     },
     "execution_count": 28,
     "metadata": {},
     "output_type": "execute_result"
    }
   ],
   "source": [
    "gp.read_file(\"ActiveMD.kmz\", driver=\"KMZ\")"
   ]
  },
  {
   "cell_type": "code",
   "execution_count": 7,
   "metadata": {},
   "outputs": [],
   "source": [
    "import fiona"
   ]
  },
  {
   "cell_type": "code",
   "execution_count": 10,
   "metadata": {},
   "outputs": [
    {
     "data": {
      "text/plain": [
       "{'AeronavFAA': 'r',\n",
       " 'ARCGEN': 'r',\n",
       " 'BNA': 'rw',\n",
       " 'DXF': 'rw',\n",
       " 'CSV': 'raw',\n",
       " 'OpenFileGDB': 'r',\n",
       " 'ESRIJSON': 'r',\n",
       " 'ESRI Shapefile': 'raw',\n",
       " 'FlatGeobuf': 'rw',\n",
       " 'GeoJSON': 'raw',\n",
       " 'GeoJSONSeq': 'rw',\n",
       " 'GPKG': 'raw',\n",
       " 'GML': 'rw',\n",
       " 'OGR_GMT': 'rw',\n",
       " 'GPX': 'rw',\n",
       " 'GPSTrackMaker': 'rw',\n",
       " 'Idrisi': 'r',\n",
       " 'MapInfo File': 'raw',\n",
       " 'DGN': 'raw',\n",
       " 'PCIDSK': 'rw',\n",
       " 'OGR_PDS': 'r',\n",
       " 'S57': 'r',\n",
       " 'SEGY': 'r',\n",
       " 'SUA': 'r',\n",
       " 'TopoJSON': 'r',\n",
       " 'libkml': 'rw',\n",
       " 'LIBKML': 'rw'}"
      ]
     },
     "execution_count": 10,
     "metadata": {},
     "output_type": "execute_result"
    }
   ],
   "source": [
    "fiona.supported_drivers"
   ]
  },
  {
   "cell_type": "code",
   "execution_count": 9,
   "metadata": {},
   "outputs": [],
   "source": [
    "fiona.drvsupport.supported_drivers['libkml'] = 'rw' # enable KML support which is disabled by default\n",
    "fiona.drvsupport.supported_drivers['LIBKML'] = 'rw' # enable KML support which is disabled by default"
   ]
  },
  {
   "cell_type": "code",
   "execution_count": 19,
   "metadata": {},
   "outputs": [
    {
     "data": {
      "text/html": [
       "<div>\n",
       "<style scoped>\n",
       "    .dataframe tbody tr th:only-of-type {\n",
       "        vertical-align: middle;\n",
       "    }\n",
       "\n",
       "    .dataframe tbody tr th {\n",
       "        vertical-align: top;\n",
       "    }\n",
       "\n",
       "    .dataframe thead th {\n",
       "        text-align: right;\n",
       "    }\n",
       "</style>\n",
       "<table border=\"1\" class=\"dataframe\">\n",
       "  <thead>\n",
       "    <tr style=\"text-align: right;\">\n",
       "      <th></th>\n",
       "      <th>Name</th>\n",
       "      <th>description</th>\n",
       "      <th>timestamp</th>\n",
       "      <th>begin</th>\n",
       "      <th>end</th>\n",
       "      <th>altitudeMode</th>\n",
       "      <th>tessellate</th>\n",
       "      <th>extrude</th>\n",
       "      <th>visibility</th>\n",
       "      <th>drawOrder</th>\n",
       "      <th>icon</th>\n",
       "      <th>geometry</th>\n",
       "    </tr>\n",
       "  </thead>\n",
       "  <tbody>\n",
       "  </tbody>\n",
       "</table>\n",
       "</div>"
      ],
      "text/plain": [
       "Empty GeoDataFrame\n",
       "Columns: [Name, description, timestamp, begin, end, altitudeMode, tessellate, extrude, visibility, drawOrder, icon, geometry]\n",
       "Index: []"
      ]
     },
     "execution_count": 19,
     "metadata": {},
     "output_type": "execute_result"
    }
   ],
   "source": [
    "gp.read_file(\"mygeodata/ActiveMD_20210310.kml\")"
   ]
  },
  {
   "cell_type": "code",
   "execution_count": 12,
   "metadata": {},
   "outputs": [],
   "source": [
    "from zipfile import ZipFile"
   ]
  },
  {
   "cell_type": "code",
   "execution_count": 17,
   "metadata": {},
   "outputs": [],
   "source": [
    "filename = 'mygeodata.zip'\n",
    "\n",
    "kmz = ZipFile(filename, 'r')\n",
    "kml = kmz.open('ActiveMD_20210310.kml', 'r')"
   ]
  },
  {
   "cell_type": "code",
   "execution_count": 18,
   "metadata": {},
   "outputs": [
    {
     "data": {
      "text/plain": [
       "<zipfile.ZipExtFile name='ActiveMD_20210310.kml' mode='r' compress_type=deflate>"
      ]
     },
     "execution_count": 18,
     "metadata": {},
     "output_type": "execute_result"
    }
   ],
   "source": [
    "kml."
   ]
  },
  {
   "cell_type": "code",
   "execution_count": 20,
   "metadata": {},
   "outputs": [
    {
     "name": "stdout",
     "output_type": "stream",
     "text": [
      "/Users/chowdahead/Downloads/mygeodata\n"
     ]
    }
   ],
   "source": [
    "cd mygeodata"
   ]
  },
  {
   "cell_type": "code",
   "execution_count": 24,
   "metadata": {},
   "outputs": [
    {
     "name": "stdout",
     "output_type": "stream",
     "text": [
      "FAILURE:\r\n",
      "Unable to open datasource `ActiveMD.kmz' with the following drivers.\r\n",
      "  -> `PCIDSK'\r\n",
      "  -> `netCDF'\r\n",
      "  -> `PDS4'\r\n",
      "  -> `VICAR'\r\n",
      "  -> `JP2OpenJPEG'\r\n",
      "  -> `PDF'\r\n",
      "  -> `MBTiles'\r\n",
      "  -> `EEDA'\r\n",
      "  -> `ESRI Shapefile'\r\n",
      "  -> `MapInfo File'\r\n",
      "  -> `UK .NTF'\r\n",
      "  -> `OGR_SDTS'\r\n",
      "  -> `S57'\r\n",
      "  -> `DGN'\r\n",
      "  -> `OGR_VRT'\r\n",
      "  -> `REC'\r\n",
      "  -> `Memory'\r\n",
      "  -> `BNA'\r\n",
      "  -> `CSV'\r\n",
      "  -> `NAS'\r\n",
      "  -> `GML'\r\n",
      "  -> `GPX'\r\n",
      "  -> `LIBKML'\r\n",
      "  -> `KML'\r\n",
      "  -> `GeoJSON'\r\n",
      "  -> `GeoJSONSeq'\r\n",
      "  -> `ESRIJSON'\r\n",
      "  -> `TopoJSON'\r\n",
      "  -> `Interlis 1'\r\n",
      "  -> `Interlis 2'\r\n",
      "  -> `OGR_GMT'\r\n",
      "  -> `GPKG'\r\n",
      "  -> `SQLite'\r\n",
      "  -> `OGR_DODS'\r\n",
      "  -> `WAsP'\r\n",
      "  -> `PostgreSQL'\r\n",
      "  -> `OpenFileGDB'\r\n",
      "  -> `XPlane'\r\n",
      "  -> `DXF'\r\n",
      "  -> `CAD'\r\n",
      "  -> `FlatGeobuf'\r\n",
      "  -> `Geoconcept'\r\n",
      "  -> `GeoRSS'\r\n",
      "  -> `GPSTrackMaker'\r\n",
      "  -> `VFK'\r\n",
      "  -> `PGDUMP'\r\n",
      "  -> `OSM'\r\n",
      "  -> `GPSBabel'\r\n",
      "  -> `SUA'\r\n",
      "  -> `OpenAir'\r\n",
      "  -> `OGR_PDS'\r\n",
      "  -> `WFS'\r\n",
      "  -> `OAPIF'\r\n",
      "  -> `HTF'\r\n",
      "  -> `AeronavFAA'\r\n",
      "  -> `EDIGEO'\r\n",
      "  -> `SVG'\r\n",
      "  -> `CouchDB'\r\n",
      "  -> `Cloudant'\r\n",
      "  -> `Idrisi'\r\n",
      "  -> `ARCGEN'\r\n",
      "  -> `SEGUKOOA'\r\n",
      "  -> `SEGY'\r\n",
      "  -> `XLS'\r\n",
      "  -> `ODS'\r\n",
      "  -> `XLSX'\r\n",
      "  -> `Elasticsearch'\r\n",
      "  -> `Carto'\r\n",
      "  -> `AmigoCloud'\r\n",
      "  -> `SXF'\r\n",
      "  -> `Selafin'\r\n",
      "  -> `JML'\r\n",
      "  -> `PLSCENES'\r\n",
      "  -> `CSW'\r\n",
      "  -> `VDV'\r\n",
      "  -> `GMLAS'\r\n",
      "  -> `MVT'\r\n",
      "  -> `NGW'\r\n",
      "  -> `MapML'\r\n",
      "  -> `TIGER'\r\n",
      "  -> `AVCBin'\r\n",
      "  -> `AVCE00'\r\n",
      "  -> `HTTP'\r\n"
     ]
    }
   ],
   "source": [
    "!ogr2ogr -f 'ESRI Shapefile' Output_sahpefile.shp ActiveMD.kmz"
   ]
  },
  {
   "cell_type": "code",
   "execution_count": 21,
   "metadata": {},
   "outputs": [
    {
     "name": "stdout",
     "output_type": "stream",
     "text": [
      "FAILURE:\r\n",
      "Unable to open datasource `input.shp' with the following drivers.\r\n",
      "  -> `PCIDSK'\r\n",
      "  -> `netCDF'\r\n",
      "  -> `PDS4'\r\n",
      "  -> `VICAR'\r\n",
      "  -> `JP2OpenJPEG'\r\n",
      "  -> `PDF'\r\n",
      "  -> `MBTiles'\r\n",
      "  -> `EEDA'\r\n",
      "  -> `ESRI Shapefile'\r\n",
      "  -> `MapInfo File'\r\n",
      "  -> `UK .NTF'\r\n",
      "  -> `OGR_SDTS'\r\n",
      "  -> `S57'\r\n",
      "  -> `DGN'\r\n",
      "  -> `OGR_VRT'\r\n",
      "  -> `REC'\r\n",
      "  -> `Memory'\r\n",
      "  -> `BNA'\r\n",
      "  -> `CSV'\r\n",
      "  -> `NAS'\r\n",
      "  -> `GML'\r\n",
      "  -> `GPX'\r\n",
      "  -> `LIBKML'\r\n",
      "  -> `KML'\r\n",
      "  -> `GeoJSON'\r\n",
      "  -> `GeoJSONSeq'\r\n",
      "  -> `ESRIJSON'\r\n",
      "  -> `TopoJSON'\r\n",
      "  -> `Interlis 1'\r\n",
      "  -> `Interlis 2'\r\n",
      "  -> `OGR_GMT'\r\n",
      "  -> `GPKG'\r\n",
      "  -> `SQLite'\r\n",
      "  -> `OGR_DODS'\r\n",
      "  -> `WAsP'\r\n",
      "  -> `PostgreSQL'\r\n",
      "  -> `OpenFileGDB'\r\n",
      "  -> `XPlane'\r\n",
      "  -> `DXF'\r\n",
      "  -> `CAD'\r\n",
      "  -> `FlatGeobuf'\r\n",
      "  -> `Geoconcept'\r\n",
      "  -> `GeoRSS'\r\n",
      "  -> `GPSTrackMaker'\r\n",
      "  -> `VFK'\r\n",
      "  -> `PGDUMP'\r\n",
      "  -> `OSM'\r\n",
      "  -> `GPSBabel'\r\n",
      "  -> `SUA'\r\n",
      "  -> `OpenAir'\r\n",
      "  -> `OGR_PDS'\r\n",
      "  -> `WFS'\r\n",
      "  -> `OAPIF'\r\n",
      "  -> `HTF'\r\n",
      "  -> `AeronavFAA'\r\n",
      "  -> `EDIGEO'\r\n",
      "  -> `SVG'\r\n",
      "  -> `CouchDB'\r\n",
      "  -> `Cloudant'\r\n",
      "  -> `Idrisi'\r\n",
      "  -> `ARCGEN'\r\n",
      "  -> `SEGUKOOA'\r\n",
      "  -> `SEGY'\r\n",
      "  -> `XLS'\r\n",
      "  -> `ODS'\r\n",
      "  -> `XLSX'\r\n",
      "  -> `Elasticsearch'\r\n",
      "  -> `Carto'\r\n",
      "  -> `AmigoCloud'\r\n",
      "  -> `SXF'\r\n",
      "  -> `Selafin'\r\n",
      "  -> `JML'\r\n",
      "  -> `PLSCENES'\r\n",
      "  -> `CSW'\r\n",
      "  -> `VDV'\r\n",
      "  -> `GMLAS'\r\n",
      "  -> `MVT'\r\n",
      "  -> `NGW'\r\n",
      "  -> `MapML'\r\n",
      "  -> `TIGER'\r\n",
      "  -> `AVCBin'\r\n",
      "  -> `AVCE00'\r\n",
      "  -> `HTTP'\r\n"
     ]
    }
   ],
   "source": [
    "!ogr2ogr -f KML ActiveMD.kml input.shp"
   ]
  },
  {
   "cell_type": "code",
   "execution_count": null,
   "metadata": {},
   "outputs": [],
   "source": []
  }
 ],
 "metadata": {
  "kernelspec": {
   "display_name": "Python 3",
   "language": "python",
   "name": "python3"
  },
  "language_info": {
   "codemirror_mode": {
    "name": "ipython",
    "version": 3
   },
   "file_extension": ".py",
   "mimetype": "text/x-python",
   "name": "python",
   "nbconvert_exporter": "python",
   "pygments_lexer": "ipython3",
   "version": "3.7.6"
  }
 },
 "nbformat": 4,
 "nbformat_minor": 4
}
