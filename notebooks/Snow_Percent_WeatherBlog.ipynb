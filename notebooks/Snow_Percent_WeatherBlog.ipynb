{
 "cells": [
  {
   "cell_type": "markdown",
   "metadata": {},
   "source": [
    "# Percent Snow Chance"
   ]
  },
  {
   "cell_type": "markdown",
   "metadata": {},
   "source": [
    "## Justin Richling\n",
    "## 01/19/19"
   ]
  },
  {
   "cell_type": "markdown",
   "metadata": {},
   "source": [
    "\n",
    "# Saved Images from Snow Probablility Website\n",
    "\n",
    "\n",
    "Search through different forecast hours and inch totals and retreive the current images\n",
    "\n",
    "There are several handy maps that we can grab here:\n",
    "* inch totals: 1,2,4,6,8,12, and/or 18\n",
    "* forecast hours: 24\n"
   ]
  },
  {
   "cell_type": "markdown",
   "metadata": {},
   "source": [
    "Imports\n",
    "\n"
   ]
  },
  {
   "cell_type": "code",
   "execution_count": 1,
   "metadata": {},
   "outputs": [],
   "source": [
    "# Random Library Imports\n",
    "import os,glob,webbrowser\n",
    "\n",
    "# Importing Datetime Libraries\n",
    "from datetime import datetime, timedelta\n",
    "\n",
    "# More Image Manipulation Options\n",
    "from PIL import Image as PILImage\n",
    "\n",
    "# Matplotlib Plotting Libraries\n",
    "import matplotlib.pyplot as plt\n",
    "\n",
    "# Widgets\n",
    "import ipywidgets as widgets\n",
    "\n",
    "from urllib.request import urlopen\n",
    "from io import StringIO"
   ]
  },
  {
   "cell_type": "markdown",
   "metadata": {},
   "source": [
    "## Figuring out where you want the files..."
   ]
  },
  {
   "cell_type": "code",
   "execution_count": 2,
   "metadata": {},
   "outputs": [
    {
     "name": "stdout",
     "output_type": "stream",
     "text": [
      "27 2021 2\n",
      "/Users/chowdahead/Desktop/Weather_Blog/2021/02_27/\n"
     ]
    }
   ],
   "source": [
    "now = datetime.utcnow()\n",
    "#now = datetime(2019,4,10,0,0)\n",
    "today_day = int('{0:%d}'.format(now))\n",
    "today_year = int('{0:%Y}'.format(now))\n",
    "today_month = int('{0:%m}'.format(now))\n",
    "print(today_day,today_year,today_month)\n",
    "\n",
    "\n",
    "# Set a path to save the plots with string format for the date to set the month and day\n",
    "im_save_path =\"/path/to/saved/images/\"\n",
    "im_save_path =f\"/Users/chowdahead/Desktop/Weather_Blog/{today_year}/{today_month:02d}_{today_day:02d}/\"\n",
    "print(im_save_path)\n",
    "\n",
    "# Check to see if the folder already exists, if not create it\n",
    "if not os.path.isdir(im_save_path):\n",
    "    os.makedirs(im_save_path)\n",
    "\n",
    "# Uncomment if you want to automatically change to the map folder    \n",
    "#os.chdir(im_save_path)"
   ]
  },
  {
   "cell_type": "markdown",
   "metadata": {},
   "source": [
    "### Generic Image Capture from Website\n",
    "#### Arguments: \n",
    "* loc - Location where you want the saved image to be placed\n"
   ]
  },
  {
   "cell_type": "code",
   "execution_count": 8,
   "metadata": {},
   "outputs": [],
   "source": [
    "def CurrentMap(loc):\n",
    "    \n",
    "    inch = x.kwargs['inch']\n",
    "    inch = inch.value\n",
    "    print(inch)\n",
    "    hour = x.kwargs['step']\n",
    "    hour = str(hour.value)\n",
    "    #try:   \n",
    "    if inch < 10:\n",
    "        inch = \"0\"+str(inch )\n",
    "    else:\n",
    "        inch = str(inch)\n",
    "    print(inch)\n",
    "    page = \"http://origin.wpc.ncep.noaa.gov/pwpf_24hr/prb_24hsnow_ge\"+inch+\"_\"+\\\n",
    "                     '{0:%Y%m%d}'.format(now)+\"00f0\"+hour+\".gif\"\n",
    "    print(page)\n",
    "    #webbrowser.open(picture_page) \n",
    "\n",
    "# open the web page picture and read it into a variable\n",
    "    #opener = urllib.build_opener()\n",
    "        # .open() will fetch the URL\n",
    "    #webpage = opener.open(page)\n",
    "    #urlopen(page)\n",
    "        # page.read() \n",
    "    #my_picture = webpage.read()\n",
    "    \n",
    "    # Your code where you can use urlopen\n",
    "    with urlopen(page) as url:\n",
    "        my_picture = url.read()\n",
    "\n",
    "# open file for binary write and save picture\n",
    "# picture_page[-4:] extracts extension eg. .gif\n",
    "# (most image file extensions have three letters, otherwise modify)\n",
    "    #Filename = str(Year)+\"_\"+str(Month)+\\\n",
    "    #\"_\"+str(Day)+\"_\"+str(Hour)+\"_\"+str(Minute)+\"_\"+FileEnd \n",
    "    FileEnd=\"_ChceSnow_\"+inch+\"in_hr\"+hour+\".png\"\n",
    "    Filename = '{0:%Y_%m_%d}'.format(now)+FileEnd\n",
    "    \n",
    "    # fout will create and write to a new image file\n",
    "    fout = open(loc+\"/\"+Filename, \"wb\")\n",
    "    fout.write(my_picture)\n",
    "    fout.close()\n",
    "# test to see if it saved correctly\n",
    "    #webbrowser.open(Filename)  \n",
    "    \n",
    "    #except urllib2.HTTPError, err:\n",
    "    #    if err.code == 404:\n",
    "    #        logging.exception(\"No Data from website\")\n",
    "    #        pass\n",
    "    #    else:\n",
    "    #        raise\n",
    "\n",
    "    \n",
    "    #file = StringIO(urllib.urlopen(page).read())\n",
    "    \n",
    "    import urllib.request\n",
    "\n",
    "    urllib.request.urlretrieve(page, \"local-filename.jpg\")\n",
    "    img = PILImage.open(\"local-filename.jpg\")\n",
    "    fig, ax = plt.subplots(figsize=(15, 8))\n",
    "    #ax.set_title(AxisTitle+\" \"'{0:%Y %m %d %H}'.format(now))\n",
    "    ax.imshow(img, interpolation='nearest')\n",
    "    #plt.show()\n",
    "    plt.close()\n",
    "    #print Filename\n",
    "    #return Filename"
   ]
  },
  {
   "cell_type": "markdown",
   "metadata": {},
   "source": [
    "# Pull Images from Website\n",
    "---------------------------------------------\n",
    "### Credit to NOAA\n"
   ]
  },
  {
   "cell_type": "code",
   "execution_count": 9,
   "metadata": {},
   "outputs": [],
   "source": [
    "inch_widget = widgets.Dropdown(description='inch', options=[1,2,4,6,8,12,18])\n",
    "\n",
    "hour_widget = widgets.Dropdown(description='Step', options=[24,30,36,42,48,54,60,66,72])\n"
   ]
  },
  {
   "cell_type": "code",
   "execution_count": 10,
   "metadata": {},
   "outputs": [
    {
     "data": {
      "application/vnd.jupyter.widget-view+json": {
       "model_id": "da6a2cc94c804367a386af8cbcbc908a",
       "version_major": 2,
       "version_minor": 0
      },
      "text/plain": [
       "Dropdown(description='inch', options=(1, 2, 4, 6, 8, 12, 18), value=1)"
      ]
     },
     "metadata": {},
     "output_type": "display_data"
    }
   ],
   "source": [
    "x = widgets.interact_manual(inch=inch_widget,step=hour_widget)\n",
    "x.kwargs[\"inch\"]\n"
   ]
  },
  {
   "cell_type": "code",
   "execution_count": 11,
   "metadata": {},
   "outputs": [
    {
     "data": {
      "application/vnd.jupyter.widget-view+json": {
       "model_id": "2e050c4af5f74f8a8b09d63f971908b8",
       "version_major": 2,
       "version_minor": 0
      },
      "text/plain": [
       "Dropdown(description='Step', options=(24, 30, 36, 42, 48, 54, 60, 66, 72), value=24)"
      ]
     },
     "metadata": {},
     "output_type": "display_data"
    }
   ],
   "source": [
    "x.kwargs[\"step\"]"
   ]
  },
  {
   "cell_type": "code",
   "execution_count": 12,
   "metadata": {},
   "outputs": [
    {
     "name": "stdout",
     "output_type": "stream",
     "text": [
      "2\n",
      "02\n",
      "http://origin.wpc.ncep.noaa.gov/pwpf_24hr/prb_24hsnow_ge02_2021022700f024.gif\n"
     ]
    },
    {
     "data": {
      "text/plain": [
       "<ipywidgets.widgets.interaction._InteractFactory at 0x10d0c91d0>"
      ]
     },
     "execution_count": 12,
     "metadata": {},
     "output_type": "execute_result"
    }
   ],
   "source": [
    "widgets.interact_manual(CurrentMap(im_save_path))"
   ]
  },
  {
   "cell_type": "code",
   "execution_count": null,
   "metadata": {},
   "outputs": [],
   "source": []
  },
  {
   "cell_type": "code",
   "execution_count": null,
   "metadata": {},
   "outputs": [],
   "source": []
  }
 ],
 "metadata": {
  "kernelspec": {
   "display_name": "Python 3",
   "language": "python",
   "name": "python3"
  },
  "language_info": {
   "codemirror_mode": {
    "name": "ipython",
    "version": 3
   },
   "file_extension": ".py",
   "mimetype": "text/x-python",
   "name": "python",
   "nbconvert_exporter": "python",
   "pygments_lexer": "ipython3",
   "version": "3.7.3"
  }
 },
 "nbformat": 4,
 "nbformat_minor": 1
}
