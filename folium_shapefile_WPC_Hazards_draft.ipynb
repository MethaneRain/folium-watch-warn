{
 "cells": [
  {
   "cell_type": "markdown",
   "metadata": {},
   "source": [
    "https://github.com/geohackweek/tutorial_contents/blob/master/visualization/notebooks/foliumTutorial.ipynb"
   ]
  },
  {
   "cell_type": "markdown",
   "metadata": {},
   "source": [
    "### Different icons\n",
    "* https://getbootstrap.com/docs/3.3/components/"
   ]
  },
  {
   "cell_type": "code",
   "execution_count": 1,
   "metadata": {},
   "outputs": [],
   "source": [
    "import geopandas as gpd\n",
    "import requests\n",
    "import zipfile\n",
    "import io, os\n",
    "import matplotlib.pyplot as plt\n",
    "import folium\n",
    "import pandas as pd\n",
    "import json"
   ]
  },
  {
   "cell_type": "code",
   "execution_count": 99,
   "metadata": {},
   "outputs": [],
   "source": [
    "os.chdir(\"data/2021_08_11/current_hazards/\")"
   ]
  },
  {
   "cell_type": "markdown",
   "metadata": {},
   "source": [
    "##### Make geojson file from the shapefile with OGR"
   ]
  },
  {
   "cell_type": "markdown",
   "metadata": {},
   "source": [
    "#### GeoJSON File"
   ]
  },
  {
   "cell_type": "code",
   "execution_count": null,
   "metadata": {},
   "outputs": [],
   "source": [
    "# Uncomment for creation of geojson file\n",
    "#! ogr2ogr -f GeoJSON -t_srs EPSG:4326 current_hazards.geojson current_hazards.shp\n",
    "\n",
    "print(\"\\n\\ngrab the geojson file data\\n--------------------------\")\n",
    "jsonfile='current_hazards.geojson'\n",
    "\n",
    "with open(jsonfil`be) as f:\n",
    "    hazjson = json.load(f)\n",
    "\n",
    "print(\"warning data keys:\",hazjson.keys())\n",
    "print(\"\\n\\nwarning data features-properties:\",hazjson['features'][0][\"properties\"])\n"
   ]
  },
  {
   "cell_type": "code",
   "execution_count": null,
   "metadata": {},
   "outputs": [],
   "source": [
    "hazjson['features'][0][\"properties\"]\n",
    "\n",
    "hazjson['features'][0][\"geometry\"][\"coordinates\"][0]\n",
    "\n",
    "[key for key in hazjson[\"features\"][0][\"properties\"]]\n",
    "\n",
    "for i in range(len(hazjson[\"features\"][:10])):\n",
    "    print(hazjson[\"features\"][i][\"properties\"],\"\\n\")"
   ]
  },
  {
   "cell_type": "markdown",
   "metadata": {},
   "source": [
    "### Shapefile"
   ]
  },
  {
   "cell_type": "code",
   "execution_count": 101,
   "metadata": {
    "scrolled": false
   },
   "outputs": [
    {
     "name": "stdout",
     "output_type": "stream",
     "text": [
      "\n",
      "grab the shapefile data\n",
      "--------------------------\n",
      "Shape of the dataframe: (728, 14)\n",
      "Projection of dataframe: {'init': 'epsg:4326'}\n",
      "                                              CAP_ID  \\\n",
      "0  urn:oid:2.49.0.1.840.0.b0b6a84e4e07238e17dbe04...   \n",
      "1  urn:oid:2.49.0.1.840.0.b0b6a84e4e07238e17dbe04...   \n",
      "2  urn:oid:2.49.0.1.840.0.67015f6870353e5398ff0fc...   \n",
      "3  urn:oid:2.49.0.1.840.0.5b198165887571ed601b251...   \n",
      "4  urn:oid:2.49.0.1.840.0.5b198165887571ed601b251...   \n",
      "\n",
      "                                               VTEC PHENOM SIG   WFO EVENT  \\\n",
      "0  /O.CON.KMKX.SC.Y.0062.210801T1200Z-210802T0300Z/     SC   Y  KMKX  0062   \n",
      "1  /O.CON.KMKX.SC.Y.0062.210801T1200Z-210802T0300Z/     SC   Y  KMKX  0062   \n",
      "2  /O.EXP.KLUB.SV.W.0255.000000T0000Z-210801T0845Z/     SV   W  KLUB  0255   \n",
      "3  /O.CON.KMKX.BH.S.0008.210801T1200Z-210802T0300Z/     BH   S  KMKX  0008   \n",
      "4  /O.CON.KMKX.BH.S.0008.210801T1200Z-210802T0300Z/     BH   S  KMKX  0008   \n",
      "\n",
      "                    ISSUANCE                 EXPIRATION  \\\n",
      "0  2021-08-01T03:35:00-05:00  2021-08-01T11:45:00-05:00   \n",
      "1  2021-08-01T03:35:00-05:00  2021-08-01T11:45:00-05:00   \n",
      "2  2021-08-01T03:35:00-05:00  2021-08-01T03:45:00-05:00   \n",
      "3  2021-08-01T03:32:00-05:00  2021-08-01T11:45:00-05:00   \n",
      "4  2021-08-01T03:32:00-05:00  2021-08-01T11:45:00-05:00   \n",
      "\n",
      "                       ONSET                       ENDS  \\\n",
      "0  2021-08-01T07:00:00-05:00  2021-08-01T22:00:00-05:00   \n",
      "1  2021-08-01T07:00:00-05:00  2021-08-01T22:00:00-05:00   \n",
      "2  2021-08-01T03:35:00-05:00  2021-08-01T03:45:00-05:00   \n",
      "3  2021-08-01T07:00:00-05:00  2021-08-01T22:00:00-05:00   \n",
      "4  2021-08-01T07:00:00-05:00  2021-08-01T22:00:00-05:00   \n",
      "\n",
      "                                                 URL MSG_TYPE  \\\n",
      "0  https://alerts-v2.weather.gov/#/?id=urn:oid:2....      MWW   \n",
      "1  https://alerts-v2.weather.gov/#/?id=urn:oid:2....      MWW   \n",
      "2  https://alerts-v2.weather.gov/#/?id=urn:oid:2....      SVS   \n",
      "3  https://alerts-v2.weather.gov/#/?id=urn:oid:2....      CFW   \n",
      "4  https://alerts-v2.weather.gov/#/?id=urn:oid:2....      CFW   \n",
      "\n",
      "                     PROD_TYPE  \\\n",
      "0         Small Craft Advisory   \n",
      "1         Small Craft Advisory   \n",
      "2  Severe Thunderstorm Warning   \n",
      "3      Beach Hazards Statement   \n",
      "4      Beach Hazards Statement   \n",
      "\n",
      "                                            geometry  \n",
      "0  POLYGON ((-87.78374 43.05238, -87.78735 43.038...  \n",
      "1  POLYGON ((-87.69526 42.67287, -87.69982 42.663...  \n",
      "2  POLYGON ((-101.85000 33.00000, -101.79000 33.0...  \n",
      "3  POLYGON ((-87.97910 43.19271, -87.95489 43.192...  \n",
      "4  POLYGON ((-87.82722 42.84389, -87.82649 42.842...  \n"
     ]
    }
   ],
   "source": [
    "\n",
    "print(\"\\ngrab the shapefile data\\n--------------------------\")\n",
    "hazshp_file =  \"current_hazards.shp\"\n",
    "hazshp = gpd.read_file(hazshp_file)\n",
    "print(\"Shape of the dataframe: {}\".format(hazshp.shape))\n",
    "print(\"Projection of dataframe: {}\".format(hazshp.crs))\n",
    "print(hazshp.head())\n",
    "\n",
    "#print(\"\\nwarning data features:\",warnjson['features'][0])\n",
    "#print(\"\\nwarning data features:\",warnjson['features'][0][\"properties\"][\"geometries\"])\n"
   ]
  },
  {
   "cell_type": "markdown",
   "metadata": {},
   "source": [
    "---"
   ]
  },
  {
   "cell_type": "markdown",
   "metadata": {},
   "source": [
    "### Explore the shapefile a bit"
   ]
  },
  {
   "cell_type": "code",
   "execution_count": 10,
   "metadata": {},
   "outputs": [
    {
     "data": {
      "text/plain": [
       "Index(['CAP_ID', 'VTEC', 'PHENOM', 'SIG', 'WFO', 'EVENT', 'ISSUANCE',\n",
       "       'EXPIRATION', 'ONSET', 'ENDS', 'URL', 'MSG_TYPE', 'PROD_TYPE',\n",
       "       'geometry'],\n",
       "      dtype='object')"
      ]
     },
     "execution_count": 10,
     "metadata": {},
     "output_type": "execute_result"
    }
   ],
   "source": [
    "hazshp.columns"
   ]
  },
  {
   "cell_type": "code",
   "execution_count": 79,
   "metadata": {},
   "outputs": [
    {
     "data": {
      "text/plain": [
       "['Beach Hazards Statement',\n",
       " 'Dense Fog Advisory',\n",
       " 'Excessive Heat Warning',\n",
       " 'Fire Weather Watch',\n",
       " 'Flash Flood Warning',\n",
       " 'Flash Flood Watch',\n",
       " 'Flood Advisory',\n",
       " 'Flood Warning',\n",
       " 'Flood Watch',\n",
       " 'Gale Warning',\n",
       " 'Heat Advisory',\n",
       " 'Red Flag Warning',\n",
       " 'Rip Current Statement',\n",
       " 'Severe Thunderstorm Warning',\n",
       " 'Small Craft Advisory',\n",
       " 'Wind Advisory']"
      ]
     },
     "execution_count": 79,
     "metadata": {},
     "output_type": "execute_result"
    }
   ],
   "source": [
    "hazshp2 = hazshp.loc[:, ['geometry', 'PROD_TYPE']]\n",
    "hazshp_group = hazshp2.groupby('PROD_TYPE')\n",
    "\"hazard data properties\",hazjson['features'][0][\"properties\"]\n",
    "list(hazshp_group.groups.keys())"
   ]
  },
  {
   "cell_type": "code",
   "execution_count": 21,
   "metadata": {},
   "outputs": [
    {
     "name": "stdout",
     "output_type": "stream",
     "text": [
      "728 stations with some hazard types:\n",
      "{'Flood Warning', 'Beach Hazards Statement', 'Dense Fog Advisory', 'Flash Flood Warning', 'Severe Thunderstorm Warning', 'Flood Advisory', 'Heat Advisory', 'Fire Weather Watch', 'Red Flag Warning', 'Wind Advisory', 'Rip Current Statement', 'Small Craft Advisory', 'Excessive Heat Warning', 'Gale Warning', 'Flash Flood Watch', 'Flood Watch'}\n"
     ]
    }
   ],
   "source": [
    "hazard = hazshp[hazshp.PROD_TYPE.isin(hazshp.PROD_TYPE.unique())]\n",
    "print(\"%d stations with some hazard types:\" % (len(hazard)))\n",
    "print(f\"{set(hazshp.PROD_TYPE)}\")"
   ]
  },
  {
   "cell_type": "code",
   "execution_count": 25,
   "metadata": {
    "scrolled": false
   },
   "outputs": [
    {
     "data": {
      "text/html": [
       "<div>\n",
       "<style scoped>\n",
       "    .dataframe tbody tr th:only-of-type {\n",
       "        vertical-align: middle;\n",
       "    }\n",
       "\n",
       "    .dataframe tbody tr th {\n",
       "        vertical-align: top;\n",
       "    }\n",
       "\n",
       "    .dataframe thead th {\n",
       "        text-align: right;\n",
       "    }\n",
       "</style>\n",
       "<table border=\"1\" class=\"dataframe\">\n",
       "  <thead>\n",
       "    <tr style=\"text-align: right;\">\n",
       "      <th></th>\n",
       "      <th>CAP_ID</th>\n",
       "      <th>VTEC</th>\n",
       "      <th>PHENOM</th>\n",
       "      <th>SIG</th>\n",
       "      <th>WFO</th>\n",
       "      <th>EVENT</th>\n",
       "      <th>ISSUANCE</th>\n",
       "      <th>EXPIRATION</th>\n",
       "      <th>ONSET</th>\n",
       "      <th>ENDS</th>\n",
       "      <th>URL</th>\n",
       "      <th>MSG_TYPE</th>\n",
       "      <th>PROD_TYPE</th>\n",
       "      <th>geometry</th>\n",
       "    </tr>\n",
       "  </thead>\n",
       "  <tbody>\n",
       "    <tr>\n",
       "      <th>23</th>\n",
       "      <td>urn:oid:2.49.0.1.840.0.14138bf115f3a4997910c4d...</td>\n",
       "      <td>/O.NEW.KJKL.FL.Y.0050.210801T0830Z-000000T0000Z/</td>\n",
       "      <td>FL</td>\n",
       "      <td>Y</td>\n",
       "      <td>KJKL</td>\n",
       "      <td>0050</td>\n",
       "      <td>2021-08-01T04:30:00-04:00</td>\n",
       "      <td>2021-08-01T16:30:00-04:00</td>\n",
       "      <td>2021-08-01T04:30:00-04:00</td>\n",
       "      <td>None</td>\n",
       "      <td>https://alerts-v2.weather.gov/#/?id=urn:oid:2....</td>\n",
       "      <td>FLS</td>\n",
       "      <td>Flood Advisory</td>\n",
       "      <td>POLYGON ((-84.05000 37.88000, -83.67000 37.880...</td>\n",
       "    </tr>\n",
       "    <tr>\n",
       "      <th>24</th>\n",
       "      <td>urn:oid:2.49.0.1.840.0.d0772a22250390e4442454f...</td>\n",
       "      <td>/O.NEW.KPAH.FA.Y.0080.210801T0827Z-210801T1000Z/</td>\n",
       "      <td>FA</td>\n",
       "      <td>Y</td>\n",
       "      <td>KPAH</td>\n",
       "      <td>0080</td>\n",
       "      <td>2021-08-01T03:27:00-05:00</td>\n",
       "      <td>2021-08-01T05:00:00-05:00</td>\n",
       "      <td>2021-08-01T03:27:00-05:00</td>\n",
       "      <td>2021-08-01T05:00:00-05:00</td>\n",
       "      <td>https://alerts-v2.weather.gov/#/?id=urn:oid:2....</td>\n",
       "      <td>FLS</td>\n",
       "      <td>Flood Advisory</td>\n",
       "      <td>POLYGON ((-91.12000 36.69000, -90.59000 36.680...</td>\n",
       "    </tr>\n",
       "    <tr>\n",
       "      <th>52</th>\n",
       "      <td>urn:oid:2.49.0.1.840.0.24df32d3506b8f4f366ff7f...</td>\n",
       "      <td>/O.CON.KLUB.FA.Y.0136.000000T0000Z-210801T0930Z/</td>\n",
       "      <td>FA</td>\n",
       "      <td>Y</td>\n",
       "      <td>KLUB</td>\n",
       "      <td>0136</td>\n",
       "      <td>2021-08-01T03:02:00-05:00</td>\n",
       "      <td>2021-08-01T04:30:00-05:00</td>\n",
       "      <td>2021-08-01T03:02:00-05:00</td>\n",
       "      <td>2021-08-01T04:30:00-05:00</td>\n",
       "      <td>https://alerts-v2.weather.gov/#/?id=urn:oid:2....</td>\n",
       "      <td>FLS</td>\n",
       "      <td>Flood Advisory</td>\n",
       "      <td>POLYGON ((-101.56000 33.79000, -101.41000 33.7...</td>\n",
       "    </tr>\n",
       "    <tr>\n",
       "      <th>64</th>\n",
       "      <td>urn:oid:2.49.0.1.840.0.cfa37cca9b7758ebf317172...</td>\n",
       "      <td>/O.CON.KLUB.FA.Y.0135.000000T0000Z-210801T0930Z/</td>\n",
       "      <td>FA</td>\n",
       "      <td>Y</td>\n",
       "      <td>KLUB</td>\n",
       "      <td>0135</td>\n",
       "      <td>2021-08-01T02:59:00-05:00</td>\n",
       "      <td>2021-08-01T04:30:00-05:00</td>\n",
       "      <td>2021-08-01T02:59:00-05:00</td>\n",
       "      <td>2021-08-01T04:30:00-05:00</td>\n",
       "      <td>https://alerts-v2.weather.gov/#/?id=urn:oid:2....</td>\n",
       "      <td>FLS</td>\n",
       "      <td>Flood Advisory</td>\n",
       "      <td>POLYGON ((-101.30000 34.37000, -101.14000 34.4...</td>\n",
       "    </tr>\n",
       "    <tr>\n",
       "      <th>72</th>\n",
       "      <td>urn:oid:2.49.0.1.840.0.f459e20d9f94eae7bb5b3df...</td>\n",
       "      <td>/O.CON.KBOI.FA.Y.0003.000000T0000Z-210801T0900Z/</td>\n",
       "      <td>FA</td>\n",
       "      <td>Y</td>\n",
       "      <td>KBOI</td>\n",
       "      <td>0003</td>\n",
       "      <td>2021-08-01T01:51:00-06:00</td>\n",
       "      <td>2021-08-01T03:00:00-06:00</td>\n",
       "      <td>2021-08-01T01:51:00-06:00</td>\n",
       "      <td>2021-08-01T03:00:00-06:00</td>\n",
       "      <td>https://alerts-v2.weather.gov/#/?id=urn:oid:2....</td>\n",
       "      <td>FLS</td>\n",
       "      <td>Flood Advisory</td>\n",
       "      <td>POLYGON ((-117.21000 44.43000, -116.81000 44.4...</td>\n",
       "    </tr>\n",
       "  </tbody>\n",
       "</table>\n",
       "</div>"
      ],
      "text/plain": [
       "                                               CAP_ID  \\\n",
       "23  urn:oid:2.49.0.1.840.0.14138bf115f3a4997910c4d...   \n",
       "24  urn:oid:2.49.0.1.840.0.d0772a22250390e4442454f...   \n",
       "52  urn:oid:2.49.0.1.840.0.24df32d3506b8f4f366ff7f...   \n",
       "64  urn:oid:2.49.0.1.840.0.cfa37cca9b7758ebf317172...   \n",
       "72  urn:oid:2.49.0.1.840.0.f459e20d9f94eae7bb5b3df...   \n",
       "\n",
       "                                                VTEC PHENOM SIG   WFO EVENT  \\\n",
       "23  /O.NEW.KJKL.FL.Y.0050.210801T0830Z-000000T0000Z/     FL   Y  KJKL  0050   \n",
       "24  /O.NEW.KPAH.FA.Y.0080.210801T0827Z-210801T1000Z/     FA   Y  KPAH  0080   \n",
       "52  /O.CON.KLUB.FA.Y.0136.000000T0000Z-210801T0930Z/     FA   Y  KLUB  0136   \n",
       "64  /O.CON.KLUB.FA.Y.0135.000000T0000Z-210801T0930Z/     FA   Y  KLUB  0135   \n",
       "72  /O.CON.KBOI.FA.Y.0003.000000T0000Z-210801T0900Z/     FA   Y  KBOI  0003   \n",
       "\n",
       "                     ISSUANCE                 EXPIRATION  \\\n",
       "23  2021-08-01T04:30:00-04:00  2021-08-01T16:30:00-04:00   \n",
       "24  2021-08-01T03:27:00-05:00  2021-08-01T05:00:00-05:00   \n",
       "52  2021-08-01T03:02:00-05:00  2021-08-01T04:30:00-05:00   \n",
       "64  2021-08-01T02:59:00-05:00  2021-08-01T04:30:00-05:00   \n",
       "72  2021-08-01T01:51:00-06:00  2021-08-01T03:00:00-06:00   \n",
       "\n",
       "                        ONSET                       ENDS  \\\n",
       "23  2021-08-01T04:30:00-04:00                       None   \n",
       "24  2021-08-01T03:27:00-05:00  2021-08-01T05:00:00-05:00   \n",
       "52  2021-08-01T03:02:00-05:00  2021-08-01T04:30:00-05:00   \n",
       "64  2021-08-01T02:59:00-05:00  2021-08-01T04:30:00-05:00   \n",
       "72  2021-08-01T01:51:00-06:00  2021-08-01T03:00:00-06:00   \n",
       "\n",
       "                                                  URL MSG_TYPE  \\\n",
       "23  https://alerts-v2.weather.gov/#/?id=urn:oid:2....      FLS   \n",
       "24  https://alerts-v2.weather.gov/#/?id=urn:oid:2....      FLS   \n",
       "52  https://alerts-v2.weather.gov/#/?id=urn:oid:2....      FLS   \n",
       "64  https://alerts-v2.weather.gov/#/?id=urn:oid:2....      FLS   \n",
       "72  https://alerts-v2.weather.gov/#/?id=urn:oid:2....      FLS   \n",
       "\n",
       "         PROD_TYPE                                           geometry  \n",
       "23  Flood Advisory  POLYGON ((-84.05000 37.88000, -83.67000 37.880...  \n",
       "24  Flood Advisory  POLYGON ((-91.12000 36.69000, -90.59000 36.680...  \n",
       "52  Flood Advisory  POLYGON ((-101.56000 33.79000, -101.41000 33.7...  \n",
       "64  Flood Advisory  POLYGON ((-101.30000 34.37000, -101.14000 34.4...  \n",
       "72  Flood Advisory  POLYGON ((-117.21000 44.43000, -116.81000 44.4...  "
      ]
     },
     "execution_count": 25,
     "metadata": {},
     "output_type": "execute_result"
    }
   ],
   "source": [
    "# Find only single type of hazard\n",
    "# Returns a subset of geopandas object\n",
    "\n",
    "floodadv = hazshp[hazshp.PROD_TYPE.isin([\"Flood Advisory\"])]\n",
    "floodadv.head()"
   ]
  },
  {
   "cell_type": "code",
   "execution_count": 59,
   "metadata": {
    "scrolled": true
   },
   "outputs": [],
   "source": [
    "# Uncomment below to see full list of hazards with full descriptions\n",
    "# ** Long list **\n",
    "\n",
    "#for index, row in hazard.iterrows():\n",
    "#    print(row)"
   ]
  },
  {
   "cell_type": "markdown",
   "metadata": {},
   "source": [
    "---\n",
    "\n",
    "//\n",
    "\n",
    "---"
   ]
  },
  {
   "cell_type": "markdown",
   "metadata": {},
   "source": [
    "### Color table based off hazard name\n",
    "\n",
    "* must be updated alongside any change in noemclature from NWS"
   ]
  },
  {
   "cell_type": "code",
   "execution_count": 67,
   "metadata": {},
   "outputs": [
    {
     "data": {
      "text/html": [
       "<div>\n",
       "<style scoped>\n",
       "    .dataframe tbody tr th:only-of-type {\n",
       "        vertical-align: middle;\n",
       "    }\n",
       "\n",
       "    .dataframe tbody tr th {\n",
       "        vertical-align: top;\n",
       "    }\n",
       "\n",
       "    .dataframe thead th {\n",
       "        text-align: right;\n",
       "    }\n",
       "</style>\n",
       "<table border=\"1\" class=\"dataframe\">\n",
       "  <thead>\n",
       "    <tr style=\"text-align: right;\">\n",
       "      <th></th>\n",
       "      <th>code</th>\n",
       "      <th>r</th>\n",
       "      <th>g</th>\n",
       "      <th>b</th>\n",
       "      <th>text</th>\n",
       "    </tr>\n",
       "    <tr>\n",
       "      <th>text</th>\n",
       "      <th></th>\n",
       "      <th></th>\n",
       "      <th></th>\n",
       "      <th></th>\n",
       "      <th></th>\n",
       "    </tr>\n",
       "  </thead>\n",
       "  <tbody>\n",
       "    <tr>\n",
       "      <th>Heavy Snow</th>\n",
       "      <td>1</td>\n",
       "      <td>253</td>\n",
       "      <td>244</td>\n",
       "      <td>63</td>\n",
       "      <td>Heavy Snow</td>\n",
       "    </tr>\n",
       "    <tr>\n",
       "      <th>Small Craft Advisory</th>\n",
       "      <td>1.1</td>\n",
       "      <td>152</td>\n",
       "      <td>123</td>\n",
       "      <td>93</td>\n",
       "      <td>Small Craft Advisory</td>\n",
       "    </tr>\n",
       "    <tr>\n",
       "      <th>Wind Advisory</th>\n",
       "      <td>1.1</td>\n",
       "      <td>245</td>\n",
       "      <td>159</td>\n",
       "      <td>245</td>\n",
       "      <td>Wind Advisory</td>\n",
       "    </tr>\n",
       "    <tr>\n",
       "      <th>Wind Chill Advisory</th>\n",
       "      <td>1.11</td>\n",
       "      <td>132</td>\n",
       "      <td>90</td>\n",
       "      <td>156</td>\n",
       "      <td>Wind Chill Advisory</td>\n",
       "    </tr>\n",
       "    <tr>\n",
       "      <th>Blizzard Warning</th>\n",
       "      <td>1.1.1</td>\n",
       "      <td>255</td>\n",
       "      <td>255</td>\n",
       "      <td>213</td>\n",
       "      <td>Blizzard Warning</td>\n",
       "    </tr>\n",
       "  </tbody>\n",
       "</table>\n",
       "</div>"
      ],
      "text/plain": [
       "                       code    r    g    b                  text\n",
       "text                                                            \n",
       "Heavy Snow                1  253  244   63            Heavy Snow\n",
       "Small Craft Advisory    1.1  152  123   93  Small Craft Advisory\n",
       "Wind Advisory           1.1  245  159  245         Wind Advisory\n",
       "Wind Chill Advisory    1.11  132   90  156   Wind Chill Advisory\n",
       "Blizzard Warning      1.1.1  255  255  213      Blizzard Warning"
      ]
     },
     "execution_count": 67,
     "metadata": {},
     "output_type": "execute_result"
    }
   ],
   "source": [
    "colors = pd.read_csv('../../source/color_data.txt', delimiter='\\t')\n",
    "#colors.index = colors.text.str.lower()\n",
    "colors.index = colors.text\n",
    "colors.replace('-', '')\n",
    "colors.head()"
   ]
  },
  {
   "cell_type": "code",
   "execution_count": 81,
   "metadata": {},
   "outputs": [
    {
     "data": {
      "text/html": [
       "<div>\n",
       "<style scoped>\n",
       "    .dataframe tbody tr th:only-of-type {\n",
       "        vertical-align: middle;\n",
       "    }\n",
       "\n",
       "    .dataframe tbody tr th {\n",
       "        vertical-align: top;\n",
       "    }\n",
       "\n",
       "    .dataframe thead th {\n",
       "        text-align: right;\n",
       "    }\n",
       "</style>\n",
       "<table border=\"1\" class=\"dataframe\">\n",
       "  <thead>\n",
       "    <tr style=\"text-align: right;\">\n",
       "      <th></th>\n",
       "      <th>code</th>\n",
       "      <th>r</th>\n",
       "      <th>g</th>\n",
       "      <th>b</th>\n",
       "      <th>text</th>\n",
       "      <th>hex</th>\n",
       "    </tr>\n",
       "    <tr>\n",
       "      <th>text</th>\n",
       "      <th></th>\n",
       "      <th></th>\n",
       "      <th></th>\n",
       "      <th></th>\n",
       "      <th></th>\n",
       "      <th></th>\n",
       "    </tr>\n",
       "  </thead>\n",
       "  <tbody>\n",
       "    <tr>\n",
       "      <th>Heavy Snow</th>\n",
       "      <td>1</td>\n",
       "      <td>253</td>\n",
       "      <td>244</td>\n",
       "      <td>63</td>\n",
       "      <td>Heavy Snow</td>\n",
       "      <td>#fdf43f</td>\n",
       "    </tr>\n",
       "    <tr>\n",
       "      <th>Small Craft Advisory</th>\n",
       "      <td>1.1</td>\n",
       "      <td>152</td>\n",
       "      <td>123</td>\n",
       "      <td>93</td>\n",
       "      <td>Small Craft Advisory</td>\n",
       "      <td>#987b5d</td>\n",
       "    </tr>\n",
       "    <tr>\n",
       "      <th>Wind Advisory</th>\n",
       "      <td>1.1</td>\n",
       "      <td>245</td>\n",
       "      <td>159</td>\n",
       "      <td>245</td>\n",
       "      <td>Wind Advisory</td>\n",
       "      <td>#f59ff5</td>\n",
       "    </tr>\n",
       "    <tr>\n",
       "      <th>Wind Chill Advisory</th>\n",
       "      <td>1.11</td>\n",
       "      <td>132</td>\n",
       "      <td>90</td>\n",
       "      <td>156</td>\n",
       "      <td>Wind Chill Advisory</td>\n",
       "      <td>#845a9c</td>\n",
       "    </tr>\n",
       "    <tr>\n",
       "      <th>Blizzard Warning</th>\n",
       "      <td>1.1.1</td>\n",
       "      <td>255</td>\n",
       "      <td>255</td>\n",
       "      <td>213</td>\n",
       "      <td>Blizzard Warning</td>\n",
       "      <td>#ffffd5</td>\n",
       "    </tr>\n",
       "  </tbody>\n",
       "</table>\n",
       "</div>"
      ],
      "text/plain": [
       "                       code    r    g    b                  text      hex\n",
       "text                                                                     \n",
       "Heavy Snow                1  253  244   63            Heavy Snow  #fdf43f\n",
       "Small Craft Advisory    1.1  152  123   93  Small Craft Advisory  #987b5d\n",
       "Wind Advisory           1.1  245  159  245         Wind Advisory  #f59ff5\n",
       "Wind Chill Advisory    1.11  132   90  156   Wind Chill Advisory  #845a9c\n",
       "Blizzard Warning      1.1.1  255  255  213      Blizzard Warning  #ffffd5"
      ]
     },
     "execution_count": 81,
     "metadata": {},
     "output_type": "execute_result"
    }
   ],
   "source": [
    "# Add the hex number to the table, just as an example of editing data\n",
    "\n",
    "colors['hex'] = colors.apply(lambda row: '#%02x%02x%02x' % (row.r,row.g,row.b), axis=1)\n",
    "colors.head(5)"
   ]
  },
  {
   "cell_type": "code",
   "execution_count": 69,
   "metadata": {},
   "outputs": [
    {
     "data": {
      "text/plain": [
       "['#fdf43f', '#987b5d', '#f59ff5', '#845a9c', '#ffffd5', '#ecb400']"
      ]
     },
     "execution_count": 69,
     "metadata": {},
     "output_type": "execute_result"
    }
   ],
   "source": [
    "# list out the unique hex values used in this file\n",
    "['#%02x%02x%02x' % (colors.r[i],colors.g[i],colors.b[i]) for i,_ in enumerate(colors)]"
   ]
  },
  {
   "cell_type": "code",
   "execution_count": 70,
   "metadata": {},
   "outputs": [],
   "source": [
    "def generate_color_txt():\n",
    "    path=\"../../source/\"\n",
    "    colors = pd.read_csv(f'{path}color_data.txt', delimiter='\\t')\n",
    "    colors.index = colors.text\n",
    "    colors.replace('-', '')\n",
    "    colors['hex'] = colors.apply(lambda row: '#%02x%02x%02x' % (row.r,row.g,row.b), axis=1)\n",
    "    return(colors)"
   ]
  },
  {
   "cell_type": "markdown",
   "metadata": {},
   "source": [
    "### Interpolate unique hazards to colors in predefined csv file"
   ]
  },
  {
   "cell_type": "code",
   "execution_count": 71,
   "metadata": {},
   "outputs": [],
   "source": [
    "style_function = lambda x: {'fillColor': colors.loc[x['PROD_TYPE']],\n",
    "                                'opacity': 0, \n",
    "                                'fillOpacity': .85,\n",
    "                               }"
   ]
  },
  {
   "cell_type": "code",
   "execution_count": 78,
   "metadata": {
    "scrolled": false
   },
   "outputs": [
    {
     "name": "stderr",
     "output_type": "stream",
     "text": [
      "/Users/chowdahead/anaconda3/envs/advanced_plotting/lib/python3.7/site-packages/pyproj/crs.py:77: FutureWarning: '+init=<authority>:<code>' syntax is deprecated. '<authority>:<code>' is the preferred initialization method.\n",
      "  return _prepare_from_string(\" \".join(pjargs))\n"
     ]
    },
    {
     "name": "stdout",
     "output_type": "stream",
     "text": [
      "CPU times: user 8.16 s, sys: 1.61 s, total: 9.77 s\n",
      "Wall time: 10.8 s\n"
     ]
    }
   ],
   "source": [
    "%%time\n",
    "\n",
    "colors = pd.read_csv('../../source/color_data.txt', delimiter='\\t')\n",
    "#colors.index = colors.text.str.lower()\n",
    "colors.index = colors.text\n",
    "colors.replace('-', '')\n",
    "colors = generate_color_txt()\n",
    "\n",
    "\n",
    "#hazmap = folium.Map(location=[39.8283, -98.5795], tiles='Stamen Terrain', zoom_start=4)\n",
    "hazmap = folium.Map(location=[42, -95.5795], tiles='CartoDB', zoom_start=4,attr=\"<a href=https://github.com/MethaneRain/>https://github.com/MethaneRain</a>\")\n",
    "\n",
    "# Create feature group to add to folium.Map object\n",
    "layer = folium.FeatureGroup(name='Hazards', show=False)\n",
    "\n",
    "# load GEOJSON, but don't add it to anything\n",
    "temp_geojson = folium.GeoJson(hazshp)\n",
    "\n",
    "style_function = lambda x: {'fillColor': colors.loc[x['properties']['PROD_TYPE']]['hex'],\n",
    "                                'opacity': 1., \n",
    "                                'fillOpacity': .65,\n",
    "                                'color': '#000000',\n",
    "                                 \"weight\": 1.\n",
    "                               }\n",
    "\n",
    "# iterate over GEOJSON, style individual features, and add them to FeatureGroup\n",
    "for i,feature in enumerate(temp_geojson.data['features']):\n",
    "    # GEOJSON layer consisting of a single feature\n",
    "   \n",
    "    temp_layer = folium.GeoJson(feature,\n",
    "                               #style_function=style\n",
    "                               #style_function=lambda x:style\n",
    "                               style_function=style_function,\n",
    "                               )\n",
    "    # lambda to add HTML\n",
    "    #foo = lambda name, source: f\"\"\"\n",
    "    #    <iframe id=\"popupIFrame\"\n",
    "    #        title=\"{name}\"\n",
    "    #        width=\"600\"\n",
    "    #        height=\"500\"\n",
    "    #        align=\"center\"\n",
    "    #        src=\"{source}\">\n",
    "    #    </iframe>\n",
    "    #    \"\"\"\n",
    "    \n",
    "    # Create html inside the popup\n",
    "    # ------------------------------\n",
    "    foo = lambda prod,wfo,iss,exp: f\"\"\"\n",
    "            <div>\n",
    "            <h5>NWS Hazards</h5><hr>\n",
    "                <p>\n",
    "                    {prod}\n",
    "                </p>\n",
    "                <p>\n",
    "                    {wfo}\n",
    "                </p>\n",
    "                <p>\n",
    "                    {iss}\n",
    "                </p>\n",
    "                <p>\n",
    "                    {exp}\n",
    "                </p>\n",
    "            </div>\n",
    "        \n",
    "        \"\"\"\n",
    "    \n",
    "    html=foo(f\"Hazard - {feature['properties']['PROD_TYPE']}\",\n",
    "            f\"WFO - {feature['properties']['WFO']}\",\n",
    "            f\"Issuance - {feature['properties']['ISSUANCE'][:-9].replace('T',' ')}\",\n",
    "            f\"Expires - {feature['properties']['EXPIRATION'][:-9].replace('T',' ')}\")\n",
    "    \n",
    "    \n",
    "    # create popup and add it to the singular feature\n",
    "    # -----------------------------------------------\n",
    "    folium.Popup(\n",
    "        html=html,max_width=2650\n",
    "    ).add_to(temp_layer)\n",
    "   \n",
    "    # consolidate individual features back into the main layer\n",
    "    temp_layer.add_to(layer)\n",
    "\n",
    "# add main layer to folium.Map object\n",
    "layer.add_to(hazmap)\n",
    "\n",
    "folium.Figure.save(hazmap,outfile=f\"../../../images/WPC_hazards_2021_08_11_CartoDB.html\")"
   ]
  },
  {
   "cell_type": "markdown",
   "metadata": {},
   "source": [
    "---"
   ]
  },
  {
   "cell_type": "markdown",
   "metadata": {},
   "source": [
    "### Single Hazard Plot Only"
   ]
  },
  {
   "cell_type": "code",
   "execution_count": 108,
   "metadata": {},
   "outputs": [],
   "source": [
    "haz = \"Severe Thunderstorm Warning\"\n",
    "haz_ext = \"TStormWarm\""
   ]
  },
  {
   "cell_type": "code",
   "execution_count": 105,
   "metadata": {},
   "outputs": [
    {
     "data": {
      "text/html": [
       "<div>\n",
       "<style scoped>\n",
       "    .dataframe tbody tr th:only-of-type {\n",
       "        vertical-align: middle;\n",
       "    }\n",
       "\n",
       "    .dataframe tbody tr th {\n",
       "        vertical-align: top;\n",
       "    }\n",
       "\n",
       "    .dataframe thead th {\n",
       "        text-align: right;\n",
       "    }\n",
       "</style>\n",
       "<table border=\"1\" class=\"dataframe\">\n",
       "  <thead>\n",
       "    <tr style=\"text-align: right;\">\n",
       "      <th></th>\n",
       "      <th>CAP_ID</th>\n",
       "      <th>VTEC</th>\n",
       "      <th>PHENOM</th>\n",
       "      <th>SIG</th>\n",
       "      <th>WFO</th>\n",
       "      <th>EVENT</th>\n",
       "      <th>ISSUANCE</th>\n",
       "      <th>EXPIRATION</th>\n",
       "      <th>ONSET</th>\n",
       "      <th>ENDS</th>\n",
       "      <th>URL</th>\n",
       "      <th>MSG_TYPE</th>\n",
       "      <th>PROD_TYPE</th>\n",
       "      <th>geometry</th>\n",
       "    </tr>\n",
       "  </thead>\n",
       "  <tbody>\n",
       "    <tr>\n",
       "      <th>2</th>\n",
       "      <td>urn:oid:2.49.0.1.840.0.67015f6870353e5398ff0fc...</td>\n",
       "      <td>/O.EXP.KLUB.SV.W.0255.000000T0000Z-210801T0845Z/</td>\n",
       "      <td>SV</td>\n",
       "      <td>W</td>\n",
       "      <td>KLUB</td>\n",
       "      <td>0255</td>\n",
       "      <td>2021-08-01T03:35:00-05:00</td>\n",
       "      <td>2021-08-01T03:45:00-05:00</td>\n",
       "      <td>2021-08-01T03:35:00-05:00</td>\n",
       "      <td>2021-08-01T03:45:00-05:00</td>\n",
       "      <td>https://alerts-v2.weather.gov/#/?id=urn:oid:2....</td>\n",
       "      <td>SVS</td>\n",
       "      <td>Severe Thunderstorm Warning</td>\n",
       "      <td>POLYGON ((-101.85000 33.00000, -101.79000 33.0...</td>\n",
       "    </tr>\n",
       "    <tr>\n",
       "      <th>22</th>\n",
       "      <td>urn:oid:2.49.0.1.840.0.0307a0cf55d2c9206ccfae7...</td>\n",
       "      <td>/O.NEW.KGSP.SV.W.0080.210801T0831Z-210801T0915Z/</td>\n",
       "      <td>SV</td>\n",
       "      <td>W</td>\n",
       "      <td>KGSP</td>\n",
       "      <td>0080</td>\n",
       "      <td>2021-08-01T04:31:00-04:00</td>\n",
       "      <td>2021-08-01T05:15:00-04:00</td>\n",
       "      <td>2021-08-01T04:31:00-04:00</td>\n",
       "      <td>2021-08-01T05:15:00-04:00</td>\n",
       "      <td>https://alerts-v2.weather.gov/#/?id=urn:oid:2....</td>\n",
       "      <td>SVR</td>\n",
       "      <td>Severe Thunderstorm Warning</td>\n",
       "      <td>POLYGON ((-80.98000 35.92000, -81.02000 36.050...</td>\n",
       "    </tr>\n",
       "  </tbody>\n",
       "</table>\n",
       "</div>"
      ],
      "text/plain": [
       "                                               CAP_ID  \\\n",
       "2   urn:oid:2.49.0.1.840.0.67015f6870353e5398ff0fc...   \n",
       "22  urn:oid:2.49.0.1.840.0.0307a0cf55d2c9206ccfae7...   \n",
       "\n",
       "                                                VTEC PHENOM SIG   WFO EVENT  \\\n",
       "2   /O.EXP.KLUB.SV.W.0255.000000T0000Z-210801T0845Z/     SV   W  KLUB  0255   \n",
       "22  /O.NEW.KGSP.SV.W.0080.210801T0831Z-210801T0915Z/     SV   W  KGSP  0080   \n",
       "\n",
       "                     ISSUANCE                 EXPIRATION  \\\n",
       "2   2021-08-01T03:35:00-05:00  2021-08-01T03:45:00-05:00   \n",
       "22  2021-08-01T04:31:00-04:00  2021-08-01T05:15:00-04:00   \n",
       "\n",
       "                        ONSET                       ENDS  \\\n",
       "2   2021-08-01T03:35:00-05:00  2021-08-01T03:45:00-05:00   \n",
       "22  2021-08-01T04:31:00-04:00  2021-08-01T05:15:00-04:00   \n",
       "\n",
       "                                                  URL MSG_TYPE  \\\n",
       "2   https://alerts-v2.weather.gov/#/?id=urn:oid:2....      SVS   \n",
       "22  https://alerts-v2.weather.gov/#/?id=urn:oid:2....      SVR   \n",
       "\n",
       "                      PROD_TYPE  \\\n",
       "2   Severe Thunderstorm Warning   \n",
       "22  Severe Thunderstorm Warning   \n",
       "\n",
       "                                             geometry  \n",
       "2   POLYGON ((-101.85000 33.00000, -101.79000 33.0...  \n",
       "22  POLYGON ((-80.98000 35.92000, -81.02000 36.050...  "
      ]
     },
     "execution_count": 105,
     "metadata": {},
     "output_type": "execute_result"
    }
   ],
   "source": [
    "single_haz = hazshp[hazshp.PROD_TYPE.isin([haz])]\n",
    "single_haz.head()"
   ]
  },
  {
   "cell_type": "code",
   "execution_count": 109,
   "metadata": {},
   "outputs": [
    {
     "name": "stdout",
     "output_type": "stream",
     "text": [
      "CPU times: user 125 ms, sys: 21.6 ms, total: 147 ms\n",
      "Wall time: 150 ms\n"
     ]
    },
    {
     "name": "stderr",
     "output_type": "stream",
     "text": [
      "/Users/chowdahead/anaconda3/envs/advanced_plotting/lib/python3.7/site-packages/pyproj/crs.py:77: FutureWarning: '+init=<authority>:<code>' syntax is deprecated. '<authority>:<code>' is the preferred initialization method.\n",
      "  return _prepare_from_string(\" \".join(pjargs))\n"
     ]
    }
   ],
   "source": [
    "%%time\n",
    "\n",
    "colors = pd.read_csv('../../source/color_data.txt', delimiter='\\t')\n",
    "#colors.index = colors.text.str.lower()\n",
    "colors.index = colors.text\n",
    "colors.replace('-', '')\n",
    "colors = generate_color_txt()\n",
    "\n",
    "\n",
    "hazmap = folium.Map(location=[42, -95], tiles='Stamen Terrain', zoom_start=4)\n",
    "#hazmap = folium.Map(location=[39.8283, -98.5795], tiles='Stamen Terrain', zoom_start=4)\n",
    "#hazmap = folium.Map(location=[42, -95.5795], tiles='CartoDB', zoom_start=4,attr=\"<a href=https://github.com/MethaneRain/>https://github.com/MethaneRain</a>\")\n",
    "\n",
    "# Create feature group to add to folium.Map object\n",
    "layer = folium.FeatureGroup(name='Hazards', show=False)\n",
    "\n",
    "# load GEOJSON, but don't add it to anything\n",
    "temp_geojson = folium.GeoJson(single_haz)\n",
    "\n",
    "style_function = lambda x: {'fillColor': colors.loc[x['properties']['PROD_TYPE']]['hex'],\n",
    "                                'opacity': 1., \n",
    "                                'fillOpacity': .65,\n",
    "                                'color': '#000000',\n",
    "                                 \"weight\": 1.\n",
    "                               }\n",
    "\n",
    "# iterate over GEOJSON, style individual features, and add them to FeatureGroup\n",
    "for i,feature in enumerate(temp_geojson.data['features']):\n",
    "    # GEOJSON layer consisting of a single feature\n",
    "   \n",
    "    temp_layer = folium.GeoJson(feature,\n",
    "                               #style_function=style\n",
    "                               #style_function=lambda x:style\n",
    "                               style_function=style_function,\n",
    "                               )\n",
    "    # lambda to add HTML\n",
    "    #foo = lambda name, source: f\"\"\"\n",
    "    #    <iframe id=\"popupIFrame\"\n",
    "    #        title=\"{name}\"\n",
    "    #        width=\"600\"\n",
    "    #        height=\"500\"\n",
    "    #        align=\"center\"\n",
    "    #        src=\"{source}\">\n",
    "    #    </iframe>\n",
    "    #    \"\"\"\n",
    "    \n",
    "    # Create html inside the popup\n",
    "    # ------------------------------\n",
    "    foo = lambda prod,wfo,iss,exp: f\"\"\"\n",
    "            <div>\n",
    "            <h5>NWS Hazards</h5><hr>\n",
    "                <p>\n",
    "                    {prod}\n",
    "                </p>\n",
    "                <p>\n",
    "                    {wfo}\n",
    "                </p>\n",
    "                <p>\n",
    "                    {iss}\n",
    "                </p>\n",
    "                <p>\n",
    "                    {exp}\n",
    "                </p>\n",
    "            </div>\n",
    "        \n",
    "        \"\"\"\n",
    "    \n",
    "    html=foo(f\"Hazard - {feature['properties']['PROD_TYPE']}\",\n",
    "            f\"WFO - {feature['properties']['WFO']}\",\n",
    "            f\"Issuance - {feature['properties']['ISSUANCE'][:-9].replace('T',' ')}\",\n",
    "            f\"Expires - {feature['properties']['EXPIRATION'][:-9].replace('T',' ')}\")\n",
    "    \n",
    "    \n",
    "    # create popup and add it to the singular feature\n",
    "    # -----------------------------------------------\n",
    "    folium.Popup(\n",
    "        html=html,max_width=2650\n",
    "    ).add_to(temp_layer)\n",
    "   \n",
    "    # consolidate individual features back into the main layer\n",
    "    temp_layer.add_to(layer)\n",
    "\n",
    "# add main layer to folium.Map object\n",
    "layer.add_to(hazmap)\n",
    "\n",
    "folium.Figure.save(hazmap,outfile=f\"../../../images/WPC_hazards_{haz_ext}_2021_08_11.html\")"
   ]
  },
  {
   "cell_type": "code",
   "execution_count": null,
   "metadata": {},
   "outputs": [],
   "source": []
  }
 ],
 "metadata": {
  "kernelspec": {
   "display_name": "Python 3",
   "language": "python",
   "name": "python3"
  },
  "language_info": {
   "codemirror_mode": {
    "name": "ipython",
    "version": 3
   },
   "file_extension": ".py",
   "mimetype": "text/x-python",
   "name": "python",
   "nbconvert_exporter": "python",
   "pygments_lexer": "ipython3",
   "version": "3.7.6"
  }
 },
 "nbformat": 4,
 "nbformat_minor": 2
}
